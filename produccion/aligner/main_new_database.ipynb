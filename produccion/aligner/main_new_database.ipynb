{
 "cells": [
  {
   "cell_type": "code",
   "execution_count": null,
   "metadata": {},
   "outputs": [],
   "source": [
    "import tifffile\n",
    "import numpy as np\n",
    "from tqdm import tqdm\n",
    "from pathlib import Path\n",
    "import os\n",
    "import pandas as pd\n",
    "import sys\n",
    "sys.path.append(r'\\\\192.168.10.106\\imdea\\DataDriven_UT_AlbertoVicente\\10_code\\UTvsXCT-preprocessing')\n",
    "from dbtools import dbtools as db\n",
    "from dbtools import load\n",
    "from preprocess_tools import io, aligner, reslicer"
   ]
  },
  {
   "cell_type": "markdown",
   "metadata": {},
   "source": [
    "# Database conection"
   ]
  },
  {
   "cell_type": "code",
   "execution_count": null,
   "metadata": {},
   "outputs": [],
   "source": [
    "try:\n",
    "    conn = db.connect()\n",
    "    print(\"Connected to the database\")\n",
    "except Exception as error:\n",
    "    print(error)"
   ]
  },
  {
   "cell_type": "markdown",
   "metadata": {},
   "source": [
    "# Measurements file paths"
   ]
  },
  {
   "cell_type": "markdown",
   "metadata": {},
   "source": [
    "List of paths to the XCT measurements you aim to align"
   ]
  },
  {
   "cell_type": "code",
   "execution_count": null,
   "metadata": {},
   "outputs": [],
   "source": [
    "paths = [Path(r'\\\\192.168.10.106\\imdea\\DataDriven_UT_AlbertoVicente\\02_XCT_data\\Airbus\\Panel Pegaso\\probetas\\1\\14\\volume_eq'),\n",
    "         Path(r'\\\\192.168.10.106\\imdea\\DataDriven_UT_AlbertoVicente\\02_XCT_data\\Airbus\\Panel Pegaso\\probetas\\1\\15\\volume_eq'),\n",
    "         Path(r'\\\\192.168.10.106\\imdea\\DataDriven_UT_AlbertoVicente\\02_XCT_data\\Airbus\\Panel Pegaso\\probetas\\1\\16\\volume_eq'),\n",
    "         Path(r'\\\\192.168.10.106\\imdea\\DataDriven_UT_AlbertoVicente\\02_XCT_data\\Airbus\\Panel Pegaso\\probetas\\1\\17\\volume_eq'),\n",
    "         Path(r'\\\\192.168.10.106\\imdea\\DataDriven_UT_AlbertoVicente\\02_XCT_data\\Airbus\\Panel Pegaso\\probetas\\1\\21\\volume_eq'),\n",
    "         Path(r'\\\\192.168.10.106\\imdea\\DataDriven_UT_AlbertoVicente\\02_XCT_data\\Airbus\\Panel Pegaso\\probetas\\1\\22\\volume_eq'),\n",
    "         Path(r'\\\\192.168.10.106\\imdea\\DataDriven_UT_AlbertoVicente\\02_XCT_data\\Airbus\\Panel Pegaso\\probetas\\1\\23\\volume_eq'),\n",
    "         Path(r'\\\\192.168.10.106\\imdea\\DataDriven_UT_AlbertoVicente\\02_XCT_data\\Airbus\\Panel Pegaso\\probetas\\1\\24\\volume_eq')]\n",
    "\n",
    "#check that the paths exist\n",
    "for path in paths:\n",
    "    if not path.exists():\n",
    "        print(f\"Path {path} does not exist\")"
   ]
  },
  {
   "cell_type": "markdown",
   "metadata": {},
   "source": [
    "# Measurement type id"
   ]
  },
  {
   "cell_type": "markdown",
   "metadata": {},
   "source": [
    "Get the measurement id of each measurement"
   ]
  },
  {
   "cell_type": "code",
   "execution_count": null,
   "metadata": {},
   "outputs": [],
   "source": [
    "measurements_table = db.get_data('measurements')\n",
    "\n",
    "measurmenttype_ids = []\n",
    "\n",
    "for path in paths:\n",
    "    row = measurements_table[measurements_table['file_path_measurement'] == str(path)]\n",
    "    if not row.empty:\n",
    "        measurmenttype_ids.append(int(row['measurementtype_id_measurement'].values[0]))\n",
    "    else:\n",
    "        print(f\"Measurement not found for path: {path}\")\n",
    "\n",
    "print(\"Measurement type ids:\", measurmenttype_ids)"
   ]
  },
  {
   "cell_type": "markdown",
   "metadata": {},
   "source": [
    "# Sample names"
   ]
  },
  {
   "cell_type": "markdown",
   "metadata": {},
   "source": [
    "Get the samples names in the measurements"
   ]
  },
  {
   "cell_type": "code",
   "execution_count": null,
   "metadata": {},
   "outputs": [],
   "source": [
    "measurements_samples_table = db.relation_metadata('samples','measurements','sample_measurements')\n",
    "\n",
    "measurements_samples_table"
   ]
  },
  {
   "cell_type": "code",
   "execution_count": null,
   "metadata": {},
   "outputs": [],
   "source": [
    "\n",
    "sample_names = []\n",
    "\n",
    "for path in paths:\n",
    "    sub_table = measurements_samples_table[measurements_samples_table['file_path_measurement'] == str(path)]\n",
    "    if not sub_table.empty:\n",
    "        sample_names.append(sub_table['name_sample'].values)\n",
    "    else:\n",
    "        print(f\"Measurement not found for path: {path}\")\n",
    "\n",
    "print(\"Measurement sample names:\", sample_names)"
   ]
  },
  {
   "cell_type": "markdown",
   "metadata": {},
   "source": [
    "# Alignment and saving"
   ]
  },
  {
   "cell_type": "markdown",
   "metadata": {},
   "source": [
    "Loop that loads each measurement, aligns the volume and loads it in the database."
   ]
  },
  {
   "cell_type": "code",
   "execution_count": null,
   "metadata": {},
   "outputs": [],
   "source": [
    "for i, path in enumerate(paths):\n",
    "    print(f\"Processing {path} with measurement type id {measurmenttype_ids[i]}\")\n",
    "    \n",
    "    # Load the data\n",
    "    volume = io.load_tif(path)\n",
    "    \n",
    "    # Align the volume\n",
    "    volume = aligner.main(volume)\n",
    "\n",
    "    #reslice to frontal \n",
    "    volume = reslicer.rotate_90(volume, clockwise=True)\n",
    "    volume = reslicer.reslice(volume,'Top')\n",
    "    \n",
    "    # Save the aligned volume as .tif if is less than 4GB if its more as a folder\n",
    "    if volume.nbytes < 4 * 1024**3:  # Check if the size is less than 4GB\n",
    "        aligned_path = path.parent / f\"{path.name}_aligned.tif\"\n",
    "        file_type = 'tif'\n",
    "    else:\n",
    "        # Save as a folder\n",
    "        aligned_path = path.parent / f\"{path.name}_aligned\"\n",
    "        if not aligned_path.exists():\n",
    "            aligned_path.mkdir(parents=True, exist_ok=True)\n",
    "        file_type = 'tif folder'\n",
    "    \n",
    "    print(f\"Saving aligned volume to {aligned_path}\")\n",
    "\n",
    "    io.save_tif(aligned_path,volume)\n",
    "\n",
    "    #data for the database\n",
    "\n",
    "    height, width, depth = volume.shape\n",
    "\n",
    "    dtype = str(volume.dtype)\n",
    "\n",
    "    samples = list(sample_names[i])\n",
    "\n",
    "    equalized = True\n",
    "\n",
    "    transformation = 'Frontwall aligned with axes, rotated 90 degrees clockwise and resliced Top. Done UTVSCT-PREPROCESING toolkit 0.1.14, aligner.main function used.'\n",
    "\n",
    "    print(f\"Inserting measurement for path {aligned_path} with type {file_type}, height {height}, width {width}, depth {depth}, dtype {dtype}, samples {samples}, equalized {equalized}, transformation {transformation}\")\n",
    "\n",
    "    # Save the aligned volume in the database\n",
    "    inserted_id = load.load_xct_measurement(conn,str(aligned_path),measurmenttype_ids[i],height,width,depth,dtype,file_type,samples,True, equalized,['z','y','x'],str(path),transformation)\n",
    "\n",
    "    print(f\"Inserted measurement with id {inserted_id} for path {aligned_path}\")"
   ]
  }
 ],
 "metadata": {
  "kernelspec": {
   "display_name": "prepUTvsXCT",
   "language": "python",
   "name": "python3"
  },
  "language_info": {
   "codemirror_mode": {
    "name": "ipython",
    "version": 3
   },
   "file_extension": ".py",
   "mimetype": "text/x-python",
   "name": "python",
   "nbconvert_exporter": "python",
   "pygments_lexer": "ipython3",
   "version": "3.13.2"
  }
 },
 "nbformat": 4,
 "nbformat_minor": 2
}
