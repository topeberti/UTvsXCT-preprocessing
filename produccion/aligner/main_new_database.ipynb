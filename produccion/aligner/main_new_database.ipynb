{
 "cells": [
  {
   "cell_type": "code",
   "execution_count": null,
   "metadata": {},
   "outputs": [],
   "source": [
    "import tifffile\n",
    "import numpy as np\n",
    "from tqdm import tqdm\n",
    "from pathlib import Path\n",
    "import os\n",
    "import pandas as pd\n",
    "import sys\n",
    "sys.path.append(r'\\\\192.168.10.106\\imdea\\DataDriven_UT_AlbertoVicente\\10_code\\UTvsXCT-preprocessing')\n",
    "import dbtools as db\n",
    "from preprocess_tools import io, aligner, reslicer"
   ]
  },
  {
   "cell_type": "markdown",
   "metadata": {},
   "source": [
    "# Database conection"
   ]
  },
  {
   "cell_type": "code",
   "execution_count": 2,
   "metadata": {},
   "outputs": [
    {
     "name": "stdout",
     "output_type": "stream",
     "text": [
      "Connected to the database\n"
     ]
    }
   ],
   "source": [
    "try:\n",
    "    conn = db.connect()\n",
    "    print(\"Connected to the database\")\n",
    "except Exception as error:\n",
    "    print(error)"
   ]
  },
  {
   "cell_type": "markdown",
   "metadata": {},
   "source": [
    "# Data retrieval"
   ]
  },
  {
   "cell_type": "markdown",
   "metadata": {},
   "source": [
    "We have to load the data from the database to get:\n",
    "\n",
    "1. The file ids to use them as parent measurement"
   ]
  },
  {
   "cell_type": "markdown",
   "metadata": {},
   "source": [
    "## Measurements file paths"
   ]
  },
  {
   "cell_type": "code",
   "execution_count": 3,
   "metadata": {},
   "outputs": [
    {
     "name": "stdout",
     "output_type": "stream",
     "text": [
      "Original path: \\\\192.168.10.106\\imdea\\DataDriven_UT_AlbertoVicente\\02_XCT_data\\Juan Ignacio\\probetas\\4\\volume_eq_rotated, ID: 60 Measurement type ID: 2 Sample name: JI_4\n",
      "Original path: \\\\192.168.10.106\\imdea\\DataDriven_UT_AlbertoVicente\\02_XCT_data\\Juan Ignacio\\probetas\\5\\volume_eq_rotated, ID: 61 Measurement type ID: 2 Sample name: JI_5\n",
      "Original path: \\\\192.168.10.106\\imdea\\DataDriven_UT_AlbertoVicente\\02_XCT_data\\Juan Ignacio\\probetas\\7\\volume_eq, ID: 28 Measurement type ID: 2 Sample name: JI_7\n",
      "Original path: \\\\192.168.10.106\\imdea\\DataDriven_UT_AlbertoVicente\\02_XCT_data\\Juan Ignacio\\probetas\\8\\volume_eq, ID: 29 Measurement type ID: 2 Sample name: JI_8\n",
      "Original path: \\\\192.168.10.106\\imdea\\DataDriven_UT_AlbertoVicente\\02_XCT_data\\Juan Ignacio\\probetas\\10\\volume_eq, ID: 31 Measurement type ID: 2 Sample name: JI_10\n",
      "Original path: \\\\192.168.10.106\\imdea\\DataDriven_UT_AlbertoVicente\\02_XCT_data\\Juan Ignacio\\probetas\\11\\volume_eq, ID: 32 Measurement type ID: 2 Sample name: JI_11\n",
      "Original path: \\\\192.168.10.106\\imdea\\DataDriven_UT_AlbertoVicente\\02_XCT_data\\Juan Ignacio\\probetas\\12\\volume_eq, ID: 33 Measurement type ID: 2 Sample name: JI_12\n"
     ]
    }
   ],
   "source": [
    "original_paths = [Path(r'\\\\192.168.10.106\\imdea\\DataDriven_UT_AlbertoVicente\\02_XCT_data\\Juan Ignacio\\probetas\\4\\volume_eq_rotated'),\n",
    "                  Path(r'\\\\192.168.10.106\\imdea\\DataDriven_UT_AlbertoVicente\\02_XCT_data\\Juan Ignacio\\probetas\\5\\volume_eq_rotated'),\n",
    "                  Path(r'\\\\192.168.10.106\\imdea\\DataDriven_UT_AlbertoVicente\\02_XCT_data\\Juan Ignacio\\probetas\\7\\volume_eq'),\n",
    "                  Path(r'\\\\192.168.10.106\\imdea\\DataDriven_UT_AlbertoVicente\\02_XCT_data\\Juan Ignacio\\probetas\\8\\volume_eq'),\n",
    "                  Path(r'\\\\192.168.10.106\\imdea\\DataDriven_UT_AlbertoVicente\\02_XCT_data\\Juan Ignacio\\probetas\\10\\volume_eq'),\n",
    "                  Path(r'\\\\192.168.10.106\\imdea\\DataDriven_UT_AlbertoVicente\\02_XCT_data\\Juan Ignacio\\probetas\\11\\volume_eq'),\n",
    "                  Path(r'\\\\192.168.10.106\\imdea\\DataDriven_UT_AlbertoVicente\\02_XCT_data\\Juan Ignacio\\probetas\\12\\volume_eq')]\n",
    "\n",
    "measurements_table = db.relation_metadata('measurements','samples','sample_measurements')\n",
    "\n",
    "parent_id_column = 'measurementtype_id_measurement'\n",
    "\n",
    "# for each original path, get the id_measurement where file_path_measurement is equal to the str of the original path\n",
    "\n",
    "original_ids = []\n",
    "original_measurementtype_ids = []\n",
    "original_sample_names = []\n",
    "\n",
    "for original_path in original_paths:\n",
    "    original_path_str = str(original_path)\n",
    "    original_id = measurements_table.loc[measurements_table['file_path_measurement'] == original_path_str, 'id_measurement'].values[0]\n",
    "    original_measurementtype_id = measurements_table.loc[measurements_table['file_path_measurement'] == original_path_str, parent_id_column].values[0]\n",
    "    original_sample_name = measurements_table.loc[measurements_table['file_path_measurement'] == original_path_str, 'name_sample'].values[0]\n",
    "    original_ids.append(original_id)\n",
    "    original_measurementtype_ids.append(original_measurementtype_id)\n",
    "    original_sample_names.append(original_sample_name)\n",
    "    print(f\"Original path: {original_path_str}, ID: {original_id}\", \n",
    "          f\"Measurement type ID: {original_measurementtype_id}\",\n",
    "          f\"Sample name: {original_sample_name}\")"
   ]
  },
  {
   "cell_type": "markdown",
   "metadata": {},
   "source": [
    "## Functions"
   ]
  },
  {
   "cell_type": "markdown",
   "metadata": {},
   "source": [
    "## Database loading"
   ]
  },
  {
   "cell_type": "code",
   "execution_count": 4,
   "metadata": {},
   "outputs": [],
   "source": [
    "def load_measurement(file,file_path,parent_id,measurementtype_id,sample_name):\n",
    "\n",
    "    parent_id_column = 'measurementtype_id'\n",
    "\n",
    "    sample_names = [sample_name]\n",
    "\n",
    "    main_parameters = {'file_path':file_path,parent_id_column:measurementtype_id,'parent_measurement_id':parent_id}\n",
    "\n",
    "    # metadata\n",
    "\n",
    "    #for each parameter of the measurement a metadata has to be created\n",
    "\n",
    "    metadata_parameters = []\n",
    "\n",
    "    #dimensions\n",
    "    metadata_parameters.append({'key':'height', 'value':str(file.shape[0]), 'type':'cardinal'})\n",
    "\n",
    "    metadata_parameters.append({'key':'width', 'value':str(file.shape[1]), 'type':'cardinal'})\n",
    "\n",
    "    metadata_parameters.append({'key':'depth', 'value':str(file.shape[2]), 'type':'cardinal'})\n",
    "\n",
    "    #dtype\n",
    "\n",
    "    metadata_parameters.append({'key':'dtype', 'value':str(file.dtype), 'type':'nominal'})\n",
    "\n",
    "    #file type\n",
    "\n",
    "    metadata_parameters.append({'key':'file_type', 'value':'folder', 'type':'nominal'})\n",
    "\n",
    "    #aligned\n",
    "\n",
    "    metadata_parameters.append({'key':'aligned', 'value':'True', 'type':'boolean'})\n",
    "\n",
    "    #equalized\n",
    "\n",
    "    metadata_parameters.append({'key':'equalized', 'value':'True', 'type':'boolean'})\n",
    "\n",
    "    #axes\n",
    "    metadata_parameters.append({'key':'axes', 'value':'z,x,y', 'type':'nominal'})\n",
    "\n",
    "    #transformation interpolation order\n",
    "    metadata_parameters.append({'key':'transformation_interpolation_order', 'value':'cubic', 'type':'nominal'})\n",
    "\n",
    "    print('Parameters to be inserted: ')\n",
    "    for key, value in main_parameters.items():\n",
    "        print(f\"-    {key}: {value}\")\n",
    "\n",
    "    table_name = 'measurements'\n",
    "\n",
    "    # Extract column names and values from the attributes dictionary\n",
    "    columns = ', '.join(main_parameters.keys())\n",
    "    values = ', '.join([f\"'{v}'\" for v in main_parameters.values()])\n",
    "\n",
    "    # Construct the SQL INSERT statement\n",
    "    sql = f\"INSERT INTO {table_name} ({columns}) VALUES ({values})\"\n",
    "\n",
    "    print(sql)\n",
    "\n",
    "    # Create a cursor object using the cursor() method\n",
    "    cursor = conn.cursor()\n",
    "\n",
    "    # Execute the SQL statement\n",
    "    cursor.execute(sql)\n",
    "\n",
    "    cursor.execute('COMMIT')\n",
    "\n",
    "    cursor.close()\n",
    "\n",
    "    data = db.get_data(table_name)\n",
    "\n",
    "    data[data['file_path_measurement'] == str(file_path)]\n",
    "\n",
    "    row_id = data['id_measurement'].values[-1]\n",
    "\n",
    "    metadata_table_name =  table_name[:-1] + '_metadata'\n",
    "\n",
    "    for attributes in metadata_parameters:\n",
    "\n",
    "        attributes[table_name[:-1] + '_id'] = row_id\n",
    "\n",
    "        # Extract column names and values from the attributes dictionary\n",
    "        columns = ', '.join(attributes.keys())\n",
    "        values = ', '.join([f\"'{v}'\" for v in attributes.values()])\n",
    "\n",
    "        # Construct the SQL INSERT statement\n",
    "        sql = f\"INSERT INTO {metadata_table_name} ({columns}) VALUES ({values})\"\n",
    "\n",
    "        print(sql)\n",
    "\n",
    "        # Create a cursor object using the cursor() method\n",
    "        cursor = conn.cursor()\n",
    "\n",
    "        # Execute the SQL statement\n",
    "        cursor.execute(sql)\n",
    "\n",
    "        cursor.execute('COMMIT')\n",
    "\n",
    "        cursor.close()\n",
    "    \n",
    "    samples_data = db.get_data_metadata('samples')\n",
    "\n",
    "    #get the ids of the samples in sample_names\n",
    "    samples_data = samples_data[samples_data['name_sample'].isin(sample_names)]\n",
    "\n",
    "    sample_ids = samples_data['id_sample'].values.tolist()\n",
    "\n",
    "    relational_table_name = 'sample_measurements'\n",
    "\n",
    "    for sample_id in sample_ids:\n",
    "\n",
    "        relational_parameters = {'sample_id': sample_id, 'measurement_id': row_id}\n",
    "\n",
    "        # Extract column names and values from the attributes dictionary\n",
    "        columns = ', '.join(relational_parameters.keys())\n",
    "        values = ', '.join([f\"'{v}'\" for v in relational_parameters.values()])\n",
    "\n",
    "        # Construct the SQL INSERT statement\n",
    "        sql = f\"INSERT INTO {relational_table_name} ({columns}) VALUES ({values})\"\n",
    "\n",
    "        print(sql)\n",
    "\n",
    "        # Create a cursor object using the cursor() method\n",
    "        cursor = conn.cursor()\n",
    "\n",
    "        # Execute the SQL statement\n",
    "        cursor.execute(sql)\n",
    "\n",
    "        cursor.execute('COMMIT')\n",
    "\n",
    "        cursor.close()"
   ]
  },
  {
   "cell_type": "markdown",
   "metadata": {},
   "source": [
    "## main loop"
   ]
  },
  {
   "cell_type": "markdown",
   "metadata": {},
   "source": [
    "For each file:\n",
    "\n",
    "1. Load it\n",
    "\n",
    "2. Align it\n",
    "\n",
    "3. Reslice it\n",
    "\n",
    "4. Save it\n",
    "\n",
    "5. Save it to the database"
   ]
  },
  {
   "cell_type": "code",
   "execution_count": null,
   "metadata": {},
   "outputs": [
    {
     "name": "stderr",
     "output_type": "stream",
     "text": [
      "Progress: 100%|██████████| 3224/3224 [00:37<00:00, 86.84it/s]\n"
     ]
    },
    {
     "name": "stdout",
     "output_type": "stream",
     "text": [
      "computing otsu\n",
      "Transforming\n",
      "computing otsu\n",
      "Bounding box coordinates: zmin=2, zmax=3284, ymin=98, ymax=1632, xmin=60, xmax=262\n",
      "Parameters to be inserted: \n",
      "-    file_path: \\\\192.168.10.106\\imdea\\DataDriven_UT_AlbertoVicente\\02_XCT_data\\Juan Ignacio\\probetas\\4\\aligned_90rotright_reslicetop.tif\n",
      "-    measurementtype_id: 2\n",
      "-    parent_measurement_id: 60\n",
      "INSERT INTO measurements (file_path, measurementtype_id, parent_measurement_id) VALUES ('\\\\192.168.10.106\\imdea\\DataDriven_UT_AlbertoVicente\\02_XCT_data\\Juan Ignacio\\probetas\\4\\aligned_90rotright_reslicetop.tif', '2', '60')\n",
      "INSERT INTO measurement_metadata (key, value, type, measurement_id) VALUES ('height', '203', 'cardinal', '84')\n",
      "INSERT INTO measurement_metadata (key, value, type, measurement_id) VALUES ('width', '3283', 'cardinal', '84')\n",
      "INSERT INTO measurement_metadata (key, value, type, measurement_id) VALUES ('depth', '1535', 'cardinal', '84')\n",
      "INSERT INTO measurement_metadata (key, value, type, measurement_id) VALUES ('dtype', 'uint8', 'nominal', '84')\n",
      "INSERT INTO measurement_metadata (key, value, type, measurement_id) VALUES ('file_type', 'folder', 'nominal', '84')\n",
      "INSERT INTO measurement_metadata (key, value, type, measurement_id) VALUES ('aligned', 'True', 'boolean', '84')\n",
      "INSERT INTO measurement_metadata (key, value, type, measurement_id) VALUES ('equalized', 'True', 'boolean', '84')\n",
      "INSERT INTO measurement_metadata (key, value, type, measurement_id) VALUES ('axes', 'z,x,y', 'nominal', '84')\n",
      "INSERT INTO measurement_metadata (key, value, type, measurement_id) VALUES ('transformation_interpolation_order', 'cubic', 'nominal', '84')\n",
      "INSERT INTO sample_measurements (sample_id, measurement_id) VALUES ('1', '84')\n"
     ]
    },
    {
     "name": "stderr",
     "output_type": "stream",
     "text": [
      "Progress: 100%|██████████| 3224/3224 [00:36<00:00, 87.56it/s]\n"
     ]
    },
    {
     "name": "stdout",
     "output_type": "stream",
     "text": [
      "computing otsu\n",
      "Transforming\n",
      "computing otsu\n",
      "Bounding box coordinates: zmin=0, zmax=3289, ymin=118, ymax=1670, xmin=58, xmax=248\n",
      "Parameters to be inserted: \n",
      "-    file_path: \\\\192.168.10.106\\imdea\\DataDriven_UT_AlbertoVicente\\02_XCT_data\\Juan Ignacio\\probetas\\5\\aligned_90rotright_reslicetop.tif\n",
      "-    measurementtype_id: 2\n",
      "-    parent_measurement_id: 61\n",
      "INSERT INTO measurements (file_path, measurementtype_id, parent_measurement_id) VALUES ('\\\\192.168.10.106\\imdea\\DataDriven_UT_AlbertoVicente\\02_XCT_data\\Juan Ignacio\\probetas\\5\\aligned_90rotright_reslicetop.tif', '2', '61')\n",
      "INSERT INTO measurement_metadata (key, value, type, measurement_id) VALUES ('height', '191', 'cardinal', '85')\n",
      "INSERT INTO measurement_metadata (key, value, type, measurement_id) VALUES ('width', '3290', 'cardinal', '85')\n",
      "INSERT INTO measurement_metadata (key, value, type, measurement_id) VALUES ('depth', '1553', 'cardinal', '85')\n",
      "INSERT INTO measurement_metadata (key, value, type, measurement_id) VALUES ('dtype', 'uint8', 'nominal', '85')\n",
      "INSERT INTO measurement_metadata (key, value, type, measurement_id) VALUES ('file_type', 'folder', 'nominal', '85')\n",
      "INSERT INTO measurement_metadata (key, value, type, measurement_id) VALUES ('aligned', 'True', 'boolean', '85')\n",
      "INSERT INTO measurement_metadata (key, value, type, measurement_id) VALUES ('equalized', 'True', 'boolean', '85')\n",
      "INSERT INTO measurement_metadata (key, value, type, measurement_id) VALUES ('axes', 'z,x,y', 'nominal', '85')\n",
      "INSERT INTO measurement_metadata (key, value, type, measurement_id) VALUES ('transformation_interpolation_order', 'cubic', 'nominal', '85')\n",
      "INSERT INTO sample_measurements (sample_id, measurement_id) VALUES ('2', '85')\n"
     ]
    },
    {
     "name": "stderr",
     "output_type": "stream",
     "text": [
      "Progress: 100%|██████████| 3224/3224 [00:40<00:00, 80.33it/s]\n"
     ]
    },
    {
     "name": "stdout",
     "output_type": "stream",
     "text": [
      "computing otsu\n",
      "Transforming\n",
      "computing otsu\n",
      "Bounding box coordinates: zmin=0, zmax=3281, ymin=98, ymax=1715, xmin=67, xmax=263\n",
      "Parameters to be inserted: \n",
      "-    file_path: \\\\192.168.10.106\\imdea\\DataDriven_UT_AlbertoVicente\\02_XCT_data\\Juan Ignacio\\probetas\\7\\aligned_90rotright_reslicetop.tif\n",
      "-    measurementtype_id: 2\n",
      "-    parent_measurement_id: 28\n",
      "INSERT INTO measurements (file_path, measurementtype_id, parent_measurement_id) VALUES ('\\\\192.168.10.106\\imdea\\DataDriven_UT_AlbertoVicente\\02_XCT_data\\Juan Ignacio\\probetas\\7\\aligned_90rotright_reslicetop.tif', '2', '28')\n",
      "INSERT INTO measurement_metadata (key, value, type, measurement_id) VALUES ('height', '197', 'cardinal', '86')\n",
      "INSERT INTO measurement_metadata (key, value, type, measurement_id) VALUES ('width', '3282', 'cardinal', '86')\n",
      "INSERT INTO measurement_metadata (key, value, type, measurement_id) VALUES ('depth', '1618', 'cardinal', '86')\n",
      "INSERT INTO measurement_metadata (key, value, type, measurement_id) VALUES ('dtype', 'uint8', 'nominal', '86')\n",
      "INSERT INTO measurement_metadata (key, value, type, measurement_id) VALUES ('file_type', 'folder', 'nominal', '86')\n",
      "INSERT INTO measurement_metadata (key, value, type, measurement_id) VALUES ('aligned', 'True', 'boolean', '86')\n",
      "INSERT INTO measurement_metadata (key, value, type, measurement_id) VALUES ('equalized', 'True', 'boolean', '86')\n",
      "INSERT INTO measurement_metadata (key, value, type, measurement_id) VALUES ('axes', 'z,x,y', 'nominal', '86')\n",
      "INSERT INTO measurement_metadata (key, value, type, measurement_id) VALUES ('transformation_interpolation_order', 'cubic', 'nominal', '86')\n",
      "INSERT INTO sample_measurements (sample_id, measurement_id) VALUES ('3', '86')\n"
     ]
    },
    {
     "name": "stderr",
     "output_type": "stream",
     "text": [
      "Progress: 100%|██████████| 3224/3224 [00:52<00:00, 61.91it/s]\n"
     ]
    },
    {
     "name": "stdout",
     "output_type": "stream",
     "text": [
      "computing otsu\n",
      "Transforming\n",
      "computing otsu\n",
      "Bounding box coordinates: zmin=0, zmax=3281, ymin=104, ymax=1690, xmin=106, xmax=306\n",
      "Parameters to be inserted: \n",
      "-    file_path: \\\\192.168.10.106\\imdea\\DataDriven_UT_AlbertoVicente\\02_XCT_data\\Juan Ignacio\\probetas\\8\\aligned_90rotright_reslicetop.tif\n",
      "-    measurementtype_id: 2\n",
      "-    parent_measurement_id: 29\n",
      "INSERT INTO measurements (file_path, measurementtype_id, parent_measurement_id) VALUES ('\\\\192.168.10.106\\imdea\\DataDriven_UT_AlbertoVicente\\02_XCT_data\\Juan Ignacio\\probetas\\8\\aligned_90rotright_reslicetop.tif', '2', '29')\n",
      "INSERT INTO measurement_metadata (key, value, type, measurement_id) VALUES ('height', '201', 'cardinal', '87')\n",
      "INSERT INTO measurement_metadata (key, value, type, measurement_id) VALUES ('width', '3282', 'cardinal', '87')\n",
      "INSERT INTO measurement_metadata (key, value, type, measurement_id) VALUES ('depth', '1587', 'cardinal', '87')\n",
      "INSERT INTO measurement_metadata (key, value, type, measurement_id) VALUES ('dtype', 'uint8', 'nominal', '87')\n",
      "INSERT INTO measurement_metadata (key, value, type, measurement_id) VALUES ('file_type', 'folder', 'nominal', '87')\n",
      "INSERT INTO measurement_metadata (key, value, type, measurement_id) VALUES ('aligned', 'True', 'boolean', '87')\n",
      "INSERT INTO measurement_metadata (key, value, type, measurement_id) VALUES ('equalized', 'True', 'boolean', '87')\n",
      "INSERT INTO measurement_metadata (key, value, type, measurement_id) VALUES ('axes', 'z,x,y', 'nominal', '87')\n",
      "INSERT INTO measurement_metadata (key, value, type, measurement_id) VALUES ('transformation_interpolation_order', 'cubic', 'nominal', '87')\n",
      "INSERT INTO sample_measurements (sample_id, measurement_id) VALUES ('4', '87')\n"
     ]
    },
    {
     "name": "stderr",
     "output_type": "stream",
     "text": [
      "Progress: 100%|██████████| 3226/3226 [00:39<00:00, 82.29it/s]\n"
     ]
    },
    {
     "name": "stdout",
     "output_type": "stream",
     "text": [
      "computing otsu\n",
      "Transforming\n",
      "computing otsu\n",
      "Bounding box coordinates: zmin=0, zmax=3225, ymin=20, ymax=1592, xmin=82, xmax=286\n",
      "Parameters to be inserted: \n",
      "-    file_path: \\\\192.168.10.106\\imdea\\DataDriven_UT_AlbertoVicente\\02_XCT_data\\Juan Ignacio\\probetas\\10\\aligned_90rotright_reslicetop.tif\n",
      "-    measurementtype_id: 2\n",
      "-    parent_measurement_id: 31\n",
      "INSERT INTO measurements (file_path, measurementtype_id, parent_measurement_id) VALUES ('\\\\192.168.10.106\\imdea\\DataDriven_UT_AlbertoVicente\\02_XCT_data\\Juan Ignacio\\probetas\\10\\aligned_90rotright_reslicetop.tif', '2', '31')\n",
      "INSERT INTO measurement_metadata (key, value, type, measurement_id) VALUES ('height', '205', 'cardinal', '88')\n",
      "INSERT INTO measurement_metadata (key, value, type, measurement_id) VALUES ('width', '3226', 'cardinal', '88')\n",
      "INSERT INTO measurement_metadata (key, value, type, measurement_id) VALUES ('depth', '1573', 'cardinal', '88')\n",
      "INSERT INTO measurement_metadata (key, value, type, measurement_id) VALUES ('dtype', 'uint8', 'nominal', '88')\n",
      "INSERT INTO measurement_metadata (key, value, type, measurement_id) VALUES ('file_type', 'folder', 'nominal', '88')\n",
      "INSERT INTO measurement_metadata (key, value, type, measurement_id) VALUES ('aligned', 'True', 'boolean', '88')\n",
      "INSERT INTO measurement_metadata (key, value, type, measurement_id) VALUES ('equalized', 'True', 'boolean', '88')\n",
      "INSERT INTO measurement_metadata (key, value, type, measurement_id) VALUES ('axes', 'z,x,y', 'nominal', '88')\n",
      "INSERT INTO measurement_metadata (key, value, type, measurement_id) VALUES ('transformation_interpolation_order', 'cubic', 'nominal', '88')\n",
      "INSERT INTO sample_measurements (sample_id, measurement_id) VALUES ('6', '88')\n"
     ]
    },
    {
     "name": "stderr",
     "output_type": "stream",
     "text": [
      "Progress: 100%|██████████| 3226/3226 [00:38<00:00, 82.99it/s]\n"
     ]
    },
    {
     "name": "stdout",
     "output_type": "stream",
     "text": [
      "computing otsu\n",
      "Transforming\n",
      "computing otsu\n",
      "Bounding box coordinates: zmin=3, zmax=3147, ymin=10, ymax=1622, xmin=42, xmax=239\n",
      "Parameters to be inserted: \n",
      "-    file_path: \\\\192.168.10.106\\imdea\\DataDriven_UT_AlbertoVicente\\02_XCT_data\\Juan Ignacio\\probetas\\11\\aligned_90rotright_reslicetop.tif\n",
      "-    measurementtype_id: 2\n",
      "-    parent_measurement_id: 32\n",
      "INSERT INTO measurements (file_path, measurementtype_id, parent_measurement_id) VALUES ('\\\\192.168.10.106\\imdea\\DataDriven_UT_AlbertoVicente\\02_XCT_data\\Juan Ignacio\\probetas\\11\\aligned_90rotright_reslicetop.tif', '2', '32')\n",
      "INSERT INTO measurement_metadata (key, value, type, measurement_id) VALUES ('height', '198', 'cardinal', '89')\n",
      "INSERT INTO measurement_metadata (key, value, type, measurement_id) VALUES ('width', '3145', 'cardinal', '89')\n",
      "INSERT INTO measurement_metadata (key, value, type, measurement_id) VALUES ('depth', '1613', 'cardinal', '89')\n",
      "INSERT INTO measurement_metadata (key, value, type, measurement_id) VALUES ('dtype', 'uint8', 'nominal', '89')\n",
      "INSERT INTO measurement_metadata (key, value, type, measurement_id) VALUES ('file_type', 'folder', 'nominal', '89')\n",
      "INSERT INTO measurement_metadata (key, value, type, measurement_id) VALUES ('aligned', 'True', 'boolean', '89')\n",
      "INSERT INTO measurement_metadata (key, value, type, measurement_id) VALUES ('equalized', 'True', 'boolean', '89')\n",
      "INSERT INTO measurement_metadata (key, value, type, measurement_id) VALUES ('axes', 'z,x,y', 'nominal', '89')\n",
      "INSERT INTO measurement_metadata (key, value, type, measurement_id) VALUES ('transformation_interpolation_order', 'cubic', 'nominal', '89')\n",
      "INSERT INTO sample_measurements (sample_id, measurement_id) VALUES ('7', '89')\n"
     ]
    },
    {
     "name": "stderr",
     "output_type": "stream",
     "text": [
      "Progress: 100%|██████████| 3226/3226 [00:43<00:00, 74.92it/s]\n"
     ]
    },
    {
     "name": "stdout",
     "output_type": "stream",
     "text": [
      "computing otsu\n",
      "Transforming\n"
     ]
    }
   ],
   "source": [
    "for i in range(len(original_paths)):\n",
    "    # Get the original path and ID\n",
    "    original_path = original_paths[i]\n",
    "    original_id = original_ids[i]\n",
    "    original_measurementtype_id = original_measurementtype_ids[i]\n",
    "    original_sample_name = original_sample_names[i]\n",
    "\n",
    "    #load the volume\n",
    "    volume = io.load_tif(original_path)\n",
    "\n",
    "    #align the volume\n",
    "    volume = aligner.main(volume, order=3)\n",
    "\n",
    "    #reslice the volume\n",
    "    volume = reslicer.rotate_90(volume)\n",
    "    volume = reslicer.reslice(volume,'Top')\n",
    "\n",
    "    #save the volume\n",
    "    #save it in the parent folder of it with the name aligned_90rotleft_reslicebottom.tif\n",
    "    save_path = original_path.parent / f\"aligned_90rotright_reslicetop.tif\"\n",
    "    #save in the path\n",
    "    io.save_tif(save_path, volume)\n",
    "\n",
    "    #update the database\n",
    "    load_measurement(volume,save_path,original_id,original_measurementtype_id,original_sample_name)"
   ]
  }
 ],
 "metadata": {
  "kernelspec": {
   "display_name": "Python 3",
   "language": "python",
   "name": "python3"
  },
  "language_info": {
   "codemirror_mode": {
    "name": "ipython",
    "version": 3
   },
   "file_extension": ".py",
   "mimetype": "text/x-python",
   "name": "python",
   "nbconvert_exporter": "python",
   "pygments_lexer": "ipython3",
   "version": "3.13.2"
  }
 },
 "nbformat": 4,
 "nbformat_minor": 2
}
