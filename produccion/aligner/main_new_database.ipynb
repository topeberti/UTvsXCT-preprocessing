{
 "cells": [
  {
   "cell_type": "code",
   "execution_count": 60,
   "metadata": {},
   "outputs": [],
   "source": [
    "import tifffile\n",
    "import numpy as np\n",
    "from tqdm import tqdm\n",
    "from pathlib import Path\n",
    "import os\n",
    "import pandas as pd\n",
    "import sys\n",
    "sys.path.append(r'\\\\192.168.10.106\\imdea\\DataDriven_UT_AlbertoVicente\\10_code\\UTvsXCT-preprocessing')\n",
    "from dbtools import dbtools as db\n",
    "from dbtools import load\n",
    "from preprocess_tools import io, aligner, reslicer"
   ]
  },
  {
   "cell_type": "markdown",
   "metadata": {},
   "source": [
    "# Database conection"
   ]
  },
  {
   "cell_type": "code",
   "execution_count": 61,
   "metadata": {},
   "outputs": [
    {
     "name": "stdout",
     "output_type": "stream",
     "text": [
      "Connected to the database\n"
     ]
    }
   ],
   "source": [
    "try:\n",
    "    conn = db.connect()\n",
    "    print(\"Connected to the database\")\n",
    "except Exception as error:\n",
    "    print(error)"
   ]
  },
  {
   "cell_type": "markdown",
   "metadata": {},
   "source": [
    "## Measurements file paths"
   ]
  },
  {
   "cell_type": "markdown",
   "metadata": {},
   "source": [
    "List of paths to the XCT measurements you aim to align"
   ]
  },
  {
   "cell_type": "code",
   "execution_count": 62,
   "metadata": {},
   "outputs": [],
   "source": [
    "paths = [Path(r'\\\\192.168.10.106\\imdea\\DataDriven_UT_AlbertoVicente\\02_XCT_data\\Juan Ignacio\\probetas\\4\\volume_eq_rotated'),\n",
    "         Path(r'\\\\192.168.10.106\\imdea\\DataDriven_UT_AlbertoVicente\\02_XCT_data\\Juan Ignacio\\probetas\\5\\volume_eq_rotated'),\n",
    "         Path(r'\\\\192.168.10.106\\imdea\\DataDriven_UT_AlbertoVicente\\02_XCT_data\\Juan Ignacio\\probetas\\7\\volume_eq'),\n",
    "         Path(r'\\\\192.168.10.106\\imdea\\DataDriven_UT_AlbertoVicente\\02_XCT_data\\Juan Ignacio\\probetas\\8\\volume_eq'),\n",
    "         Path(r'\\\\192.168.10.106\\imdea\\DataDriven_UT_AlbertoVicente\\02_XCT_data\\Juan Ignacio\\probetas\\10\\volume_eq'),\n",
    "         Path(r'\\\\192.168.10.106\\imdea\\DataDriven_UT_AlbertoVicente\\02_XCT_data\\Juan Ignacio\\probetas\\11\\volume_eq'),\n",
    "         Path(r'\\\\192.168.10.106\\imdea\\DataDriven_UT_AlbertoVicente\\02_XCT_data\\Juan Ignacio\\probetas\\12\\volume_eq')]\n",
    "\n",
    "#check that the paths exist\n",
    "for path in paths:\n",
    "    if not path.exists():\n",
    "        print(f\"Path {path} does not exist\")"
   ]
  },
  {
   "cell_type": "markdown",
   "metadata": {},
   "source": [
    "# Measurement type id"
   ]
  },
  {
   "cell_type": "markdown",
   "metadata": {},
   "source": [
    "Get the measurement id of each measurement"
   ]
  },
  {
   "cell_type": "code",
   "execution_count": 63,
   "metadata": {},
   "outputs": [
    {
     "name": "stdout",
     "output_type": "stream",
     "text": [
      "Measurement type ids: [2, 2, 2, 2, 2, 2, 2]\n"
     ]
    }
   ],
   "source": [
    "measurements_table = db.get_data('measurements')\n",
    "\n",
    "measurmenttype_ids = []\n",
    "\n",
    "for path in paths:\n",
    "    row = measurements_table[measurements_table['file_path_measurement'] == str(path)]\n",
    "    if not row.empty:\n",
    "        measurmenttype_ids.append(int(row['measurementtype_id_measurement'].values[0]))\n",
    "    else:\n",
    "        print(f\"Measurement not found for path: {path}\")\n",
    "\n",
    "print(\"Measurement type ids:\", measurmenttype_ids)"
   ]
  },
  {
   "cell_type": "markdown",
   "metadata": {},
   "source": [
    "# Sample names"
   ]
  },
  {
   "cell_type": "markdown",
   "metadata": {},
   "source": [
    "Get the samples names in the measurements"
   ]
  },
  {
   "cell_type": "code",
   "execution_count": 64,
   "metadata": {},
   "outputs": [
    {
     "data": {
      "text/html": [
       "<div>\n",
       "<style scoped>\n",
       "    .dataframe tbody tr th:only-of-type {\n",
       "        vertical-align: middle;\n",
       "    }\n",
       "\n",
       "    .dataframe tbody tr th {\n",
       "        vertical-align: top;\n",
       "    }\n",
       "\n",
       "    .dataframe thead th {\n",
       "        text-align: right;\n",
       "    }\n",
       "</style>\n",
       "<table border=\"1\" class=\"dataframe\">\n",
       "  <thead>\n",
       "    <tr style=\"text-align: right;\">\n",
       "      <th></th>\n",
       "      <th>id_sample</th>\n",
       "      <th>name_sample</th>\n",
       "      <th>panel_id_sample</th>\n",
       "      <th>height_sample</th>\n",
       "      <th>width_sample</th>\n",
       "      <th>thickness_sample</th>\n",
       "      <th>keyhole_sample</th>\n",
       "      <th>parallel_faces_sample</th>\n",
       "      <th>id_measurement</th>\n",
       "      <th>file_path_measurement</th>\n",
       "      <th>parent_measurement_id_measurement</th>\n",
       "      <th>measurementtype_id_measurement</th>\n",
       "      <th>height_measurement</th>\n",
       "      <th>width_measurement</th>\n",
       "      <th>depth_measurement</th>\n",
       "      <th>dtype_measurement</th>\n",
       "      <th>file_type_measurement</th>\n",
       "      <th>signal_type_measurement</th>\n",
       "      <th>aligned_measurement</th>\n",
       "      <th>zflip_measurement</th>\n",
       "      <th>vflip_measurement</th>\n",
       "      <th>equalized_measurement</th>\n",
       "      <th>axes_measurement</th>\n",
       "      <th>transformation_interpolation_order_measurement</th>\n",
       "    </tr>\n",
       "  </thead>\n",
       "  <tbody>\n",
       "    <tr>\n",
       "      <th>0</th>\n",
       "      <td>1</td>\n",
       "      <td>JI_4</td>\n",
       "      <td>1</td>\n",
       "      <td>150 mm</td>\n",
       "      <td>40 mm</td>\n",
       "      <td>5 mm</td>\n",
       "      <td>True Boolean</td>\n",
       "      <td>parallel nominal</td>\n",
       "      <td>1</td>\n",
       "      <td>\\\\192.168.10.106\\imdea\\DataDriven_UT_AlbertoVi...</td>\n",
       "      <td>NaN</td>\n",
       "      <td>3</td>\n",
       "      <td>505 cardinal</td>\n",
       "      <td>203 cardinal</td>\n",
       "      <td>372 cardinal</td>\n",
       "      <td>uint8 nominal</td>\n",
       "      <td>tif nominal</td>\n",
       "      <td>RF nominal</td>\n",
       "      <td>NaN</td>\n",
       "      <td>NaN</td>\n",
       "      <td>NaN</td>\n",
       "      <td>NaN</td>\n",
       "      <td>NaN</td>\n",
       "      <td>NaN</td>\n",
       "    </tr>\n",
       "    <tr>\n",
       "      <th>1</th>\n",
       "      <td>1</td>\n",
       "      <td>JI_4</td>\n",
       "      <td>1</td>\n",
       "      <td>150 mm</td>\n",
       "      <td>40 mm</td>\n",
       "      <td>5 mm</td>\n",
       "      <td>True Boolean</td>\n",
       "      <td>parallel nominal</td>\n",
       "      <td>3</td>\n",
       "      <td>\\\\192.168.10.106\\imdea\\DataDriven_UT_AlbertoVi...</td>\n",
       "      <td>1.0</td>\n",
       "      <td>3</td>\n",
       "      <td>505 cardinal</td>\n",
       "      <td>120 cardinal</td>\n",
       "      <td>45 cardinal</td>\n",
       "      <td>uint8 nominal</td>\n",
       "      <td>tif nominal</td>\n",
       "      <td>RF nominal</td>\n",
       "      <td>NaN</td>\n",
       "      <td>NaN</td>\n",
       "      <td>NaN</td>\n",
       "      <td>NaN</td>\n",
       "      <td>NaN</td>\n",
       "      <td>NaN</td>\n",
       "    </tr>\n",
       "    <tr>\n",
       "      <th>2</th>\n",
       "      <td>1</td>\n",
       "      <td>JI_4</td>\n",
       "      <td>1</td>\n",
       "      <td>150 mm</td>\n",
       "      <td>40 mm</td>\n",
       "      <td>5 mm</td>\n",
       "      <td>True Boolean</td>\n",
       "      <td>parallel nominal</td>\n",
       "      <td>21</td>\n",
       "      <td>\\\\192.168.10.106\\imdea\\DataDriven_UT_AlbertoVi...</td>\n",
       "      <td>NaN</td>\n",
       "      <td>2</td>\n",
       "      <td>3737 cardinal</td>\n",
       "      <td>1770 cardinal</td>\n",
       "      <td>1015 cardinal</td>\n",
       "      <td>uint16 nominal</td>\n",
       "      <td>folder nominal</td>\n",
       "      <td>NaN</td>\n",
       "      <td>NaN</td>\n",
       "      <td>NaN</td>\n",
       "      <td>NaN</td>\n",
       "      <td>NaN</td>\n",
       "      <td>NaN</td>\n",
       "      <td>NaN</td>\n",
       "    </tr>\n",
       "    <tr>\n",
       "      <th>3</th>\n",
       "      <td>1</td>\n",
       "      <td>JI_4</td>\n",
       "      <td>1</td>\n",
       "      <td>150 mm</td>\n",
       "      <td>40 mm</td>\n",
       "      <td>5 mm</td>\n",
       "      <td>True Boolean</td>\n",
       "      <td>parallel nominal</td>\n",
       "      <td>22</td>\n",
       "      <td>\\\\192.168.10.106\\imdea\\DataDriven_UT_AlbertoVi...</td>\n",
       "      <td>21.0</td>\n",
       "      <td>2</td>\n",
       "      <td>3224 cardinal</td>\n",
       "      <td>1770 cardinal</td>\n",
       "      <td>1015 cardinal</td>\n",
       "      <td>uint8 nominal</td>\n",
       "      <td>folder nominal</td>\n",
       "      <td>NaN</td>\n",
       "      <td>NaN</td>\n",
       "      <td>NaN</td>\n",
       "      <td>NaN</td>\n",
       "      <td>NaN</td>\n",
       "      <td>NaN</td>\n",
       "      <td>NaN</td>\n",
       "    </tr>\n",
       "    <tr>\n",
       "      <th>4</th>\n",
       "      <td>1</td>\n",
       "      <td>JI_4</td>\n",
       "      <td>1</td>\n",
       "      <td>150 mm</td>\n",
       "      <td>40 mm</td>\n",
       "      <td>5 mm</td>\n",
       "      <td>True Boolean</td>\n",
       "      <td>parallel nominal</td>\n",
       "      <td>26</td>\n",
       "      <td>\\\\192.168.10.106\\imdea\\DataDriven_UT_AlbertoVi...</td>\n",
       "      <td>22.0</td>\n",
       "      <td>2</td>\n",
       "      <td>3224 cardinal</td>\n",
       "      <td>1610 cardinal</td>\n",
       "      <td>240 cardinal</td>\n",
       "      <td>uint8 nominal</td>\n",
       "      <td>folder nominal</td>\n",
       "      <td>NaN</td>\n",
       "      <td>NaN</td>\n",
       "      <td>NaN</td>\n",
       "      <td>NaN</td>\n",
       "      <td>NaN</td>\n",
       "      <td>NaN</td>\n",
       "      <td>NaN</td>\n",
       "    </tr>\n",
       "    <tr>\n",
       "      <th>...</th>\n",
       "      <td>...</td>\n",
       "      <td>...</td>\n",
       "      <td>...</td>\n",
       "      <td>...</td>\n",
       "      <td>...</td>\n",
       "      <td>...</td>\n",
       "      <td>...</td>\n",
       "      <td>...</td>\n",
       "      <td>...</td>\n",
       "      <td>...</td>\n",
       "      <td>...</td>\n",
       "      <td>...</td>\n",
       "      <td>...</td>\n",
       "      <td>...</td>\n",
       "      <td>...</td>\n",
       "      <td>...</td>\n",
       "      <td>...</td>\n",
       "      <td>...</td>\n",
       "      <td>...</td>\n",
       "      <td>...</td>\n",
       "      <td>...</td>\n",
       "      <td>...</td>\n",
       "      <td>...</td>\n",
       "      <td>...</td>\n",
       "    </tr>\n",
       "    <tr>\n",
       "      <th>65</th>\n",
       "      <td>8</td>\n",
       "      <td>JI_12</td>\n",
       "      <td>1</td>\n",
       "      <td>150 mm</td>\n",
       "      <td>40 mm</td>\n",
       "      <td>5 mm</td>\n",
       "      <td>True Boolean</td>\n",
       "      <td>parallel nominal</td>\n",
       "      <td>24</td>\n",
       "      <td>\\\\192.168.10.106\\imdea\\DataDriven_UT_AlbertoVi...</td>\n",
       "      <td>23.0</td>\n",
       "      <td>2</td>\n",
       "      <td>3226 cardinal</td>\n",
       "      <td>1734 cardinal</td>\n",
       "      <td>1003 cardinal</td>\n",
       "      <td>uint8 nominal</td>\n",
       "      <td>folder nominal</td>\n",
       "      <td>NaN</td>\n",
       "      <td>NaN</td>\n",
       "      <td>NaN</td>\n",
       "      <td>NaN</td>\n",
       "      <td>NaN</td>\n",
       "      <td>NaN</td>\n",
       "      <td>NaN</td>\n",
       "    </tr>\n",
       "    <tr>\n",
       "      <th>66</th>\n",
       "      <td>8</td>\n",
       "      <td>JI_12</td>\n",
       "      <td>1</td>\n",
       "      <td>150 mm</td>\n",
       "      <td>40 mm</td>\n",
       "      <td>5 mm</td>\n",
       "      <td>True Boolean</td>\n",
       "      <td>parallel nominal</td>\n",
       "      <td>33</td>\n",
       "      <td>\\\\192.168.10.106\\imdea\\DataDriven_UT_AlbertoVi...</td>\n",
       "      <td>24.0</td>\n",
       "      <td>2</td>\n",
       "      <td>3226 cardinal</td>\n",
       "      <td>1626 cardinal</td>\n",
       "      <td>250 cardinal</td>\n",
       "      <td>uint8 nominal</td>\n",
       "      <td>folder nominal</td>\n",
       "      <td>NaN</td>\n",
       "      <td>NaN</td>\n",
       "      <td>NaN</td>\n",
       "      <td>NaN</td>\n",
       "      <td>NaN</td>\n",
       "      <td>NaN</td>\n",
       "      <td>NaN</td>\n",
       "    </tr>\n",
       "    <tr>\n",
       "      <th>67</th>\n",
       "      <td>8</td>\n",
       "      <td>JI_12</td>\n",
       "      <td>1</td>\n",
       "      <td>150 mm</td>\n",
       "      <td>40 mm</td>\n",
       "      <td>5 mm</td>\n",
       "      <td>True Boolean</td>\n",
       "      <td>parallel nominal</td>\n",
       "      <td>34</td>\n",
       "      <td>\\\\192.168.10.106\\imdea\\DataDriven_UT_AlbertoVi...</td>\n",
       "      <td>33.0</td>\n",
       "      <td>2</td>\n",
       "      <td>219 cardinal</td>\n",
       "      <td>3233 cardinal</td>\n",
       "      <td>1620 cardinal</td>\n",
       "      <td>uint8 nominal</td>\n",
       "      <td>folder nominal</td>\n",
       "      <td>NaN</td>\n",
       "      <td>True boolean</td>\n",
       "      <td>NaN</td>\n",
       "      <td>NaN</td>\n",
       "      <td>NaN</td>\n",
       "      <td>NaN</td>\n",
       "      <td>NaN</td>\n",
       "    </tr>\n",
       "    <tr>\n",
       "      <th>68</th>\n",
       "      <td>8</td>\n",
       "      <td>JI_12</td>\n",
       "      <td>1</td>\n",
       "      <td>150 mm</td>\n",
       "      <td>40 mm</td>\n",
       "      <td>5 mm</td>\n",
       "      <td>True Boolean</td>\n",
       "      <td>parallel nominal</td>\n",
       "      <td>43</td>\n",
       "      <td>\\\\192.168.10.106\\imdea\\DataDriven_UT_AlbertoVi...</td>\n",
       "      <td>NaN</td>\n",
       "      <td>4</td>\n",
       "      <td>448 cardinal</td>\n",
       "      <td>190 cardinal</td>\n",
       "      <td>492 cardinal</td>\n",
       "      <td>uint8 nominal</td>\n",
       "      <td>tif nominal</td>\n",
       "      <td>RF nominal</td>\n",
       "      <td>NaN</td>\n",
       "      <td>NaN</td>\n",
       "      <td>NaN</td>\n",
       "      <td>NaN</td>\n",
       "      <td>NaN</td>\n",
       "      <td>NaN</td>\n",
       "    </tr>\n",
       "    <tr>\n",
       "      <th>69</th>\n",
       "      <td>8</td>\n",
       "      <td>JI_12</td>\n",
       "      <td>1</td>\n",
       "      <td>150 mm</td>\n",
       "      <td>40 mm</td>\n",
       "      <td>5 mm</td>\n",
       "      <td>True Boolean</td>\n",
       "      <td>parallel nominal</td>\n",
       "      <td>50</td>\n",
       "      <td>\\\\192.168.10.106\\imdea\\DataDriven_UT_AlbertoVi...</td>\n",
       "      <td>43.0</td>\n",
       "      <td>4</td>\n",
       "      <td>448 cardinal</td>\n",
       "      <td>121 cardinal</td>\n",
       "      <td>49 cardinal</td>\n",
       "      <td>uint8 nominal</td>\n",
       "      <td>tif nominal</td>\n",
       "      <td>RF nominal</td>\n",
       "      <td>NaN</td>\n",
       "      <td>NaN</td>\n",
       "      <td>NaN</td>\n",
       "      <td>NaN</td>\n",
       "      <td>NaN</td>\n",
       "      <td>NaN</td>\n",
       "    </tr>\n",
       "  </tbody>\n",
       "</table>\n",
       "<p>70 rows × 24 columns</p>\n",
       "</div>"
      ],
      "text/plain": [
       "    id_sample  ... transformation_interpolation_order_measurement\n",
       "0           1  ...                                            NaN\n",
       "1           1  ...                                            NaN\n",
       "2           1  ...                                            NaN\n",
       "3           1  ...                                            NaN\n",
       "4           1  ...                                            NaN\n",
       "..        ...  ...                                            ...\n",
       "65          8  ...                                            NaN\n",
       "66          8  ...                                            NaN\n",
       "67          8  ...                                            NaN\n",
       "68          8  ...                                            NaN\n",
       "69          8  ...                                            NaN\n",
       "\n",
       "[70 rows x 24 columns]"
      ]
     },
     "execution_count": 64,
     "metadata": {},
     "output_type": "execute_result"
    }
   ],
   "source": [
    "measurements_samples_table = db.relation_metadata('samples','measurements','sample_measurements')\n",
    "\n",
    "measurements_samples_table"
   ]
  },
  {
   "cell_type": "code",
   "execution_count": 65,
   "metadata": {},
   "outputs": [
    {
     "name": "stdout",
     "output_type": "stream",
     "text": [
      "Measurement sample names: [array(['JI_4'], dtype=object), array(['JI_5'], dtype=object), array(['JI_7'], dtype=object), array(['JI_8'], dtype=object), array(['JI_10'], dtype=object), array(['JI_11'], dtype=object), array(['JI_12'], dtype=object)]\n"
     ]
    }
   ],
   "source": [
    "\n",
    "sample_names = []\n",
    "\n",
    "for path in paths:\n",
    "    sub_table = measurements_samples_table[measurements_samples_table['file_path_measurement'] == str(path)]\n",
    "    if not sub_table.empty:\n",
    "        sample_names.append(sub_table['name_sample'].values)\n",
    "    else:\n",
    "        print(f\"Measurement not found for path: {path}\")\n",
    "\n",
    "print(\"Measurement sample names:\", sample_names)"
   ]
  },
  {
   "cell_type": "markdown",
   "metadata": {},
   "source": [
    "# Alignment and saving"
   ]
  },
  {
   "cell_type": "markdown",
   "metadata": {},
   "source": [
    "Loop that loads each measurement, aligns the volume and loads it in the database."
   ]
  },
  {
   "cell_type": "code",
   "execution_count": 66,
   "metadata": {},
   "outputs": [
    {
     "name": "stdout",
     "output_type": "stream",
     "text": [
      "Processing \\\\192.168.10.106\\imdea\\DataDriven_UT_AlbertoVicente\\02_XCT_data\\Juan Ignacio\\probetas\\4\\volume_eq_rotated with measurement type id 2\n"
     ]
    },
    {
     "name": "stderr",
     "output_type": "stream",
     "text": [
      "Progress: 100%|██████████| 3224/3224 [00:42<00:00, 75.79it/s]\n",
      "Finding surface points: 100%|██████████| 4774524/4774524 [03:29<00:00, 22835.74it/s]\n",
      "Rotating around x-axis: 100%|██████████| 1610/1610 [03:49<00:00,  7.01it/s]\n",
      "Rotating around y-axis: 100%|██████████| 3228/3228 [00:10<00:00, 295.60it/s]\n"
     ]
    },
    {
     "name": "stdout",
     "output_type": "stream",
     "text": [
      "computing otsu\n",
      "Bounding box coordinates: zmin=1, zmax=3226, ymin=1, ymax=1609, xmin=55, xmax=257\n",
      "Saving aligned volume to \\\\192.168.10.106\\imdea\\DataDriven_UT_AlbertoVicente\\02_XCT_data\\Juan Ignacio\\probetas\\4\\volume_eq_rotated_aligned.tif\n",
      "Inserting measurement for path \\\\192.168.10.106\\imdea\\DataDriven_UT_AlbertoVicente\\02_XCT_data\\Juan Ignacio\\probetas\\4\\volume_eq_rotated_aligned.tif with type tif, height 203, width 3226, depth 1609, dtype uint8, samples ['JI_4'], equalized True, transformation Aligned with lucias method. V01\n",
      "XCT measurement from '\\\\192.168.10.106\\imdea\\DataDriven_UT_AlbertoVicente\\02_XCT_data\\Juan Ignacio\\probetas\\4\\volume_eq_rotated_aligned.tif' loaded with ID: 93\n",
      "Inserted measurement with id 93 for path \\\\192.168.10.106\\imdea\\DataDriven_UT_AlbertoVicente\\02_XCT_data\\Juan Ignacio\\probetas\\4\\volume_eq_rotated_aligned.tif\n",
      "Processing \\\\192.168.10.106\\imdea\\DataDriven_UT_AlbertoVicente\\02_XCT_data\\Juan Ignacio\\probetas\\5\\volume_eq_rotated with measurement type id 2\n"
     ]
    },
    {
     "name": "stderr",
     "output_type": "stream",
     "text": [
      "Progress: 100%|██████████| 3224/3224 [00:40<00:00, 79.17it/s]\n",
      "Finding surface points: 100%|██████████| 4766380/4766380 [03:24<00:00, 23258.87it/s]\n",
      "Rotating around x-axis:   0%|          | 0/1629 [00:00<?, ?it/s]c:\\Users\\alberto.vicente\\.conda\\envs\\prepUTvsXCT\\Lib\\site-packages\\joblib\\externals\\loky\\process_executor.py:782: UserWarning: A worker stopped while some jobs were given to the executor. This can be caused by a too short worker timeout or by a memory leak.\n",
      "  warnings.warn(\n",
      "Rotating around x-axis: 100%|██████████| 1629/1629 [03:34<00:00,  7.58it/s]\n",
      "Rotating around y-axis: 100%|██████████| 3228/3228 [00:10<00:00, 302.40it/s]\n"
     ]
    },
    {
     "name": "stdout",
     "output_type": "stream",
     "text": [
      "computing otsu\n",
      "Bounding box coordinates: zmin=1, zmax=3226, ymin=1, ymax=1628, xmin=55, xmax=246\n",
      "Saving aligned volume to \\\\192.168.10.106\\imdea\\DataDriven_UT_AlbertoVicente\\02_XCT_data\\Juan Ignacio\\probetas\\5\\volume_eq_rotated_aligned.tif\n",
      "Inserting measurement for path \\\\192.168.10.106\\imdea\\DataDriven_UT_AlbertoVicente\\02_XCT_data\\Juan Ignacio\\probetas\\5\\volume_eq_rotated_aligned.tif with type tif, height 192, width 3226, depth 1628, dtype uint8, samples ['JI_5'], equalized True, transformation Aligned with lucias method. V01\n",
      "XCT measurement from '\\\\192.168.10.106\\imdea\\DataDriven_UT_AlbertoVicente\\02_XCT_data\\Juan Ignacio\\probetas\\5\\volume_eq_rotated_aligned.tif' loaded with ID: 94\n",
      "Inserted measurement with id 94 for path \\\\192.168.10.106\\imdea\\DataDriven_UT_AlbertoVicente\\02_XCT_data\\Juan Ignacio\\probetas\\5\\volume_eq_rotated_aligned.tif\n",
      "Processing \\\\192.168.10.106\\imdea\\DataDriven_UT_AlbertoVicente\\02_XCT_data\\Juan Ignacio\\probetas\\7\\volume_eq with measurement type id 2\n"
     ]
    },
    {
     "name": "stderr",
     "output_type": "stream",
     "text": [
      "Progress: 100%|██████████| 3224/3224 [01:00<00:00, 53.20it/s]\n",
      "Finding surface points: 100%|██████████| 5022590/5022590 [03:39<00:00, 22841.76it/s]\n",
      "Rotating around x-axis: 100%|██████████| 1685/1685 [04:38<00:00,  6.06it/s]\n",
      "Rotating around y-axis: 100%|██████████| 3227/3227 [00:11<00:00, 283.26it/s]\n"
     ]
    },
    {
     "name": "stdout",
     "output_type": "stream",
     "text": [
      "computing otsu\n",
      "Bounding box coordinates: zmin=0, zmax=3226, ymin=3, ymax=1687, xmin=69, xmax=264\n",
      "Saving aligned volume to \\\\192.168.10.106\\imdea\\DataDriven_UT_AlbertoVicente\\02_XCT_data\\Juan Ignacio\\probetas\\7\\volume_eq_aligned.tif\n",
      "Inserting measurement for path \\\\192.168.10.106\\imdea\\DataDriven_UT_AlbertoVicente\\02_XCT_data\\Juan Ignacio\\probetas\\7\\volume_eq_aligned.tif with type tif, height 196, width 3227, depth 1685, dtype uint8, samples ['JI_7'], equalized True, transformation Aligned with lucias method. V01\n",
      "XCT measurement from '\\\\192.168.10.106\\imdea\\DataDriven_UT_AlbertoVicente\\02_XCT_data\\Juan Ignacio\\probetas\\7\\volume_eq_aligned.tif' loaded with ID: 95\n",
      "Inserted measurement with id 95 for path \\\\192.168.10.106\\imdea\\DataDriven_UT_AlbertoVicente\\02_XCT_data\\Juan Ignacio\\probetas\\7\\volume_eq_aligned.tif\n",
      "Processing \\\\192.168.10.106\\imdea\\DataDriven_UT_AlbertoVicente\\02_XCT_data\\Juan Ignacio\\probetas\\8\\volume_eq with measurement type id 2\n"
     ]
    },
    {
     "name": "stderr",
     "output_type": "stream",
     "text": [
      "Progress: 100%|██████████| 3224/3224 [00:45<00:00, 70.18it/s]\n",
      "Finding surface points: 100%|██████████| 4929867/4929867 [03:35<00:00, 22840.32it/s]\n",
      "Rotating around x-axis: 100%|██████████| 1664/1664 [04:37<00:00,  6.00it/s]\n",
      "Rotating around y-axis: 100%|██████████| 3228/3228 [00:13<00:00, 246.93it/s]\n"
     ]
    },
    {
     "name": "stdout",
     "output_type": "stream",
     "text": [
      "computing otsu\n",
      "Bounding box coordinates: zmin=0, zmax=3227, ymin=7, ymax=1666, xmin=103, xmax=304\n",
      "Saving aligned volume to \\\\192.168.10.106\\imdea\\DataDriven_UT_AlbertoVicente\\02_XCT_data\\Juan Ignacio\\probetas\\8\\volume_eq_aligned.tif\n",
      "Inserting measurement for path \\\\192.168.10.106\\imdea\\DataDriven_UT_AlbertoVicente\\02_XCT_data\\Juan Ignacio\\probetas\\8\\volume_eq_aligned.tif with type tif, height 202, width 3228, depth 1660, dtype uint8, samples ['JI_8'], equalized True, transformation Aligned with lucias method. V01\n",
      "XCT measurement from '\\\\192.168.10.106\\imdea\\DataDriven_UT_AlbertoVicente\\02_XCT_data\\Juan Ignacio\\probetas\\8\\volume_eq_aligned.tif' loaded with ID: 96\n",
      "Inserted measurement with id 96 for path \\\\192.168.10.106\\imdea\\DataDriven_UT_AlbertoVicente\\02_XCT_data\\Juan Ignacio\\probetas\\8\\volume_eq_aligned.tif\n",
      "Processing \\\\192.168.10.106\\imdea\\DataDriven_UT_AlbertoVicente\\02_XCT_data\\Juan Ignacio\\probetas\\10\\volume_eq with measurement type id 2\n"
     ]
    },
    {
     "name": "stderr",
     "output_type": "stream",
     "text": [
      "Progress: 100%|██████████| 3226/3226 [00:41<00:00, 77.86it/s]\n",
      "Finding surface points: 100%|██████████| 4912285/4912285 [03:32<00:00, 23097.85it/s]\n",
      "Rotating around x-axis: 100%|██████████| 1579/1579 [03:41<00:00,  7.12it/s]\n",
      "Rotating around y-axis: 100%|██████████| 3229/3229 [00:10<00:00, 295.93it/s]\n"
     ]
    },
    {
     "name": "stdout",
     "output_type": "stream",
     "text": [
      "computing otsu\n",
      "Bounding box coordinates: zmin=1, zmax=3227, ymin=4, ymax=1582, xmin=80, xmax=284\n",
      "Saving aligned volume to \\\\192.168.10.106\\imdea\\DataDriven_UT_AlbertoVicente\\02_XCT_data\\Juan Ignacio\\probetas\\10\\volume_eq_aligned.tif\n",
      "Inserting measurement for path \\\\192.168.10.106\\imdea\\DataDriven_UT_AlbertoVicente\\02_XCT_data\\Juan Ignacio\\probetas\\10\\volume_eq_aligned.tif with type tif, height 205, width 3227, depth 1579, dtype uint8, samples ['JI_10'], equalized True, transformation Aligned with lucias method. V01\n",
      "XCT measurement from '\\\\192.168.10.106\\imdea\\DataDriven_UT_AlbertoVicente\\02_XCT_data\\Juan Ignacio\\probetas\\10\\volume_eq_aligned.tif' loaded with ID: 97\n",
      "Inserted measurement with id 97 for path \\\\192.168.10.106\\imdea\\DataDriven_UT_AlbertoVicente\\02_XCT_data\\Juan Ignacio\\probetas\\10\\volume_eq_aligned.tif\n",
      "Processing \\\\192.168.10.106\\imdea\\DataDriven_UT_AlbertoVicente\\02_XCT_data\\Juan Ignacio\\probetas\\11\\volume_eq with measurement type id 2\n"
     ]
    },
    {
     "name": "stderr",
     "output_type": "stream",
     "text": [
      "Progress: 100%|██████████| 3226/3226 [00:40<00:00, 79.23it/s]\n",
      "Finding surface points: 100%|██████████| 5021297/5021297 [03:41<00:00, 22670.48it/s]\n",
      "Rotating around x-axis: 100%|██████████| 1628/1628 [03:47<00:00,  7.17it/s]\n",
      "Rotating around y-axis: 100%|██████████| 3228/3228 [00:10<00:00, 321.00it/s]\n"
     ]
    },
    {
     "name": "stdout",
     "output_type": "stream",
     "text": [
      "computing otsu\n",
      "Bounding box coordinates: zmin=0, zmax=3227, ymin=13, ymax=1611, xmin=51, xmax=253\n",
      "Saving aligned volume to \\\\192.168.10.106\\imdea\\DataDriven_UT_AlbertoVicente\\02_XCT_data\\Juan Ignacio\\probetas\\11\\volume_eq_aligned.tif\n",
      "Inserting measurement for path \\\\192.168.10.106\\imdea\\DataDriven_UT_AlbertoVicente\\02_XCT_data\\Juan Ignacio\\probetas\\11\\volume_eq_aligned.tif with type tif, height 203, width 3228, depth 1599, dtype uint8, samples ['JI_11'], equalized True, transformation Aligned with lucias method. V01\n",
      "XCT measurement from '\\\\192.168.10.106\\imdea\\DataDriven_UT_AlbertoVicente\\02_XCT_data\\Juan Ignacio\\probetas\\11\\volume_eq_aligned.tif' loaded with ID: 98\n",
      "Inserted measurement with id 98 for path \\\\192.168.10.106\\imdea\\DataDriven_UT_AlbertoVicente\\02_XCT_data\\Juan Ignacio\\probetas\\11\\volume_eq_aligned.tif\n",
      "Processing \\\\192.168.10.106\\imdea\\DataDriven_UT_AlbertoVicente\\02_XCT_data\\Juan Ignacio\\probetas\\12\\volume_eq with measurement type id 2\n"
     ]
    },
    {
     "name": "stderr",
     "output_type": "stream",
     "text": [
      "Progress: 100%|██████████| 3226/3226 [00:43<00:00, 73.62it/s]\n",
      "Finding surface points: 100%|██████████| 4979572/4979572 [03:38<00:00, 22748.94it/s]\n",
      "Rotating around x-axis: 100%|██████████| 1626/1626 [04:05<00:00,  6.62it/s]\n",
      "Rotating around y-axis: 100%|██████████| 3229/3229 [00:10<00:00, 315.07it/s]\n"
     ]
    },
    {
     "name": "stdout",
     "output_type": "stream",
     "text": [
      "computing otsu\n",
      "Bounding box coordinates: zmin=1, zmax=3227, ymin=17, ymax=1609, xmin=59, xmax=258\n",
      "Saving aligned volume to \\\\192.168.10.106\\imdea\\DataDriven_UT_AlbertoVicente\\02_XCT_data\\Juan Ignacio\\probetas\\12\\volume_eq_aligned.tif\n",
      "Inserting measurement for path \\\\192.168.10.106\\imdea\\DataDriven_UT_AlbertoVicente\\02_XCT_data\\Juan Ignacio\\probetas\\12\\volume_eq_aligned.tif with type tif, height 200, width 3227, depth 1593, dtype uint8, samples ['JI_12'], equalized True, transformation Aligned with lucias method. V01\n",
      "XCT measurement from '\\\\192.168.10.106\\imdea\\DataDriven_UT_AlbertoVicente\\02_XCT_data\\Juan Ignacio\\probetas\\12\\volume_eq_aligned.tif' loaded with ID: 99\n",
      "Inserted measurement with id 99 for path \\\\192.168.10.106\\imdea\\DataDriven_UT_AlbertoVicente\\02_XCT_data\\Juan Ignacio\\probetas\\12\\volume_eq_aligned.tif\n"
     ]
    }
   ],
   "source": [
    "for i, path in enumerate(paths):\n",
    "    print(f\"Processing {path} with measurement type id {measurmenttype_ids[i]}\")\n",
    "    \n",
    "    # Load the data\n",
    "    volume = io.load_tif(path)\n",
    "    \n",
    "    # Align the volume\n",
    "    volume = aligner.main(volume)\n",
    "\n",
    "    #reslice to frontal \n",
    "    volume = reslicer.rotate_90(volume, clockwise=True)\n",
    "    volume = reslicer.reslice(volume,'Top')\n",
    "    \n",
    "    # Save the aligned volume as .tif if is less than 4GB if its more as a folder\n",
    "    if volume.nbytes < 4 * 1024**3:  # Check if the size is less than 4GB\n",
    "        aligned_path = path.parent / f\"{path.name}_aligned.tif\"\n",
    "        file_type = 'tif'\n",
    "    else:\n",
    "        # Save as a folder\n",
    "        aligned_path = path.parent / f\"{path.name}_aligned\"\n",
    "        if not aligned_path.exists():\n",
    "            aligned_path.mkdir(parents=True, exist_ok=True)\n",
    "        file_type = 'tif folder'\n",
    "    \n",
    "    print(f\"Saving aligned volume to {aligned_path}\")\n",
    "\n",
    "    io.save_tif(aligned_path,volume)\n",
    "\n",
    "    #data for the database\n",
    "\n",
    "    height, width, depth = volume.shape\n",
    "\n",
    "    dtype = str(volume.dtype)\n",
    "\n",
    "    samples = list(sample_names[i])\n",
    "\n",
    "    equalized = True\n",
    "\n",
    "    transformation = 'Aligned with lucias method. V01'\n",
    "\n",
    "    print(f\"Inserting measurement for path {aligned_path} with type {file_type}, height {height}, width {width}, depth {depth}, dtype {dtype}, samples {samples}, equalized {equalized}, transformation {transformation}\")\n",
    "\n",
    "    # Save the aligned volume in the database\n",
    "    inserted_id = load.load_xct_measurement(conn,str(aligned_path),measurmenttype_ids[i],height,width,depth,dtype,file_type,samples,True, equalized,['z','y','x'],str(path),transformation)\n",
    "\n",
    "    print(f\"Inserted measurement with id {inserted_id} for path {aligned_path}\")"
   ]
  }
 ],
 "metadata": {
  "kernelspec": {
   "display_name": "prepUTvsXCT",
   "language": "python",
   "name": "python3"
  },
  "language_info": {
   "codemirror_mode": {
    "name": "ipython",
    "version": 3
   },
   "file_extension": ".py",
   "mimetype": "text/x-python",
   "name": "python",
   "nbconvert_exporter": "python",
   "pygments_lexer": "ipython3",
   "version": "3.13.2"
  }
 },
 "nbformat": 4,
 "nbformat_minor": 2
}
