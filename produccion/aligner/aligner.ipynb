{
 "cells": [
  {
   "cell_type": "markdown",
   "id": "a975c5da",
   "metadata": {},
   "source": [
    "# Aligner"
   ]
  },
  {
   "cell_type": "markdown",
   "id": "b0725026",
   "metadata": {},
   "source": [
    "In this notebook, we will automate the processing steps that start from an eq volume to an aligned volume with the frontwall facing to the screen."
   ]
  },
  {
   "cell_type": "markdown",
   "id": "0628f3a2",
   "metadata": {},
   "source": [
    "## imports"
   ]
  },
  {
   "cell_type": "code",
   "execution_count": 1,
   "id": "ad685c6b",
   "metadata": {},
   "outputs": [],
   "source": [
    "import numpy as np\n",
    "import matplotlib.pyplot as plt\n",
    "import tifffile \n",
    "from pathlib import Path\n",
    "import os\n",
    "from tqdm import tqdm\n",
    "import sys\n",
    "sys.path.append(r'\\\\192.168.10.106\\imdea\\DataDriven_UT_AlbertoVicente\\10_code\\UTvsXCT-preprocessing')\n",
    "from preprocess_tools import aligner, reslicer"
   ]
  },
  {
   "cell_type": "markdown",
   "id": "c161b108",
   "metadata": {},
   "source": [
    "# Aux functions"
   ]
  },
  {
   "cell_type": "code",
   "execution_count": 2,
   "id": "d87242f4",
   "metadata": {},
   "outputs": [],
   "source": [
    "def read_sequence(folder_path):\n",
    "    \"\"\"\n",
    "    Read a sequence of TIFF files in a folder as a 3D volume.\n",
    "    \n",
    "    Args:\n",
    "    folder_path (str): Path to the folder containing TIFF files.\n",
    "\n",
    "    Returns:\n",
    "    numpy.ndarray: A 3D array where each slice corresponds to a TIFF file.\n",
    "    \"\"\"\n",
    "\n",
    "    # List and sort the TIFF files\n",
    "    tiff_files = sorted([os.path.join(folder_path, f) for f in os.listdir(folder_path) if (f.endswith('.tiff') or f.endswith('.tif'))])\n",
    "\n",
    "    tiff_sequence = tifffile.TiffSequence(tiff_files)\n",
    "    \n",
    "    # Get the total number of TIFF files\n",
    "    total_files = len(tiff_files)\n",
    "    \n",
    "    # Read each TIFF file and update progress\n",
    "    volume = []\n",
    "    with tqdm(total=total_files, desc=\"Progress\") as pbar:\n",
    "        for i, file_path in enumerate(tiff_files):\n",
    "            slice_data = tifffile.imread(file_path)\n",
    "            volume.append(slice_data)\n",
    "            \n",
    "            # Update progress\n",
    "            pbar.update(1)\n",
    "    \n",
    "    return np.array(volume)"
   ]
  },
  {
   "cell_type": "markdown",
   "id": "5145bde7",
   "metadata": {},
   "source": [
    "# Data loading"
   ]
  },
  {
   "cell_type": "code",
   "execution_count": null,
   "id": "a387c2df",
   "metadata": {},
   "outputs": [
    {
     "name": "stderr",
     "output_type": "stream",
     "text": [
      "Progress: 100%|██████████| 3224/3224 [00:41<00:00, 78.47it/s]\n"
     ]
    },
    {
     "name": "stdout",
     "output_type": "stream",
     "text": [
      "Volume shape: (3224, 1610, 240)\n",
      "Volume dtype: uint8\n"
     ]
    }
   ],
   "source": [
    "filename = Path(r'\\\\192.168.10.106\\imdea\\DataDriven_UT_AlbertoVicente\\02_XCT_data\\Juan Ignacio\\probetas\\4\\volume_eq')\n",
    "\n",
    "#the output filename will be in the parent folder of the input file and named frontal_90right2.tif\n",
    "output_filename = filename.parent / 'frontal_90right2.tif'\n",
    "\n",
    "# Read the sequence of TIFF files\n",
    "volume = read_sequence(filename)\n",
    "\n",
    "#print volume shape and dtype\n",
    "print(f\"Volume shape: {volume.shape}\")\n",
    "print(f\"Volume dtype: {volume.dtype}\")"
   ]
  },
  {
   "cell_type": "markdown",
   "id": "37d7f592",
   "metadata": {},
   "source": [
    "## Aligning"
   ]
  },
  {
   "cell_type": "markdown",
   "id": "f9f6be76",
   "metadata": {},
   "source": [
    "We will now align the volume with the axes."
   ]
  },
  {
   "cell_type": "code",
   "execution_count": null,
   "id": "73b52fa5",
   "metadata": {},
   "outputs": [
    {
     "name": "stdout",
     "output_type": "stream",
     "text": [
      "computing otsu\n",
      "Transforming\n"
     ]
    }
   ],
   "source": [
    "aligned_volume = aligner.main(volume,False)"
   ]
  },
  {
   "cell_type": "markdown",
   "id": "b43a77cc",
   "metadata": {},
   "source": [
    "## Reslicing"
   ]
  },
  {
   "cell_type": "markdown",
   "id": "cfdf64b7",
   "metadata": {},
   "source": [
    "We will now make the sample frontwall face the screen"
   ]
  },
  {
   "cell_type": "code",
   "execution_count": null,
   "id": "4f619552",
   "metadata": {},
   "outputs": [],
   "source": [
    "aligned_volume = reslicer.rotate_auto(aligned_volume)\n",
    "aligned_volume = reslicer.reslice(aligned_volume,'Bottom')"
   ]
  },
  {
   "cell_type": "code",
   "execution_count": null,
   "id": "b2042fff",
   "metadata": {},
   "outputs": [],
   "source": [
    "plt.imshow(aligned_volume[35], cmap='gray')"
   ]
  },
  {
   "cell_type": "markdown",
   "id": "64558a68",
   "metadata": {},
   "source": [
    "## Save the volume"
   ]
  },
  {
   "cell_type": "code",
   "execution_count": null,
   "id": "aee02ba4",
   "metadata": {},
   "outputs": [],
   "source": [
    "#save the resliced volume as a TIFF file\n",
    "tifffile.imwrite(output_filename, aligned_volume)"
   ]
  }
 ],
 "metadata": {
  "kernelspec": {
   "display_name": "Python 3",
   "language": "python",
   "name": "python3"
  },
  "language_info": {
   "codemirror_mode": {
    "name": "ipython",
    "version": 3
   },
   "file_extension": ".py",
   "mimetype": "text/x-python",
   "name": "python",
   "nbconvert_exporter": "python",
   "pygments_lexer": "ipython3",
   "version": "3.13.2"
  }
 },
 "nbformat": 4,
 "nbformat_minor": 5
}
