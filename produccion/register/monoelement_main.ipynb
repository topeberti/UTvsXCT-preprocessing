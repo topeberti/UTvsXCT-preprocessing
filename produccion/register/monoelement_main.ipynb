{
 "cells": [
  {
   "cell_type": "code",
   "execution_count": null,
   "id": "3d33cc6c",
   "metadata": {},
   "outputs": [],
   "source": [
    "import tifffile\n",
    "import numpy as np\n",
    "from tqdm import tqdm\n",
    "from pathlib import Path\n",
    "import os\n",
    "import pandas as pd\n",
    "import sys\n",
    "sys.path.append(r'\\\\192.168.10.106\\imdea\\DataDriven_UT_AlbertoVicente\\10_code\\UTvsXCT-preprocessing')\n",
    "from dbtools import dbtools as db\n",
    "from dbtools import load\n",
    "from preprocess_tools import io, aligner, reslicer, signal, register"
   ]
  },
  {
   "cell_type": "markdown",
   "id": "4bed61b5",
   "metadata": {},
   "source": [
    "# Database conection"
   ]
  },
  {
   "cell_type": "code",
   "execution_count": null,
   "id": "558bf1bb",
   "metadata": {},
   "outputs": [],
   "source": [
    "try:\n",
    "    conn = db.connect()\n",
    "    print(\"Connected to the database\")\n",
    "except Exception as error:\n",
    "    print(error)"
   ]
  },
  {
   "cell_type": "markdown",
   "id": "9862a91d",
   "metadata": {},
   "source": [
    "# Measurement type id"
   ]
  },
  {
   "cell_type": "markdown",
   "id": "dfa15494",
   "metadata": {},
   "source": [
    "Select the measurement type of the monoelement and the xct"
   ]
  },
  {
   "cell_type": "code",
   "execution_count": null,
   "id": "2ba59d28",
   "metadata": {},
   "outputs": [],
   "source": [
    "measurementtypes_table = db.get_data_metadata('measurementtypes')\n",
    "\n",
    "measurementtypes_table"
   ]
  },
  {
   "cell_type": "code",
   "execution_count": null,
   "id": "8645c275",
   "metadata": {},
   "outputs": [],
   "source": [
    "reference_measurementtype_id = 5\n",
    "registered_measurementtype_id = 6"
   ]
  },
  {
   "cell_type": "code",
   "execution_count": null,
   "id": "5d4cda99",
   "metadata": {},
   "outputs": [],
   "source": [
    "#get the resolutions of each type\n",
    "reference_resolution = 1\n",
    "registered_resolution = measurementtypes_table[measurementtypes_table['id_measurementtype'] == registered_measurementtype_id]['voxel_size_measurementtype'].values[0]\n",
    "\n",
    "registered_resolution = float(registered_resolution.split(' ')[0])\n",
    "\n",
    "print(f\"Reference resolution: {reference_resolution}\"\n",
    "      f\"\\nRegistered resolution: {registered_resolution}\")"
   ]
  },
  {
   "cell_type": "markdown",
   "id": "a1ebebc0",
   "metadata": {},
   "source": [
    "# Measurement filtering"
   ]
  },
  {
   "cell_type": "markdown",
   "id": "eda3e398",
   "metadata": {},
   "source": [
    "We have to filter the measurements to select which of them to register."
   ]
  },
  {
   "cell_type": "markdown",
   "id": "84906717",
   "metadata": {},
   "source": [
    "## Select samples"
   ]
  },
  {
   "cell_type": "markdown",
   "id": "744280a3",
   "metadata": {},
   "source": [
    "We select the panel"
   ]
  },
  {
   "cell_type": "code",
   "execution_count": null,
   "id": "33e5ce90",
   "metadata": {},
   "outputs": [],
   "source": [
    "panels_table = db.get_data_metadata('panels')\n",
    "\n",
    "panels_table"
   ]
  },
  {
   "cell_type": "code",
   "execution_count": null,
   "id": "13678001",
   "metadata": {},
   "outputs": [],
   "source": [
    "panel_id = 3"
   ]
  },
  {
   "cell_type": "markdown",
   "id": "ed4a7dd6",
   "metadata": {},
   "source": [
    "Get all the samples from the selected panel.\n",
    "\n",
    "Get only the ones with keyholes.\n",
    "\n",
    "Get only the id and name of the samples."
   ]
  },
  {
   "cell_type": "code",
   "execution_count": null,
   "id": "cf6ab1db",
   "metadata": {},
   "outputs": [],
   "source": [
    "samples_table = db.get_data_metadata('samples')\n",
    "\n",
    "samples_table = samples_table[samples_table['panel_id_sample'] == panel_id]\n",
    "\n",
    "samples_table = samples_table[samples_table['keyhole_sample'] == 'True bool']\n",
    "\n",
    "samples_table = samples_table[['id_sample', 'name_sample']]\n",
    "\n",
    "samples_table"
   ]
  },
  {
   "cell_type": "markdown",
   "id": "c4b46a77",
   "metadata": {},
   "source": [
    "## select measurements"
   ]
  },
  {
   "cell_type": "markdown",
   "id": "40cc777a",
   "metadata": {},
   "source": [
    "We have to filter the measurements"
   ]
  },
  {
   "cell_type": "markdown",
   "id": "a1475e17",
   "metadata": {},
   "source": [
    "### Monoelement filtering"
   ]
  },
  {
   "cell_type": "code",
   "execution_count": null,
   "id": "b04ef084",
   "metadata": {},
   "outputs": [],
   "source": [
    "measurements_table_monoelement = db.relation_metadata('measurements', 'samples','sample_measurements')\n",
    "\n",
    "measurements_table_monoelement = measurements_table_monoelement[measurements_table_monoelement['measurementtype_id_measurement'] == reference_measurementtype_id]\n",
    "\n",
    "#drop NA columns\n",
    "measurements_table_monoelement = measurements_table_monoelement.dropna(axis=1, how='all')\n",
    "\n",
    "#get the measurements from the samples\n",
    "measurements_table_monoelement = measurements_table_monoelement[measurements_table_monoelement['id_sample'].isin(samples_table['id_sample'])]\n",
    "\n",
    "#group by file_path_measurement\n",
    "def agg_func(x):\n",
    "    if len(x.unique()) > 1:\n",
    "        return list(x.unique())\n",
    "    else:\n",
    "        return x.iloc[0]\n",
    "\n",
    "measurements_table_monoelement = measurements_table_monoelement.groupby(\n",
    "    ['file_path_measurement'], dropna=False\n",
    ").agg(agg_func).reset_index()\n",
    "\n",
    "#get the measurements from the samples\n",
    "measurements_table_monoelement = measurements_table_monoelement[measurements_table_monoelement['id_sample'].isin(samples_table['id_sample'])]\n",
    "\n",
    "measurements_table_monoelement = measurements_table_monoelement[['file_path_measurement','id_measurement','id_sample','name_sample']]\n",
    "\n",
    "measurements_table_monoelement"
   ]
  },
  {
   "cell_type": "markdown",
   "id": "a7969e78",
   "metadata": {},
   "source": [
    "### xct filtering"
   ]
  },
  {
   "cell_type": "code",
   "execution_count": null,
   "id": "58af5ea6",
   "metadata": {},
   "outputs": [],
   "source": [
    "measurements_table_xct = db.relation_metadata('measurements', 'samples','sample_measurements')\n",
    "\n",
    "measurements_table_xct = measurements_table_xct[measurements_table_xct['measurementtype_id_measurement'] == registered_measurementtype_id]\n",
    "\n",
    "#drop NA columns\n",
    "measurements_table_xct = measurements_table_xct.dropna(axis=1, how='all')\n",
    "\n",
    "#get the measurements from the samples\n",
    "measurements_table_xct = measurements_table_xct[measurements_table_xct['id_sample'].isin(samples_table['id_sample'])]\n",
    "\n",
    "#group by file_path_measurement\n",
    "def agg_func(x):\n",
    "    if len(x.unique()) > 1:\n",
    "        return list(x.unique())\n",
    "    else:\n",
    "        return x.iloc[0]\n",
    "\n",
    "measurements_table_xct = measurements_table_xct.groupby(\n",
    "    ['file_path_measurement'], dropna=False\n",
    ").agg(agg_func).reset_index()\n",
    "\n",
    "#get the measurements from the samples\n",
    "measurements_table_xct = measurements_table_xct[measurements_table_xct['id_sample'].isin(samples_table['id_sample'])]\n",
    "\n",
    "#get the equalized measurements\n",
    "measurements_table_xct = measurements_table_xct[measurements_table_xct['equalized_measurement'] == 'True bool']\n",
    "\n",
    "#get the aligned measurements\n",
    "measurements_table_xct = measurements_table_xct[measurements_table_xct['aligned_measurement'] == 'True bool']\n",
    "\n",
    "\n",
    "# measurements_table_xct = measurements_table_xct[['file_path_measurement','id_measurement','id_sample','name_sample']]\n",
    "\n",
    "measurements_table_xct[['file_path_measurement','id_measurement','id_sample','name_sample']]"
   ]
  },
  {
   "cell_type": "markdown",
   "id": "21b127b0",
   "metadata": {},
   "source": [
    "## Get existing registrations"
   ]
  },
  {
   "cell_type": "code",
   "execution_count": null,
   "id": "cd51e694",
   "metadata": {},
   "outputs": [],
   "source": [
    "registration_type = 'Alberto 2024 registration method, UTvsXCTPreprocessing toolkit 0.1.14 , file register.py function register_ut_xct_monoelement. Extract the centers of the holes from UT and XCT, and register them using a rigid body transformation text'\n",
    "\n",
    "registrations_table = db.get_data_metadata('registrations')\n",
    "\n",
    "try:\n",
    "    registrations_table = registrations_table[registrations_table['type_registration'] == registration_type]\n",
    "\n",
    "    registrations_table\n",
    "\n",
    "    available_registrations = True\n",
    "\n",
    "except Exception as e:\n",
    "    print(f\"No registrations available for type: {registration_type}\")\n",
    "    available_registrations = False\n"
   ]
  },
  {
   "cell_type": "markdown",
   "id": "7fff120b",
   "metadata": {},
   "source": [
    "# Registering"
   ]
  },
  {
   "cell_type": "code",
   "execution_count": null,
   "id": "d9a88694",
   "metadata": {},
   "outputs": [],
   "source": [
    "for i in range(len(samples_table)):\n",
    "        \n",
    "    try:\n",
    "\n",
    "        print(f\"Processing sample {i+1}/{len(samples_table)}: {samples_table['name_sample'].iloc[i]}\")\n",
    "\n",
    "        #get the measurements for the sample\n",
    "        measurements_table_reference_sample = measurements_table_monoelement[measurements_table_monoelement['id_sample'] == samples_table['id_sample'].iloc[i]]\n",
    "\n",
    "        if measurements_table_reference_sample.empty:\n",
    "            print(f\"No reference measurements found for sample {samples_table['name_sample'].iloc[i]}\")\n",
    "            continue\n",
    "\n",
    "        #get the measurements for the sample\n",
    "        measurements_table_registered_sample = measurements_table_xct[measurements_table_xct['id_sample'] == samples_table['id_sample'].iloc[i]]\n",
    "\n",
    "        if measurements_table_registered_sample.empty:\n",
    "            print(f\"No registered measurements found for sample {samples_table['name_sample'].iloc[i]}\")\n",
    "            continue\n",
    "        \n",
    "        #check if the sample has already been registered\n",
    "        if available_registrations:\n",
    "            if measurements_table_reference_sample['id_measurement'].iloc[0] in registrations_table['reference_measurement_id_registration'].values:\n",
    "                if measurements_table_registered_sample['id_measurement'].iloc[0] in registrations_table['registered_measurement_id_registration'].values:\n",
    "                    print(f\"Sample {samples_table['name_sample'].iloc[i]} has already been registered.\")\n",
    "                    continue\n",
    "\n",
    "        #get the paths\n",
    "        reference_measurement_path = Path(measurements_table_reference_sample['file_path_measurement'].iloc[0])\n",
    "        registered_measurement_path = Path(measurements_table_registered_sample['file_path_measurement'].iloc[0])\n",
    "\n",
    "        #load the reference measurement\n",
    "        rf = io.load_tif(reference_measurement_path)\n",
    "\n",
    "        #load the registered measurement\n",
    "        xct = io.load_tif(registered_measurement_path)\n",
    "\n",
    "        #create a folder named aux_registration in the same folder as the registered file\n",
    "        aux_registration_folder = registered_measurement_path.parent / 'aux_registration'\n",
    "        aux_registration_folder.mkdir(parents=True, exist_ok=True)\n",
    "\n",
    "        #convert rf from z,y,x to x,y,z\n",
    "        rf = np.transpose(rf, (2, 1, 0))\n",
    "\n",
    "        #UT preprocessing\n",
    "        amp = signal.envelope(rf)\n",
    "\n",
    "        rf = np.transpose(amp, (2, 1, 0))  # Ensure rf is in the correct shape for registration\n",
    "        amp = np.transpose(amp, (2, 1, 0))  # Ensure amp is in the correct shape for registration\n",
    "        \n",
    "        #register\n",
    "        parameters,ut_centers,xct_centers, transformed = register.register_ut_xct_monoelement(amp,xct,reference_resolution,registered_resolution)\n",
    "\n",
    "        # Save the aux files\n",
    "        aux_output_file = aux_registration_folder / 'centers.tif'\n",
    "        io.save_tif(aux_output_file, ut_centers)\n",
    "        aux_output_file = aux_registration_folder / 'centers_xct.tif'\n",
    "        io.save_tif(aux_output_file, xct_centers)\n",
    "        aux_output_file = aux_registration_folder / 'transformed_centers_xct.tif'\n",
    "        io.save_tif(aux_output_file, transformed)\n",
    "\n",
    "        #estimate the registration error\n",
    "        mse = np.mean(((ut_centers > 0)*1 - (transformed> 0)*1) ** 2)\n",
    "        print(f\"Mean Squared Error (MSE): {mse}\")\n",
    "\n",
    "        #save into the database\n",
    "        axes = ['x', 'y']\n",
    "\n",
    "        parameters_list = []\n",
    "\n",
    "        for i in range(len(parameters)):\n",
    "            aux_list = []\n",
    "            for j in range(len(parameters[i])):\n",
    "                aux_list.append(float(parameters[i][j]))\n",
    "            parameters_list.append(aux_list)\n",
    "\n",
    "        load.load_registration(conn,parameters_list,str(reference_measurement_path),str(registered_measurement_path),registration_type,axes)\n",
    "    \n",
    "    except Exception as e:\n",
    "        print(f\"Error processing sample {samples_table['name_sample'].iloc[i]}: {e}\")\n",
    "        continue"
   ]
  }
 ],
 "metadata": {
  "kernelspec": {
   "display_name": "prepUTvsXCT",
   "language": "python",
   "name": "python3"
  },
  "language_info": {
   "codemirror_mode": {
    "name": "ipython",
    "version": 3
   },
   "file_extension": ".py",
   "mimetype": "text/x-python",
   "name": "python",
   "nbconvert_exporter": "python",
   "pygments_lexer": "ipython3",
   "version": "3.13.2"
  }
 },
 "nbformat": 4,
 "nbformat_minor": 5
}
