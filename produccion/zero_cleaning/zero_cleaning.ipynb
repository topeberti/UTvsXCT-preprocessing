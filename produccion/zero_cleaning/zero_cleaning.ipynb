{
 "cells": [
  {
   "cell_type": "markdown",
   "id": "515de2ff",
   "metadata": {},
   "source": [
    "Load a volume and change the pixels equal to 0 to a desired value.\n",
    "\n",
    "in our samples is 41."
   ]
  },
  {
   "cell_type": "code",
   "execution_count": 2,
   "id": "328a7d83",
   "metadata": {},
   "outputs": [],
   "source": [
    "from pathlib import Path\n",
    "import numpy as np\n",
    "import sys\n",
    "sys.path.append(r'\\\\192.168.10.106\\imdea\\DataDriven_UT_AlbertoVicente\\10_code\\UTvsXCT-preprocessing')\n",
    "from preprocess_tools import io\n",
    "from tqdm import tqdm"
   ]
  },
  {
   "cell_type": "code",
   "execution_count": 3,
   "id": "808db696",
   "metadata": {},
   "outputs": [],
   "source": [
    "paths = [\n",
    "    Path(r'\\\\192.168.10.106\\imdea\\DataDriven_UT_AlbertoVicente\\02_XCT_data\\Airbus\\Panel Pegaso\\probetas\\1\\6\\volume_eq_aligned.tif'),\n",
    "    Path(r'\\\\192.168.10.106\\imdea\\DataDriven_UT_AlbertoVicente\\02_XCT_data\\Airbus\\Panel Pegaso\\probetas\\1\\7\\volume_eq_aligned.tif'),\n",
    "    Path(r'\\\\192.168.10.106\\imdea\\DataDriven_UT_AlbertoVicente\\02_XCT_data\\Airbus\\Panel Pegaso\\probetas\\1\\8\\volume_eq_aligned.tif'),\n",
    "    Path(r'\\\\192.168.10.106\\imdea\\DataDriven_UT_AlbertoVicente\\02_XCT_data\\Airbus\\Panel Pegaso\\probetas\\1\\9\\volume_eq_aligned.tif'),\n",
    "    Path(r'\\\\192.168.10.106\\imdea\\DataDriven_UT_AlbertoVicente\\02_XCT_data\\Airbus\\Panel Pegaso\\probetas\\1\\10\\volume_eq_aligned.tif'),\n",
    "    Path(r'\\\\192.168.10.106\\imdea\\DataDriven_UT_AlbertoVicente\\02_XCT_data\\Airbus\\Panel Pegaso\\probetas\\1\\11\\volume_eq_aligned.tif'),\n",
    "    Path(r'\\\\192.168.10.106\\imdea\\DataDriven_UT_AlbertoVicente\\02_XCT_data\\Airbus\\Panel Pegaso\\probetas\\1\\12\\volume_eq_aligned.tif'),\n",
    "    Path(r'\\\\192.168.10.106\\imdea\\DataDriven_UT_AlbertoVicente\\02_XCT_data\\Airbus\\Panel Pegaso\\probetas\\1\\13\\volume_eq_aligned.tif'),\n",
    "    Path(r'\\\\192.168.10.106\\imdea\\DataDriven_UT_AlbertoVicente\\02_XCT_data\\Airbus\\Panel Pegaso\\probetas\\1\\14\\volume_eq_aligned.tif'),\n",
    "    Path(r'\\\\192.168.10.106\\imdea\\DataDriven_UT_AlbertoVicente\\02_XCT_data\\Airbus\\Panel Pegaso\\probetas\\1\\15\\volume_eq_aligned.tif'),\n",
    "    Path(r'\\\\192.168.10.106\\imdea\\DataDriven_UT_AlbertoVicente\\02_XCT_data\\Airbus\\Panel Pegaso\\probetas\\1\\16\\volume_eq_aligned.tif'),\n",
    "    Path(r'\\\\192.168.10.106\\imdea\\DataDriven_UT_AlbertoVicente\\02_XCT_data\\Airbus\\Panel Pegaso\\probetas\\1\\17\\volume_eq_aligned.tif'),\n",
    "    Path(r'\\\\192.168.10.106\\imdea\\DataDriven_UT_AlbertoVicente\\02_XCT_data\\Airbus\\Panel Pegaso\\probetas\\1\\21\\volume_eq_cleaned_aligned.tif'),\n",
    "    Path(r'\\\\192.168.10.106\\imdea\\DataDriven_UT_AlbertoVicente\\02_XCT_data\\Airbus\\Panel Pegaso\\probetas\\1\\22\\volume_eq_cleaned_aligned.tif'),\n",
    "    Path(r'\\\\192.168.10.106\\imdea\\DataDriven_UT_AlbertoVicente\\02_XCT_data\\Airbus\\Panel Pegaso\\probetas\\1\\23\\volume_eq_cleaned_aligned.tif'),\n",
    "    Path(r'\\\\192.168.10.106\\imdea\\DataDriven_UT_AlbertoVicente\\02_XCT_data\\Airbus\\Panel Pegaso\\probetas\\1\\24\\volume_eq_cleaned_aligned.tif'),\n",
    "    Path(r'\\\\192.168.10.106\\imdea\\DataDriven_UT_AlbertoVicente\\02_XCT_data\\Airbus\\Panel Pegaso\\probetas\\1\\26\\volumen_eq_aligned.tif'),\n",
    "    Path(r'\\\\192.168.10.106\\imdea\\DataDriven_UT_AlbertoVicente\\02_XCT_data\\Airbus\\Panel Pegaso\\probetas\\1\\27\\volumen_eq_aligned.tif'),\n",
    "    Path(r'\\\\192.168.10.106\\imdea\\DataDriven_UT_AlbertoVicente\\02_XCT_data\\Airbus\\Panel Pegaso\\probetas\\1\\28\\volumen_eq_aligned.tif'),\n",
    "    Path(r'\\\\192.168.10.106\\imdea\\DataDriven_UT_AlbertoVicente\\02_XCT_data\\Airbus\\Panel Pegaso\\probetas\\1\\29\\volumen_eq_aligned.tif'),\n",
    "    Path(r'\\\\192.168.10.106\\imdea\\DataDriven_UT_AlbertoVicente\\02_XCT_data\\Airbus\\Panel Pegaso\\probetas\\1\\32\\volumen_eq_aligned.tif'),\n",
    "    Path(r'\\\\192.168.10.106\\imdea\\DataDriven_UT_AlbertoVicente\\02_XCT_data\\Airbus\\Panel Pegaso\\probetas\\1\\32\\volumen_eq_aligned.tif'),\n",
    "    Path(r'\\\\192.168.10.106\\imdea\\DataDriven_UT_AlbertoVicente\\02_XCT_data\\Airbus\\Panel Pegaso\\probetas\\1\\33\\volumen_eq_aligned.tif'),\n",
    "    Path(r'\\\\192.168.10.106\\imdea\\DataDriven_UT_AlbertoVicente\\02_XCT_data\\Airbus\\Panel Pegaso\\probetas\\1\\35\\volumen_eq_aligned.tif'),\n",
    "]\n",
    "\n",
    "#check that the paths exist\n",
    "for path in paths:\n",
    "    if not path.exists():\n",
    "        print(f\"Path {path} does not exist\")"
   ]
  },
  {
   "cell_type": "code",
   "execution_count": 4,
   "id": "4ded911f",
   "metadata": {},
   "outputs": [
    {
     "name": "stderr",
     "output_type": "stream",
     "text": [
      "Processing volumes: 100%|██████████| 24/24 [17:13<00:00, 43.06s/volume]\n"
     ]
    }
   ],
   "source": [
    "for path in tqdm(paths, desc=\"Processing volumes\", unit=\"volume\", total=len(paths)):\n",
    "\n",
    "    volume = io.load_tif(path)\n",
    "\n",
    "    volume[np.where(volume == 0)] = 41  # Change all pixels equal to 0 to 41\n",
    "\n",
    "    io.save_tif(path, volume)"
   ]
  }
 ],
 "metadata": {
  "kernelspec": {
   "display_name": "prepUTvsXCT",
   "language": "python",
   "name": "python3"
  },
  "language_info": {
   "codemirror_mode": {
    "name": "ipython",
    "version": 3
   },
   "file_extension": ".py",
   "mimetype": "text/x-python",
   "name": "python",
   "nbconvert_exporter": "python",
   "pygments_lexer": "ipython3",
   "version": "3.13.2"
  }
 },
 "nbformat": 4,
 "nbformat_minor": 5
}
