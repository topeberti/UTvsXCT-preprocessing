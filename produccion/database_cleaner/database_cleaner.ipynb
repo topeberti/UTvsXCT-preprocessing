{
 "cells": [
  {
   "cell_type": "markdown",
   "id": "36dfa7a2",
   "metadata": {},
   "source": [
    "Given a folder, searchs in all the subfolders for .tif files and check if the paths does not exist in the database, if not deletes the file."
   ]
  },
  {
   "cell_type": "code",
   "execution_count": 11,
   "id": "04f8ab52",
   "metadata": {},
   "outputs": [],
   "source": [
    "from pathlib import Path\n",
    "import numpy as np\n",
    "import sys\n",
    "sys.path.append(r'\\\\192.168.10.106\\imdea\\DataDriven_UT_AlbertoVicente\\10_code\\UTvsXCT-preprocessing')\n",
    "from preprocess_tools import io\n",
    "from dbtools import dbtools as db"
   ]
  },
  {
   "cell_type": "markdown",
   "id": "418e8acc",
   "metadata": {},
   "source": [
    "# Load the files"
   ]
  },
  {
   "cell_type": "code",
   "execution_count": 12,
   "id": "6de3c52e",
   "metadata": {},
   "outputs": [],
   "source": [
    "folder = Path(r'\\\\192.168.10.106\\imdea\\DataDriven_UT_AlbertoVicente\\02_XCT_data\\Airbus\\Panel Pegaso\\probetas\\1')\n",
    "\n",
    "tif_files = []\n",
    "\n",
    "#search for all the tif files in the folder\n",
    "tif_files.append(list(folder.glob('*.tif')))\n",
    "\n",
    "#search for all the tif files in the subfolders\n",
    "for subfolder in folder.glob('*'):\n",
    "    if subfolder.is_dir():\n",
    "        tif_files.append(list(subfolder.glob('*.tif')))\n",
    "\n",
    "#flatten the list\n",
    "tif_files = [item for sublist in tif_files for item in sublist]"
   ]
  },
  {
   "cell_type": "markdown",
   "id": "0392dcfc",
   "metadata": {},
   "source": [
    "# Retrieve the measurements table from the db"
   ]
  },
  {
   "cell_type": "code",
   "execution_count": 13,
   "id": "5ec3d113",
   "metadata": {},
   "outputs": [
    {
     "data": {
      "text/html": [
       "<div>\n",
       "<style scoped>\n",
       "    .dataframe tbody tr th:only-of-type {\n",
       "        vertical-align: middle;\n",
       "    }\n",
       "\n",
       "    .dataframe tbody tr th {\n",
       "        vertical-align: top;\n",
       "    }\n",
       "\n",
       "    .dataframe thead th {\n",
       "        text-align: right;\n",
       "    }\n",
       "</style>\n",
       "<table border=\"1\" class=\"dataframe\">\n",
       "  <thead>\n",
       "    <tr style=\"text-align: right;\">\n",
       "      <th></th>\n",
       "      <th>id_measurement</th>\n",
       "      <th>file_path_measurement</th>\n",
       "      <th>parent_measurement_id_measurement</th>\n",
       "      <th>measurementtype_id_measurement</th>\n",
       "    </tr>\n",
       "  </thead>\n",
       "  <tbody>\n",
       "    <tr>\n",
       "      <th>0</th>\n",
       "      <td>93</td>\n",
       "      <td>\\\\192.168.10.106\\imdea\\DataDriven_UT_AlbertoVi...</td>\n",
       "      <td>NaN</td>\n",
       "      <td>5</td>\n",
       "    </tr>\n",
       "    <tr>\n",
       "      <th>1</th>\n",
       "      <td>101</td>\n",
       "      <td>\\\\192.168.10.106\\imdea\\DataDriven_UT_AlbertoVi...</td>\n",
       "      <td>NaN</td>\n",
       "      <td>6</td>\n",
       "    </tr>\n",
       "    <tr>\n",
       "      <th>2</th>\n",
       "      <td>102</td>\n",
       "      <td>\\\\192.168.10.106\\imdea\\DataDriven_UT_AlbertoVi...</td>\n",
       "      <td>101.0</td>\n",
       "      <td>6</td>\n",
       "    </tr>\n",
       "    <tr>\n",
       "      <th>3</th>\n",
       "      <td>103</td>\n",
       "      <td>\\\\192.168.10.106\\imdea\\DataDriven_UT_AlbertoVi...</td>\n",
       "      <td>NaN</td>\n",
       "      <td>6</td>\n",
       "    </tr>\n",
       "    <tr>\n",
       "      <th>4</th>\n",
       "      <td>104</td>\n",
       "      <td>\\\\192.168.10.106\\imdea\\DataDriven_UT_AlbertoVi...</td>\n",
       "      <td>103.0</td>\n",
       "      <td>6</td>\n",
       "    </tr>\n",
       "    <tr>\n",
       "      <th>...</th>\n",
       "      <td>...</td>\n",
       "      <td>...</td>\n",
       "      <td>...</td>\n",
       "      <td>...</td>\n",
       "    </tr>\n",
       "    <tr>\n",
       "      <th>117</th>\n",
       "      <td>236</td>\n",
       "      <td>\\\\192.168.10.106\\imdea\\DataDriven_UT_AlbertoVi...</td>\n",
       "      <td>212.0</td>\n",
       "      <td>6</td>\n",
       "    </tr>\n",
       "    <tr>\n",
       "      <th>118</th>\n",
       "      <td>237</td>\n",
       "      <td>\\\\192.168.10.106\\imdea\\DataDriven_UT_AlbertoVi...</td>\n",
       "      <td>215.0</td>\n",
       "      <td>6</td>\n",
       "    </tr>\n",
       "    <tr>\n",
       "      <th>119</th>\n",
       "      <td>238</td>\n",
       "      <td>\\\\192.168.10.106\\imdea\\DataDriven_UT_AlbertoVi...</td>\n",
       "      <td>216.0</td>\n",
       "      <td>6</td>\n",
       "    </tr>\n",
       "    <tr>\n",
       "      <th>120</th>\n",
       "      <td>239</td>\n",
       "      <td>\\\\192.168.10.106\\imdea\\DataDriven_UT_AlbertoVi...</td>\n",
       "      <td>217.0</td>\n",
       "      <td>6</td>\n",
       "    </tr>\n",
       "    <tr>\n",
       "      <th>121</th>\n",
       "      <td>240</td>\n",
       "      <td>\\\\192.168.10.106\\imdea\\DataDriven_UT_AlbertoVi...</td>\n",
       "      <td>218.0</td>\n",
       "      <td>6</td>\n",
       "    </tr>\n",
       "  </tbody>\n",
       "</table>\n",
       "<p>122 rows × 4 columns</p>\n",
       "</div>"
      ],
      "text/plain": [
       "     id_measurement                              file_path_measurement  \\\n",
       "0                93  \\\\192.168.10.106\\imdea\\DataDriven_UT_AlbertoVi...   \n",
       "1               101  \\\\192.168.10.106\\imdea\\DataDriven_UT_AlbertoVi...   \n",
       "2               102  \\\\192.168.10.106\\imdea\\DataDriven_UT_AlbertoVi...   \n",
       "3               103  \\\\192.168.10.106\\imdea\\DataDriven_UT_AlbertoVi...   \n",
       "4               104  \\\\192.168.10.106\\imdea\\DataDriven_UT_AlbertoVi...   \n",
       "..              ...                                                ...   \n",
       "117             236  \\\\192.168.10.106\\imdea\\DataDriven_UT_AlbertoVi...   \n",
       "118             237  \\\\192.168.10.106\\imdea\\DataDriven_UT_AlbertoVi...   \n",
       "119             238  \\\\192.168.10.106\\imdea\\DataDriven_UT_AlbertoVi...   \n",
       "120             239  \\\\192.168.10.106\\imdea\\DataDriven_UT_AlbertoVi...   \n",
       "121             240  \\\\192.168.10.106\\imdea\\DataDriven_UT_AlbertoVi...   \n",
       "\n",
       "     parent_measurement_id_measurement  measurementtype_id_measurement  \n",
       "0                                  NaN                               5  \n",
       "1                                  NaN                               6  \n",
       "2                                101.0                               6  \n",
       "3                                  NaN                               6  \n",
       "4                                103.0                               6  \n",
       "..                                 ...                             ...  \n",
       "117                              212.0                               6  \n",
       "118                              215.0                               6  \n",
       "119                              216.0                               6  \n",
       "120                              217.0                               6  \n",
       "121                              218.0                               6  \n",
       "\n",
       "[122 rows x 4 columns]"
      ]
     },
     "execution_count": 13,
     "metadata": {},
     "output_type": "execute_result"
    }
   ],
   "source": [
    "measurements_table = db.get_data('measurements')\n",
    "\n",
    "measurements_table"
   ]
  },
  {
   "cell_type": "markdown",
   "id": "fea62065",
   "metadata": {},
   "source": [
    "# Check which files are in the db"
   ]
  },
  {
   "cell_type": "code",
   "execution_count": 14,
   "id": "02ac5e6a",
   "metadata": {},
   "outputs": [
    {
     "name": "stdout",
     "output_type": "stream",
     "text": [
      "File \\\\192.168.10.106\\imdea\\DataDriven_UT_AlbertoVicente\\02_XCT_data\\Airbus\\Panel Pegaso\\probetas\\1\\21\\volume_eq_aligned.tif not found in the database.\n",
      "Deleting file \\\\192.168.10.106\\imdea\\DataDriven_UT_AlbertoVicente\\02_XCT_data\\Airbus\\Panel Pegaso\\probetas\\1\\21\\volume_eq_aligned.tif\n",
      "File \\\\192.168.10.106\\imdea\\DataDriven_UT_AlbertoVicente\\02_XCT_data\\Airbus\\Panel Pegaso\\probetas\\1\\24\\volume_eq_aligned.tif not found in the database.\n",
      "Deleting file \\\\192.168.10.106\\imdea\\DataDriven_UT_AlbertoVicente\\02_XCT_data\\Airbus\\Panel Pegaso\\probetas\\1\\24\\volume_eq_aligned.tif\n",
      "File \\\\192.168.10.106\\imdea\\DataDriven_UT_AlbertoVicente\\02_XCT_data\\Airbus\\Panel Pegaso\\probetas\\1\\31\\frontal_90right_manual_aligned_binary.tif not found in the database.\n",
      "Deleting file \\\\192.168.10.106\\imdea\\DataDriven_UT_AlbertoVicente\\02_XCT_data\\Airbus\\Panel Pegaso\\probetas\\1\\31\\frontal_90right_manual_aligned_binary.tif\n",
      "File \\\\192.168.10.106\\imdea\\DataDriven_UT_AlbertoVicente\\02_XCT_data\\Airbus\\Panel Pegaso\\probetas\\1\\31\\frontal_90right_manual_aligned_onlypores.tif not found in the database.\n",
      "Deleting file \\\\192.168.10.106\\imdea\\DataDriven_UT_AlbertoVicente\\02_XCT_data\\Airbus\\Panel Pegaso\\probetas\\1\\31\\frontal_90right_manual_aligned_onlypores.tif\n",
      "File \\\\192.168.10.106\\imdea\\DataDriven_UT_AlbertoVicente\\02_XCT_data\\Airbus\\Panel Pegaso\\probetas\\1\\31\\frontal_90right_manual_aligned_sample_mask.tif not found in the database.\n",
      "Deleting file \\\\192.168.10.106\\imdea\\DataDriven_UT_AlbertoVicente\\02_XCT_data\\Airbus\\Panel Pegaso\\probetas\\1\\31\\frontal_90right_manual_aligned_sample_mask.tif\n"
     ]
    }
   ],
   "source": [
    "for path in tif_files:\n",
    "    \n",
    "    row = measurements_table[measurements_table['file_path_measurement'] == str(path)]\n",
    "\n",
    "    if row.empty:\n",
    "        print(f'File {path} not found in the database.')\n",
    "        \n",
    "        #delete the file  from disk\n",
    "        print(f'Deleting file {path}')\n",
    "        path.unlink()"
   ]
  }
 ],
 "metadata": {
  "kernelspec": {
   "display_name": "prepUTvsXCT",
   "language": "python",
   "name": "python3"
  },
  "language_info": {
   "codemirror_mode": {
    "name": "ipython",
    "version": 3
   },
   "file_extension": ".py",
   "mimetype": "text/x-python",
   "name": "python",
   "nbconvert_exporter": "python",
   "pygments_lexer": "ipython3",
   "version": "3.13.2"
  }
 },
 "nbformat": 4,
 "nbformat_minor": 5
}
