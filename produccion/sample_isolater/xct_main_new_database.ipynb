{
 "cells": [
  {
   "cell_type": "code",
   "execution_count": 1,
   "metadata": {},
   "outputs": [],
   "source": [
    "import tifffile\n",
    "import numpy as np\n",
    "from tqdm import tqdm\n",
    "from pathlib import Path\n",
    "import os\n",
    "import pandas as pd\n",
    "import sys\n",
    "sys.path.append(r'\\\\192.168.10.106\\imdea\\DataDriven_UT_AlbertoVicente\\10_code\\UTvsXCT-preprocessing')\n",
    "import dbtools as db\n",
    "from dbtools import load as load\n",
    "from preprocess_tools import io, sample_isolater"
   ]
  },
  {
   "cell_type": "markdown",
   "metadata": {},
   "source": [
    "# Database conection"
   ]
  },
  {
   "cell_type": "code",
   "execution_count": 2,
   "metadata": {},
   "outputs": [
    {
     "name": "stdout",
     "output_type": "stream",
     "text": [
      "Connected to the database\n"
     ]
    }
   ],
   "source": [
    "try:\n",
    "    conn = db.connect()\n",
    "    print(\"Connected to the database\")\n",
    "except Exception as error:\n",
    "    print(error)"
   ]
  },
  {
   "cell_type": "markdown",
   "metadata": {},
   "source": [
    "# Data retrieval"
   ]
  },
  {
   "cell_type": "markdown",
   "metadata": {},
   "source": [
    "We have to load the data from the database to get:\n",
    "\n",
    "1. The file ids to use them as parent measurement"
   ]
  },
  {
   "cell_type": "markdown",
   "metadata": {},
   "source": [
    "## Measurements file paths"
   ]
  },
  {
   "cell_type": "code",
   "execution_count": 3,
   "metadata": {},
   "outputs": [
    {
     "name": "stdout",
     "output_type": "stream",
     "text": [
      "Original path: \\\\192.168.10.106\\imdea\\DataDriven_UT_AlbertoVicente\\02_XCT_data\\Fabricacion Nacho\\05_Probetas_Nacho_2025\\medidas\\Na_01_5_Na_02_1_2_3\\volume_eq, ID: [253 253 253 253] Measurement type ID: 6 Sample names: ['Na_01_5' 'Na_02_1' 'Na_02_2' 'Na_02_3']\n"
     ]
    }
   ],
   "source": [
    "original_paths = [Path(r'\\\\192.168.10.106\\imdea\\DataDriven_UT_AlbertoVicente\\02_XCT_data\\Fabricacion Nacho\\05_Probetas_Nacho_2025\\medidas\\Na_01_5_Na_02_1_2_3\\volume_eq')]\n",
    "\n",
    "measurements_table = db.relation_metadata('measurements','samples','sample_measurements')\n",
    "\n",
    "parent_id_column = 'measurementtype_id_measurement'\n",
    "\n",
    "# for each original path, get the id_measurement where file_path_measurement is equal to the str of the original path\n",
    "\n",
    "original_ids = []\n",
    "original_measurementtype_ids = []\n",
    "original_sample_names = []\n",
    "\n",
    "for original_path in original_paths:\n",
    "    original_path_str = str(original_path)\n",
    "    original_id = measurements_table.loc[measurements_table['file_path_measurement'] == original_path_str, 'id_measurement'].values\n",
    "    original_measurementtype_id = measurements_table.loc[measurements_table['file_path_measurement'] == original_path_str, parent_id_column].values[0]\n",
    "    original_sample_name = measurements_table.loc[measurements_table['file_path_measurement'] == original_path_str, 'name_sample'].values\n",
    "    original_ids.append(original_id)\n",
    "    original_measurementtype_ids.append(original_measurementtype_id)\n",
    "    original_sample_names.append(original_sample_name)\n",
    "    print(f\"Original path: {original_path_str}, ID: {original_id}\", \n",
    "          f\"Measurement type ID: {original_measurementtype_id}\",\n",
    "          f\"Sample names: {original_sample_name}\")"
   ]
  },
  {
   "cell_type": "markdown",
   "metadata": {},
   "source": [
    "# Saving folder"
   ]
  },
  {
   "cell_type": "code",
   "execution_count": 8,
   "metadata": {},
   "outputs": [],
   "source": [
    "saving_folder = Path(r'\\\\192.168.10.106\\imdea\\DataDriven_UT_AlbertoVicente\\02_XCT_data\\Fabricacion Nacho\\05_Probetas_Nacho_2025\\probetas')"
   ]
  },
  {
   "cell_type": "markdown",
   "metadata": {},
   "source": [
    "# Samples order"
   ]
  },
  {
   "cell_type": "code",
   "execution_count": null,
   "metadata": {},
   "outputs": [],
   "source": [
    "print('These are the samples present in the measurement:', original_sample_names)"
   ]
  },
  {
   "cell_type": "markdown",
   "metadata": {},
   "source": [
    "You have to set the order of the samples in the measurement from left to right."
   ]
  },
  {
   "cell_type": "code",
   "execution_count": 9,
   "metadata": {},
   "outputs": [],
   "source": [
    "samples_order = ['Na_01_5','Na_02_1','Na_02_2','Na_02_3']\n",
    "\n",
    "#assert that all original_sample_names are in samples_order\n",
    "for original_sample_name in original_sample_names:\n",
    "    assert original_sample_name[0] in samples_order, f\"{original_sample_name[0]} not in samples_order\""
   ]
  },
  {
   "cell_type": "markdown",
   "metadata": {},
   "source": [
    "## Functions"
   ]
  },
  {
   "cell_type": "markdown",
   "metadata": {},
   "source": [
    "## Database loading"
   ]
  },
  {
   "cell_type": "markdown",
   "metadata": {},
   "source": [
    "## main loop"
   ]
  },
  {
   "cell_type": "markdown",
   "metadata": {},
   "source": [
    "For each file:\n",
    "\n",
    "1. Load it\n",
    "\n",
    "2. Separate the samples in it\n",
    "\n",
    "3. Save each isolated sample\n",
    "\n",
    "4. Save them to the database"
   ]
  },
  {
   "cell_type": "code",
   "execution_count": 10,
   "metadata": {},
   "outputs": [
    {
     "name": "stderr",
     "output_type": "stream",
     "text": [
      "Progress: 100%|██████████| 3411/3411 [02:28<00:00, 22.94it/s]\n"
     ]
    },
    {
     "name": "stdout",
     "output_type": "stream",
     "text": [
      "Segmenting with Otsu\n",
      "Filling holes\n",
      "Labeling connected regions\n",
      "Extracting samples\n",
      "Saving isolated volume for sample Na_01_5 in folder \\\\192.168.10.106\\imdea\\DataDriven_UT_AlbertoVicente\\02_XCT_data\\Fabricacion Nacho\\05_Probetas_Nacho_2025\\probetas\\Na_01_5\\volume_eq\n"
     ]
    },
    {
     "name": "stderr",
     "output_type": "stream",
     "text": [
      "Saving: 100%|██████████| 3411/3411 [00:57<00:00, 59.30it/s]\n"
     ]
    },
    {
     "name": "stdout",
     "output_type": "stream",
     "text": [
      "Saving complete.\n",
      "XCT measurement from '\\\\192.168.10.106\\imdea\\DataDriven_UT_AlbertoVicente\\02_XCT_data\\Fabricacion Nacho\\05_Probetas_Nacho_2025\\probetas\\Na_01_5\\volume_eq' loaded with ID: 254\n",
      "Saving isolated volume for sample Na_02_1 in folder \\\\192.168.10.106\\imdea\\DataDriven_UT_AlbertoVicente\\02_XCT_data\\Fabricacion Nacho\\05_Probetas_Nacho_2025\\probetas\\Na_02_1\\volume_eq\n"
     ]
    },
    {
     "name": "stderr",
     "output_type": "stream",
     "text": [
      "Saving: 100%|██████████| 20/20 [00:00<00:00, 112.19it/s]"
     ]
    },
    {
     "name": "stdout",
     "output_type": "stream",
     "text": [
      "Saving complete.\n"
     ]
    },
    {
     "name": "stderr",
     "output_type": "stream",
     "text": [
      "\n"
     ]
    },
    {
     "name": "stdout",
     "output_type": "stream",
     "text": [
      "XCT measurement from '\\\\192.168.10.106\\imdea\\DataDriven_UT_AlbertoVicente\\02_XCT_data\\Fabricacion Nacho\\05_Probetas_Nacho_2025\\probetas\\Na_02_1\\volume_eq' loaded with ID: 255\n",
      "Saving isolated volume for sample Na_02_2 in folder \\\\192.168.10.106\\imdea\\DataDriven_UT_AlbertoVicente\\02_XCT_data\\Fabricacion Nacho\\05_Probetas_Nacho_2025\\probetas\\Na_02_2\\volume_eq\n"
     ]
    },
    {
     "name": "stderr",
     "output_type": "stream",
     "text": [
      "Saving: 100%|██████████| 3411/3411 [00:47<00:00, 71.69it/s]\n"
     ]
    },
    {
     "name": "stdout",
     "output_type": "stream",
     "text": [
      "Saving complete.\n",
      "XCT measurement from '\\\\192.168.10.106\\imdea\\DataDriven_UT_AlbertoVicente\\02_XCT_data\\Fabricacion Nacho\\05_Probetas_Nacho_2025\\probetas\\Na_02_2\\volume_eq' loaded with ID: 256\n",
      "Saving isolated volume for sample Na_02_3 in folder \\\\192.168.10.106\\imdea\\DataDriven_UT_AlbertoVicente\\02_XCT_data\\Fabricacion Nacho\\05_Probetas_Nacho_2025\\probetas\\Na_02_3\\volume_eq\n"
     ]
    },
    {
     "name": "stderr",
     "output_type": "stream",
     "text": [
      "Saving: 100%|██████████| 3411/3411 [01:40<00:00, 33.97it/s]\n"
     ]
    },
    {
     "name": "stdout",
     "output_type": "stream",
     "text": [
      "Saving complete.\n",
      "XCT measurement from '\\\\192.168.10.106\\imdea\\DataDriven_UT_AlbertoVicente\\02_XCT_data\\Fabricacion Nacho\\05_Probetas_Nacho_2025\\probetas\\Na_02_3\\volume_eq' loaded with ID: 257\n"
     ]
    }
   ],
   "source": [
    "for i in range(len(original_paths)):\n",
    "    # Get the original path and ID\n",
    "    original_path = original_paths[i]\n",
    "    original_id = original_ids[i]\n",
    "    original_measurementtype_id = int(original_measurementtype_ids[i])\n",
    "    measurement_sample_names = original_sample_names[i]\n",
    "    number_of_samples = len(original_sample_name)\n",
    "\n",
    "    #load the volume\n",
    "    volume = io.load_tif(original_path)\n",
    "\n",
    "    #isolate the samples\n",
    "    isolated_volumes = sample_isolater.isolate_samples(volume, number_of_samples)\n",
    "\n",
    "    for j,isolated_volume in enumerate(isolated_volumes):\n",
    "\n",
    "        sample_name = samples_order[j]\n",
    "\n",
    "        folder_name = saving_folder / sample_name / 'volume_eq'\n",
    "\n",
    "        #create folder\n",
    "        folder_name.mkdir(parents=True, exist_ok=True)\n",
    "\n",
    "        print(f\"Saving isolated volume for sample {sample_name} in folder {folder_name}\")\n",
    "\n",
    "        #save the isolated volume\n",
    "        io.save_tif(folder_name, isolated_volume)\n",
    "\n",
    "        height = isolated_volume.shape[0]\n",
    "        width = isolated_volume.shape[1]\n",
    "        depth = isolated_volume.shape[2]\n",
    "        dtype = str(isolated_volume.dtype)\n",
    "        file_type = 'folder'\n",
    "        aligned = False\n",
    "        equalized = True\n",
    "        axes = ['x','y','z']\n",
    "\n",
    "        transformation = 'Isolated from a volume conatining more samples using sample isolater from preprocess_tools 0.1.22'\n",
    "\n",
    "        #save in the database\n",
    "        load.load_xct_measurement(conn=conn,file_path=str(folder_name),measurementtype_id=original_measurementtype_id,height=height,width=width,depth=depth,dtype=dtype,file_type=file_type,sample_names=list(sample_name),aligned=aligned,equalized=equalized,axes_order=axes,parent_measurement_path=str(original_path),transformations=transformation)"
   ]
  }
 ],
 "metadata": {
  "kernelspec": {
   "display_name": "prepUTvsXCT",
   "language": "python",
   "name": "python3"
  },
  "language_info": {
   "codemirror_mode": {
    "name": "ipython",
    "version": 3
   },
   "file_extension": ".py",
   "mimetype": "text/x-python",
   "name": "python",
   "nbconvert_exporter": "python",
   "pygments_lexer": "ipython3",
   "version": "3.13.2"
  }
 },
 "nbformat": 4,
 "nbformat_minor": 2
}
