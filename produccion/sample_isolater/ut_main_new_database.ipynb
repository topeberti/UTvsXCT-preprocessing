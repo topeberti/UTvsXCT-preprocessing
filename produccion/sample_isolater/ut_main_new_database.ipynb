{
 "cells": [
  {
   "cell_type": "code",
   "execution_count": 9,
   "metadata": {},
   "outputs": [],
   "source": [
    "import tifffile\n",
    "import numpy as np\n",
    "from tqdm import tqdm\n",
    "from pathlib import Path\n",
    "import os\n",
    "import pandas as pd\n",
    "import sys\n",
    "sys.path.append(r'\\\\192.168.10.106\\imdea\\DataDriven_UT_AlbertoVicente\\10_code\\UTvsXCT-preprocessing')\n",
    "import dbtools.dbtools as db\n",
    "import dbtools.load as load\n",
    "from preprocess_tools import io, sample_isolater"
   ]
  },
  {
   "cell_type": "markdown",
   "metadata": {},
   "source": [
    "# Database conection"
   ]
  },
  {
   "cell_type": "code",
   "execution_count": 10,
   "metadata": {},
   "outputs": [
    {
     "name": "stdout",
     "output_type": "stream",
     "text": [
      "Connected to the database\n"
     ]
    }
   ],
   "source": [
    "try:\n",
    "    conn = db.connect()\n",
    "    print(\"Connected to the database\")\n",
    "except Exception as error:\n",
    "    print(error)"
   ]
  },
  {
   "cell_type": "markdown",
   "metadata": {},
   "source": [
    "# Data retrieval"
   ]
  },
  {
   "cell_type": "markdown",
   "metadata": {},
   "source": [
    "We have to load the data from the database to get:\n",
    "\n",
    "1. The file ids to use them as parent measurement"
   ]
  },
  {
   "cell_type": "markdown",
   "metadata": {},
   "source": [
    "## Measurements file paths"
   ]
  },
  {
   "cell_type": "code",
   "execution_count": 11,
   "metadata": {},
   "outputs": [
    {
     "name": "stdout",
     "output_type": "stream",
     "text": [
      "Original path: \\\\192.168.10.106\\imdea\\DataDriven_UT_AlbertoVicente\\03_UT_data\\Panel PEGASO\\2025 methodology\\medidas\\PegasoPiramide7922843L_1-17-21-22-23-24__12dB_DAC_10mm_20mms\\PegasoPiramide7922843_1-17-21-22-23-24__12dB_DAC_10mm_20mms_ascan416x282x448.tif, ID: [137 137 137 137 137] Measurement type ID: 7 Sample names: ['1.17' '1.21' '1.22' '1.23' '1.24']\n"
     ]
    }
   ],
   "source": [
    "original_paths = [Path(r\"\\\\192.168.10.106\\imdea\\DataDriven_UT_AlbertoVicente\\03_UT_data\\Panel PEGASO\\2025 methodology\\medidas\\PegasoPiramide7922843L_1-17-21-22-23-24__12dB_DAC_10mm_20mms\\PegasoPiramide7922843_1-17-21-22-23-24__12dB_DAC_10mm_20mms_ascan416x282x448.tif\")\n",
    "]\n",
    "\n",
    "measurements_table = db.relation_metadata('measurements','samples','sample_measurements')\n",
    "\n",
    "parent_id_column = 'measurementtype_id_measurement'\n",
    "\n",
    "saving_folder = Path(r'\\\\192.168.10.106\\imdea\\DataDriven_UT_AlbertoVicente\\03_UT_data\\Panel PEGASO\\2025 methodology\\probetas')\n",
    "\n",
    "# for each original path, get the id_measurement where file_path_measurement is equal to the str of the original path\n",
    "\n",
    "original_ids = []\n",
    "original_measurementtype_ids = []\n",
    "original_sample_names = []\n",
    "\n",
    "for original_path in original_paths:\n",
    "    original_path_str = str(original_path)\n",
    "    original_id = measurements_table.loc[measurements_table['file_path_measurement'] == original_path_str, 'id_measurement'].values\n",
    "    original_measurementtype_id = measurements_table.loc[measurements_table['file_path_measurement'] == original_path_str, parent_id_column].values[0]\n",
    "    original_sample_name = measurements_table.loc[measurements_table['file_path_measurement'] == original_path_str, 'name_sample'].values\n",
    "    original_ids.append(original_id)\n",
    "    original_measurementtype_ids.append(original_measurementtype_id)\n",
    "    original_sample_names.append(original_sample_name)\n",
    "    print(f\"Original path: {original_path_str}, ID: {original_id}\", \n",
    "          f\"Measurement type ID: {original_measurementtype_id}\",\n",
    "          f\"Sample names: {original_sample_name}\")"
   ]
  },
  {
   "cell_type": "markdown",
   "metadata": {},
   "source": [
    "## Functions"
   ]
  },
  {
   "cell_type": "markdown",
   "metadata": {},
   "source": [
    "## Database loading"
   ]
  },
  {
   "cell_type": "markdown",
   "metadata": {},
   "source": [
    "## main loop"
   ]
  },
  {
   "cell_type": "markdown",
   "metadata": {},
   "source": [
    "For each file:\n",
    "\n",
    "1. Load it\n",
    "\n",
    "2. Separate the samples in it\n",
    "\n",
    "3. Save each isolated sample\n",
    "\n",
    "4. Save them to the database"
   ]
  },
  {
   "cell_type": "code",
   "execution_count": 12,
   "metadata": {},
   "outputs": [
    {
     "name": "stdout",
     "output_type": "stream",
     "text": [
      "Saving isolated volume for sample 1.17 in \\\\192.168.10.106\\imdea\\DataDriven_UT_AlbertoVicente\\03_UT_data\\Panel PEGASO\\2025 methodology\\probetas\\1_17\\1_17.tif\n",
      "UT measurement from '\\\\192.168.10.106\\imdea\\DataDriven_UT_AlbertoVicente\\03_UT_data\\Panel PEGASO\\2025 methodology\\probetas\\1_17\\1_17.tif' loaded with ID: 196\n",
      "Saving isolated volume for sample 1.21 in \\\\192.168.10.106\\imdea\\DataDriven_UT_AlbertoVicente\\03_UT_data\\Panel PEGASO\\2025 methodology\\probetas\\1_21\\1_21.tif\n",
      "UT measurement from '\\\\192.168.10.106\\imdea\\DataDriven_UT_AlbertoVicente\\03_UT_data\\Panel PEGASO\\2025 methodology\\probetas\\1_21\\1_21.tif' loaded with ID: 197\n",
      "Saving isolated volume for sample 1.22 in \\\\192.168.10.106\\imdea\\DataDriven_UT_AlbertoVicente\\03_UT_data\\Panel PEGASO\\2025 methodology\\probetas\\1_22\\1_22.tif\n",
      "UT measurement from '\\\\192.168.10.106\\imdea\\DataDriven_UT_AlbertoVicente\\03_UT_data\\Panel PEGASO\\2025 methodology\\probetas\\1_22\\1_22.tif' loaded with ID: 198\n",
      "Saving isolated volume for sample 1.23 in \\\\192.168.10.106\\imdea\\DataDriven_UT_AlbertoVicente\\03_UT_data\\Panel PEGASO\\2025 methodology\\probetas\\1_23\\1_23.tif\n",
      "UT measurement from '\\\\192.168.10.106\\imdea\\DataDriven_UT_AlbertoVicente\\03_UT_data\\Panel PEGASO\\2025 methodology\\probetas\\1_23\\1_23.tif' loaded with ID: 199\n",
      "Saving isolated volume for sample 1.24 in \\\\192.168.10.106\\imdea\\DataDriven_UT_AlbertoVicente\\03_UT_data\\Panel PEGASO\\2025 methodology\\probetas\\1_24\\1_24.tif\n",
      "UT measurement from '\\\\192.168.10.106\\imdea\\DataDriven_UT_AlbertoVicente\\03_UT_data\\Panel PEGASO\\2025 methodology\\probetas\\1_24\\1_24.tif' loaded with ID: 200\n"
     ]
    }
   ],
   "source": [
    "for i in range(len(original_paths)):\n",
    "    # Get the original path and ID\n",
    "    original_path = original_paths[i]\n",
    "    original_id = original_ids[i]\n",
    "    original_measurementtype_id = original_measurementtype_ids[i]\n",
    "    original_sample_name = original_sample_names[i]\n",
    "    number_of_samples = len(original_sample_name)\n",
    "\n",
    "    #load the volume\n",
    "    volume = io.load_tif(original_path)\n",
    "\n",
    "    #isolate the samples\n",
    "    isolated_volumes = sample_isolater.isolate_samples_ut(volume, number_of_samples)\n",
    "\n",
    "    for j,isolated_volume in enumerate(isolated_volumes):\n",
    "\n",
    "        sample_name = original_sample_name[j]\n",
    "        #substitute . with _\n",
    "        sample_name = sample_name.replace('.', '_')\n",
    "\n",
    "        folder_name = saving_folder / sample_name\n",
    "        \n",
    "        #save the volume\n",
    "        #save it in the parent folder of it with the name of the sample\n",
    "        if not folder_name.exists():\n",
    "            folder_name.mkdir(parents=True, exist_ok=True)\n",
    "        save_path = folder_name / f\"{sample_name}.tif\"\n",
    "        print(f\"Saving isolated volume for sample {original_sample_name[j]} in {save_path}\")\n",
    "        #save in the path\n",
    "        io.save_tif(save_path, isolated_volume)\n",
    "\n",
    "        height,widht,depth = isolated_volume.shape\n",
    "\n",
    "        # #update the database\n",
    "        load.load_ut_measurement(conn,str(save_path),int(original_measurementtype_ids[i]),height,widht,depth,str(isolated_volume.dtype),'tif','RF',['z','y','x'],[original_sample_name[j]],str(original_paths[i]),'Cropped to region containing only the sample')"
   ]
  }
 ],
 "metadata": {
  "kernelspec": {
   "display_name": "prepUTvsXCT",
   "language": "python",
   "name": "python3"
  },
  "language_info": {
   "codemirror_mode": {
    "name": "ipython",
    "version": 3
   },
   "file_extension": ".py",
   "mimetype": "text/x-python",
   "name": "python",
   "nbconvert_exporter": "python",
   "pygments_lexer": "ipython3",
   "version": "3.13.2"
  }
 },
 "nbformat": 4,
 "nbformat_minor": 2
}
