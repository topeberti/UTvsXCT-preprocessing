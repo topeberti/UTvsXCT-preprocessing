{
 "cells": [
  {
   "cell_type": "markdown",
   "id": "a02a5a1d",
   "metadata": {},
   "source": [
    "# imports"
   ]
  },
  {
   "cell_type": "code",
   "execution_count": null,
   "id": "5d8e2c49",
   "metadata": {},
   "outputs": [],
   "source": [
    "import sys\n",
    "sys.path.append(r'\\\\192.168.10.106\\imdea\\DataDriven_UT_AlbertoVicente\\10_code\\UTvsXCT-preprocessing')\n",
    "from preprocess_tools import onlypores , datasetmaker, io, aligner, register, reslicer\n",
    "import numpy as np\n",
    "from dbtools import dbtools as db\n",
    "from dbtools import load as load\n",
    "import pandas as pd\n",
    "from pathlib import Path\n",
    "import ast"
   ]
  },
  {
   "cell_type": "markdown",
   "id": "fab4b455",
   "metadata": {},
   "source": [
    "# Database conection"
   ]
  },
  {
   "cell_type": "code",
   "execution_count": null,
   "id": "a73a9e68",
   "metadata": {},
   "outputs": [],
   "source": [
    "try:\n",
    "    conn = db.connect()\n",
    "    print(\"Connected to the database\")\n",
    "except Exception as error:\n",
    "    print(error)"
   ]
  },
  {
   "cell_type": "markdown",
   "id": "5a2746cf",
   "metadata": {},
   "source": [
    "# Select measurements to create the datasets"
   ]
  },
  {
   "cell_type": "markdown",
   "id": "ff4ad166",
   "metadata": {},
   "source": [
    "## measurement type "
   ]
  },
  {
   "cell_type": "code",
   "execution_count": null,
   "id": "03105c57",
   "metadata": {},
   "outputs": [],
   "source": [
    "measurementtypes_table = db.get_data_metadata('measurementtypes')\n",
    "\n",
    "measurementtypes_table"
   ]
  },
  {
   "cell_type": "code",
   "execution_count": null,
   "id": "8d1504a2",
   "metadata": {},
   "outputs": [],
   "source": [
    "ut_type = 5\n",
    "\n",
    "xct_type = 6"
   ]
  },
  {
   "cell_type": "markdown",
   "id": "b265e500",
   "metadata": {},
   "source": [
    "## Selecting UT measurements"
   ]
  },
  {
   "cell_type": "code",
   "execution_count": null,
   "id": "9a451886",
   "metadata": {},
   "outputs": [],
   "source": [
    "ut_measurements_table = db.get_data_metadata('measurements')"
   ]
  },
  {
   "cell_type": "code",
   "execution_count": null,
   "id": "46ddc3b0",
   "metadata": {},
   "outputs": [],
   "source": [
    "ut_measurements_table = ut_measurements_table[ut_measurements_table['measurementtype_id_measurement'] == ut_type]\n",
    "\n",
    "ut_measurements_table"
   ]
  },
  {
   "cell_type": "markdown",
   "id": "27c7607b",
   "metadata": {},
   "source": [
    "## Selecting XCT measurements"
   ]
  },
  {
   "cell_type": "code",
   "execution_count": null,
   "id": "eec4d0d0",
   "metadata": {},
   "outputs": [],
   "source": [
    "xct_measurements_table = db.get_data_metadata('measurements')"
   ]
  },
  {
   "cell_type": "code",
   "execution_count": null,
   "id": "74add0a8",
   "metadata": {},
   "outputs": [],
   "source": [
    "xct_measurements_table = xct_measurements_table[xct_measurements_table['measurementtype_id_measurement'] == xct_type]\n",
    "\n",
    "xct_measurements_table"
   ]
  },
  {
   "cell_type": "markdown",
   "id": "6e064c9c",
   "metadata": {},
   "source": [
    "## Getting registered pairs"
   ]
  },
  {
   "cell_type": "code",
   "execution_count": null,
   "id": "af2a7ce8",
   "metadata": {},
   "outputs": [],
   "source": [
    "registrations_table = db.get_data_metadata('registrations')\n",
    "\n",
    "registrations_table"
   ]
  },
  {
   "cell_type": "code",
   "execution_count": null,
   "id": "a63123ce",
   "metadata": {},
   "outputs": [],
   "source": [
    "reference_measurements = []\n",
    "registered_measurements = []\n",
    "registration_ids = []\n",
    "\n",
    "for index, row in registrations_table.iterrows():\n",
    "\n",
    "    reference_id = row['reference_measurement_id_registration']\n",
    "    registered_id = row['registered_measurement_id_registration']\n",
    "    registration_id = row['id_registration']\n",
    "\n",
    "    reference_measurements.append(ut_measurements_table[ut_measurements_table['id_measurement'] == reference_id].iloc[0])\n",
    "    registered_measurements.append(xct_measurements_table[xct_measurements_table['id_measurement'] == registered_id].iloc[0])\n",
    "    registration_ids.append(registration_id)"
   ]
  },
  {
   "cell_type": "markdown",
   "id": "4ac361f7",
   "metadata": {},
   "source": [
    "## Sample names"
   ]
  },
  {
   "cell_type": "code",
   "execution_count": null,
   "id": "7c37bbcf",
   "metadata": {},
   "outputs": [],
   "source": [
    "sample_measurements_table = db.relation_metadata('samples','measurements','sample_measurements')\n",
    "\n",
    "sample_measurements_table"
   ]
  },
  {
   "cell_type": "code",
   "execution_count": null,
   "id": "23aaadd4",
   "metadata": {},
   "outputs": [],
   "source": [
    "sample_names = []\n",
    "\n",
    "for i in range(len(reference_measurements)):\n",
    "\n",
    "    measurement = reference_measurements[i]\n",
    "    sample_names.append(sample_measurements_table[sample_measurements_table['id_measurement'] == measurement['id_measurement']].iloc[0]['name_sample'])"
   ]
  },
  {
   "cell_type": "markdown",
   "id": "6e9e8216",
   "metadata": {},
   "source": [
    "# Datasettype selection"
   ]
  },
  {
   "cell_type": "code",
   "execution_count": null,
   "id": "5d7dfe18",
   "metadata": {},
   "outputs": [],
   "source": [
    "datasettype_table = db.get_data('datasettypes')\n",
    "\n",
    "datasettype_table"
   ]
  },
  {
   "cell_type": "code",
   "execution_count": null,
   "id": "7e2b72c0",
   "metadata": {},
   "outputs": [],
   "source": [
    "datasettype = 3"
   ]
  },
  {
   "cell_type": "markdown",
   "id": "d967a966",
   "metadata": {},
   "source": [
    "# Discard already computed datasets"
   ]
  },
  {
   "cell_type": "code",
   "execution_count": null,
   "id": "9fca783d",
   "metadata": {},
   "outputs": [],
   "source": [
    "try:\n",
    "\n",
    "    dataset_registrations_table = db.relation_metadata('datasets','registrations','dataset_registrations')\n",
    "\n",
    "    dataset_registrations_table = dataset_registrations_table[dataset_registrations_table['datasettype_id_dataset'] == datasettype]\n",
    "\n",
    "    dataset_registrations = dataset_registrations_table['id_registration'].values\n",
    "\n",
    "except Exception as e:\n",
    "    print(\"No dataset registrations found or error occurred:\", e)\n",
    "    dataset_registrations = []"
   ]
  },
  {
   "cell_type": "markdown",
   "id": "be4bbe0e",
   "metadata": {},
   "source": [
    "# Saving folder"
   ]
  },
  {
   "cell_type": "code",
   "execution_count": null,
   "id": "112c63da",
   "metadata": {},
   "outputs": [],
   "source": [
    "folder = Path(r'\\\\192.168.10.106\\imdea\\DataDriven_UT_AlbertoVicente\\04_ML_data\\Juan Ignacio\\2025 dataset')"
   ]
  },
  {
   "cell_type": "markdown",
   "id": "c7a40732",
   "metadata": {},
   "source": [
    "# Patch sizes"
   ]
  },
  {
   "cell_type": "code",
   "execution_count": null,
   "id": "23175faa",
   "metadata": {},
   "outputs": [],
   "source": [
    "patch_sizes = [3, 5, 7, 9]"
   ]
  },
  {
   "cell_type": "markdown",
   "id": "1a54686d",
   "metadata": {},
   "source": [
    "# Resolutions"
   ]
  },
  {
   "cell_type": "code",
   "execution_count": null,
   "id": "fcb4f1e9",
   "metadata": {},
   "outputs": [],
   "source": [
    "xct_resolution = float(measurementtypes_table[measurementtypes_table['id_measurementtype'] == xct_type]['voxel_size_measurementtype'].values[0].split(' ')[0])\n",
    "ut_resolution = float(measurementtypes_table[measurementtypes_table['id_measurementtype'] == ut_type]['x_resolution_measurementtype'].values[0].split(' ')[0])"
   ]
  },
  {
   "cell_type": "markdown",
   "id": "22a9245b",
   "metadata": {},
   "source": [
    "# Dataset Generation"
   ]
  },
  {
   "cell_type": "code",
   "execution_count": 31,
   "id": "6acc944f",
   "metadata": {},
   "outputs": [
    {
     "name": "stdout",
     "output_type": "stream",
     "text": [
      "Creating dataset for registration 48 with reference measurement \\\\192.168.10.106\\imdea\\DataDriven_UT_AlbertoVicente\\03_UT_data\\Probetas JI\\probetas\\2025 methodology\\4\\4.tif and registered measurement \\\\192.168.10.106\\imdea\\DataDriven_UT_AlbertoVicente\\02_XCT_data\\Juan Ignacio\\probetas\\4\\volume_eq_rotated_aligned.tif\n",
      "Applying transformation\n"
     ]
    },
    {
     "name": "stderr",
     "output_type": "stream",
     "text": [
      "Transforming slices: 100%|██████████| 203/203 [00:18<00:00, 10.73it/s]\n"
     ]
    },
    {
     "name": "stdout",
     "output_type": "stream",
     "text": [
      "Transformation applied\n",
      "Material mask memory analysis:\n",
      "  Volume size: 1.81 GB\n",
      "  Available memory: 219.86 GB\n",
      "  Required estimate: 3.63 GB\n",
      "  Using parallel implementation...\n",
      "Computing material mask using parallel processing...\n",
      "Processing 16 chunks in parallel...\n",
      "Material mask generation complete.\n",
      "Starting pore detection analysis...\n",
      "Computing volume bounding box...\n",
      "Original volume shape: (203, 5000, 1920)\n",
      "Data bounding box: Z[0:202], Y[886:4126], X[146:1785]\n",
      "Cropped volume shape: (203, 3245, 1644)\n",
      "Applying Sauvola adaptive thresholding...\n",
      "Volume size: 1.01 GB\n",
      "Available memory: 198.36 GB\n",
      "Required memory estimate: 2.02 GB\n",
      "Using parallel implementation...\n",
      "Window size adjusted to 31 (must be odd)\n",
      "Applying Sauvola thresholding with parallel processing...\n",
      "Excluding front wall: slices 0 to 8\n",
      "Excluding back wall: slices 175 to end\n",
      "Generating material mask...\n",
      "Material mask memory analysis:\n",
      "  Volume size: 1.01 GB\n",
      "  Available memory: 196.17 GB\n",
      "  Required estimate: 2.02 GB\n",
      "  Using parallel implementation...\n",
      "Computing material mask using parallel processing...\n",
      "Processing 16 chunks in parallel...\n",
      "Material mask generation complete.\n",
      "Initial pore detection complete. Found 5155683 pore voxels.\n",
      "Applying pore filtering with minimum size: 8\n",
      "Cleaning pores with min_size=8...\n",
      "  Initial connected components: 38904\n",
      "  Components after size filtering: 3284\n",
      "  Valid components after dimensional filtering: 2884\n",
      "  Components after dimensional filtering: 2884\n",
      "  Total pore voxels retained: 5076684\n",
      "After filtering: 5076684 pore voxels remaining.\n",
      "Pore detection analysis complete.\n",
      "Preprocessing and patching the images...\n",
      "Patching the images...\n",
      "Cleaning the pores...\n",
      "Creating the datasets...\n",
      "Dataset from '\\\\192.168.10.106\\imdea\\DataDriven_UT_AlbertoVicente\\04_ML_data\\Juan Ignacio\\2025 dataset\\JI_4\\patch_size_3_volfrac_areafrac.csv' loaded with ID: 183\n",
      "Dataset for registration 48 with patch size 3 saved to \\\\192.168.10.106\\imdea\\DataDriven_UT_AlbertoVicente\\04_ML_data\\Juan Ignacio\\2025 dataset\\JI_4\\patch_size_3_volfrac_areafrac.csv\n",
      "Preprocessing and patching the images...\n",
      "Patching the images...\n",
      "Cleaning the pores...\n",
      "Creating the datasets...\n",
      "Dataset from '\\\\192.168.10.106\\imdea\\DataDriven_UT_AlbertoVicente\\04_ML_data\\Juan Ignacio\\2025 dataset\\JI_4\\patch_size_5_volfrac_areafrac.csv' loaded with ID: 184\n",
      "Dataset for registration 48 with patch size 5 saved to \\\\192.168.10.106\\imdea\\DataDriven_UT_AlbertoVicente\\04_ML_data\\Juan Ignacio\\2025 dataset\\JI_4\\patch_size_5_volfrac_areafrac.csv\n",
      "Preprocessing and patching the images...\n",
      "Patching the images...\n",
      "Cleaning the pores...\n",
      "Creating the datasets...\n",
      "Dataset from '\\\\192.168.10.106\\imdea\\DataDriven_UT_AlbertoVicente\\04_ML_data\\Juan Ignacio\\2025 dataset\\JI_4\\patch_size_7_volfrac_areafrac.csv' loaded with ID: 185\n",
      "Dataset for registration 48 with patch size 7 saved to \\\\192.168.10.106\\imdea\\DataDriven_UT_AlbertoVicente\\04_ML_data\\Juan Ignacio\\2025 dataset\\JI_4\\patch_size_7_volfrac_areafrac.csv\n",
      "Preprocessing and patching the images...\n",
      "Patching the images...\n",
      "Cleaning the pores...\n",
      "Creating the datasets...\n",
      "Dataset from '\\\\192.168.10.106\\imdea\\DataDriven_UT_AlbertoVicente\\04_ML_data\\Juan Ignacio\\2025 dataset\\JI_4\\patch_size_9_volfrac_areafrac.csv' loaded with ID: 186\n",
      "Dataset for registration 48 with patch size 9 saved to \\\\192.168.10.106\\imdea\\DataDriven_UT_AlbertoVicente\\04_ML_data\\Juan Ignacio\\2025 dataset\\JI_4\\patch_size_9_volfrac_areafrac.csv\n",
      "Creating dataset for registration 49 with reference measurement \\\\192.168.10.106\\imdea\\DataDriven_UT_AlbertoVicente\\03_UT_data\\Probetas JI\\probetas\\2025 methodology\\5\\5.tif and registered measurement \\\\192.168.10.106\\imdea\\DataDriven_UT_AlbertoVicente\\02_XCT_data\\Juan Ignacio\\probetas\\5\\volume_eq_rotated_aligned.tif\n",
      "Applying transformation\n"
     ]
    },
    {
     "name": "stderr",
     "output_type": "stream",
     "text": [
      "Transforming slices: 100%|██████████| 192/192 [00:22<00:00,  8.54it/s]\n"
     ]
    },
    {
     "name": "stdout",
     "output_type": "stream",
     "text": [
      "Transformation applied\n",
      "Material mask memory analysis:\n",
      "  Volume size: 1.76 GB\n",
      "  Available memory: 219.72 GB\n",
      "  Required estimate: 3.52 GB\n",
      "  Using parallel implementation...\n",
      "Computing material mask using parallel processing...\n",
      "Processing 16 chunks in parallel...\n",
      "Material mask generation complete.\n",
      "Starting pore detection analysis...\n",
      "Computing volume bounding box...\n",
      "Original volume shape: (192, 5240, 1880)\n",
      "Data bounding box: Z[0:191], Y[1021:4315], X[52:1821]\n",
      "Cropped volume shape: (192, 3299, 1774)\n",
      "Applying Sauvola adaptive thresholding...\n",
      "Volume size: 1.05 GB\n",
      "Available memory: 198.93 GB\n",
      "Required memory estimate: 2.09 GB\n",
      "Using parallel implementation...\n",
      "Window size adjusted to 31 (must be odd)\n",
      "Applying Sauvola thresholding with parallel processing...\n",
      "Excluding front wall: slices 0 to 8\n",
      "Excluding back wall: slices 177 to end\n",
      "Generating material mask...\n",
      "Material mask memory analysis:\n",
      "  Volume size: 1.05 GB\n",
      "  Available memory: 196.77 GB\n",
      "  Required estimate: 2.09 GB\n",
      "  Using parallel implementation...\n",
      "Computing material mask using parallel processing...\n",
      "Processing 16 chunks in parallel...\n",
      "Material mask generation complete.\n",
      "Initial pore detection complete. Found 6080398 pore voxels.\n",
      "Applying pore filtering with minimum size: 8\n",
      "Cleaning pores with min_size=8...\n",
      "  Initial connected components: 93123\n",
      "  Components after size filtering: 6220\n",
      "  Valid components after dimensional filtering: 5084\n",
      "  Components after dimensional filtering: 5084\n",
      "  Total pore voxels retained: 5898378\n",
      "After filtering: 5898378 pore voxels remaining.\n",
      "Pore detection analysis complete.\n",
      "Preprocessing and patching the images...\n",
      "Patching the images...\n",
      "Cleaning the pores...\n",
      "Creating the datasets...\n",
      "Dataset from '\\\\192.168.10.106\\imdea\\DataDriven_UT_AlbertoVicente\\04_ML_data\\Juan Ignacio\\2025 dataset\\JI_5\\patch_size_3_volfrac_areafrac.csv' loaded with ID: 187\n",
      "Dataset for registration 49 with patch size 3 saved to \\\\192.168.10.106\\imdea\\DataDriven_UT_AlbertoVicente\\04_ML_data\\Juan Ignacio\\2025 dataset\\JI_5\\patch_size_3_volfrac_areafrac.csv\n",
      "Preprocessing and patching the images...\n",
      "Patching the images...\n",
      "Cleaning the pores...\n",
      "Creating the datasets...\n",
      "Dataset from '\\\\192.168.10.106\\imdea\\DataDriven_UT_AlbertoVicente\\04_ML_data\\Juan Ignacio\\2025 dataset\\JI_5\\patch_size_5_volfrac_areafrac.csv' loaded with ID: 188\n",
      "Dataset for registration 49 with patch size 5 saved to \\\\192.168.10.106\\imdea\\DataDriven_UT_AlbertoVicente\\04_ML_data\\Juan Ignacio\\2025 dataset\\JI_5\\patch_size_5_volfrac_areafrac.csv\n",
      "Preprocessing and patching the images...\n",
      "Patching the images...\n",
      "Cleaning the pores...\n",
      "Creating the datasets...\n",
      "Dataset from '\\\\192.168.10.106\\imdea\\DataDriven_UT_AlbertoVicente\\04_ML_data\\Juan Ignacio\\2025 dataset\\JI_5\\patch_size_7_volfrac_areafrac.csv' loaded with ID: 189\n",
      "Dataset for registration 49 with patch size 7 saved to \\\\192.168.10.106\\imdea\\DataDriven_UT_AlbertoVicente\\04_ML_data\\Juan Ignacio\\2025 dataset\\JI_5\\patch_size_7_volfrac_areafrac.csv\n",
      "Preprocessing and patching the images...\n",
      "Patching the images...\n",
      "Cleaning the pores...\n",
      "Creating the datasets...\n",
      "Dataset from '\\\\192.168.10.106\\imdea\\DataDriven_UT_AlbertoVicente\\04_ML_data\\Juan Ignacio\\2025 dataset\\JI_5\\patch_size_9_volfrac_areafrac.csv' loaded with ID: 190\n",
      "Dataset for registration 49 with patch size 9 saved to \\\\192.168.10.106\\imdea\\DataDriven_UT_AlbertoVicente\\04_ML_data\\Juan Ignacio\\2025 dataset\\JI_5\\patch_size_9_volfrac_areafrac.csv\n",
      "Creating dataset for registration 50 with reference measurement \\\\192.168.10.106\\imdea\\DataDriven_UT_AlbertoVicente\\03_UT_data\\Probetas JI\\probetas\\2025 methodology\\7\\7.tif and registered measurement \\\\192.168.10.106\\imdea\\DataDriven_UT_AlbertoVicente\\02_XCT_data\\Juan Ignacio\\probetas\\7\\volume_eq_aligned.tif\n",
      "Applying transformation\n"
     ]
    },
    {
     "name": "stderr",
     "output_type": "stream",
     "text": [
      "Transforming slices: 100%|██████████| 196/196 [00:21<00:00,  9.31it/s]\n"
     ]
    },
    {
     "name": "stdout",
     "output_type": "stream",
     "text": [
      "Transformation applied\n",
      "Material mask memory analysis:\n",
      "  Volume size: 1.88 GB\n",
      "  Available memory: 220.27 GB\n",
      "  Required estimate: 3.75 GB\n",
      "  Using parallel implementation...\n",
      "Computing material mask using parallel processing...\n",
      "Processing 16 chunks in parallel...\n",
      "Material mask generation complete.\n",
      "Starting pore detection analysis...\n",
      "Computing volume bounding box...\n",
      "Original volume shape: (196, 5040, 2040)\n",
      "Data bounding box: Z[0:195], Y[892:4236], X[77:2001]\n",
      "Cropped volume shape: (196, 3349, 1929)\n",
      "Applying Sauvola adaptive thresholding...\n",
      "Volume size: 1.18 GB\n",
      "Available memory: 198.14 GB\n",
      "Required memory estimate: 2.36 GB\n",
      "Using parallel implementation...\n",
      "Window size adjusted to 31 (must be odd)\n",
      "Applying Sauvola thresholding with parallel processing...\n",
      "Excluding front wall: slices 0 to 7\n",
      "Excluding back wall: slices 173 to end\n",
      "Generating material mask...\n",
      "Material mask memory analysis:\n",
      "  Volume size: 1.18 GB\n",
      "  Available memory: 195.73 GB\n",
      "  Required estimate: 2.36 GB\n",
      "  Using parallel implementation...\n",
      "Computing material mask using parallel processing...\n",
      "Processing 16 chunks in parallel...\n",
      "Material mask generation complete.\n",
      "Initial pore detection complete. Found 3794877 pore voxels.\n",
      "Applying pore filtering with minimum size: 8\n",
      "Cleaning pores with min_size=8...\n",
      "  Initial connected components: 110371\n",
      "  Components after size filtering: 4562\n",
      "  Valid components after dimensional filtering: 2374\n",
      "  Components after dimensional filtering: 2374\n",
      "  Total pore voxels retained: 3565784\n",
      "After filtering: 3565784 pore voxels remaining.\n",
      "Pore detection analysis complete.\n",
      "Preprocessing and patching the images...\n",
      "Patching the images...\n",
      "Cleaning the pores...\n",
      "Creating the datasets...\n",
      "Dataset from '\\\\192.168.10.106\\imdea\\DataDriven_UT_AlbertoVicente\\04_ML_data\\Juan Ignacio\\2025 dataset\\JI_7\\patch_size_3_volfrac_areafrac.csv' loaded with ID: 191\n",
      "Dataset for registration 50 with patch size 3 saved to \\\\192.168.10.106\\imdea\\DataDriven_UT_AlbertoVicente\\04_ML_data\\Juan Ignacio\\2025 dataset\\JI_7\\patch_size_3_volfrac_areafrac.csv\n",
      "Preprocessing and patching the images...\n",
      "Patching the images...\n",
      "Cleaning the pores...\n",
      "Creating the datasets...\n",
      "Dataset from '\\\\192.168.10.106\\imdea\\DataDriven_UT_AlbertoVicente\\04_ML_data\\Juan Ignacio\\2025 dataset\\JI_7\\patch_size_5_volfrac_areafrac.csv' loaded with ID: 192\n",
      "Dataset for registration 50 with patch size 5 saved to \\\\192.168.10.106\\imdea\\DataDriven_UT_AlbertoVicente\\04_ML_data\\Juan Ignacio\\2025 dataset\\JI_7\\patch_size_5_volfrac_areafrac.csv\n",
      "Preprocessing and patching the images...\n",
      "Patching the images...\n",
      "Cleaning the pores...\n",
      "Creating the datasets...\n",
      "Dataset from '\\\\192.168.10.106\\imdea\\DataDriven_UT_AlbertoVicente\\04_ML_data\\Juan Ignacio\\2025 dataset\\JI_7\\patch_size_7_volfrac_areafrac.csv' loaded with ID: 193\n",
      "Dataset for registration 50 with patch size 7 saved to \\\\192.168.10.106\\imdea\\DataDriven_UT_AlbertoVicente\\04_ML_data\\Juan Ignacio\\2025 dataset\\JI_7\\patch_size_7_volfrac_areafrac.csv\n",
      "Preprocessing and patching the images...\n",
      "Patching the images...\n",
      "Cleaning the pores...\n",
      "Creating the datasets...\n",
      "Dataset from '\\\\192.168.10.106\\imdea\\DataDriven_UT_AlbertoVicente\\04_ML_data\\Juan Ignacio\\2025 dataset\\JI_7\\patch_size_9_volfrac_areafrac.csv' loaded with ID: 194\n",
      "Dataset for registration 50 with patch size 9 saved to \\\\192.168.10.106\\imdea\\DataDriven_UT_AlbertoVicente\\04_ML_data\\Juan Ignacio\\2025 dataset\\JI_7\\patch_size_9_volfrac_areafrac.csv\n",
      "Creating dataset for registration 51 with reference measurement \\\\192.168.10.106\\imdea\\DataDriven_UT_AlbertoVicente\\03_UT_data\\Probetas JI\\probetas\\2025 methodology\\8\\8.tif and registered measurement \\\\192.168.10.106\\imdea\\DataDriven_UT_AlbertoVicente\\02_XCT_data\\Juan Ignacio\\probetas\\8\\volume_eq_aligned.tif\n",
      "Applying transformation\n"
     ]
    },
    {
     "name": "stderr",
     "output_type": "stream",
     "text": [
      "Transforming slices: 100%|██████████| 202/202 [00:21<00:00,  9.59it/s]\n"
     ]
    },
    {
     "name": "stdout",
     "output_type": "stream",
     "text": [
      "Transformation applied\n",
      "Material mask memory analysis:\n",
      "  Volume size: 1.92 GB\n",
      "  Available memory: 219.98 GB\n",
      "  Required estimate: 3.84 GB\n",
      "  Using parallel implementation...\n",
      "Computing material mask using parallel processing...\n",
      "Processing 16 chunks in parallel...\n",
      "Material mask generation complete.\n",
      "Starting pore detection analysis...\n",
      "Computing volume bounding box...\n",
      "Original volume shape: (202, 5000, 2040)\n",
      "Data bounding box: Z[0:201], Y[888:4239], X[91:2009]\n",
      "Cropped volume shape: (202, 3356, 1923)\n",
      "Applying Sauvola adaptive thresholding...\n",
      "Volume size: 1.21 GB\n",
      "Available memory: 197.47 GB\n",
      "Required memory estimate: 2.43 GB\n",
      "Using parallel implementation...\n",
      "Window size adjusted to 31 (must be odd)\n",
      "Applying Sauvola thresholding with parallel processing...\n",
      "Excluding front wall: slices 0 to 8\n",
      "Excluding back wall: slices 176 to end\n",
      "Generating material mask...\n",
      "Material mask memory analysis:\n",
      "  Volume size: 1.21 GB\n",
      "  Available memory: 194.99 GB\n",
      "  Required estimate: 2.43 GB\n",
      "  Using parallel implementation...\n",
      "Computing material mask using parallel processing...\n",
      "Processing 16 chunks in parallel...\n",
      "Material mask generation complete.\n",
      "Initial pore detection complete. Found 8107842 pore voxels.\n",
      "Applying pore filtering with minimum size: 8\n",
      "Cleaning pores with min_size=8...\n",
      "  Initial connected components: 86013\n",
      "  Components after size filtering: 6619\n",
      "  Valid components after dimensional filtering: 5251\n",
      "  Components after dimensional filtering: 5251\n",
      "  Total pore voxels retained: 7945774\n",
      "After filtering: 7945774 pore voxels remaining.\n",
      "Pore detection analysis complete.\n",
      "Preprocessing and patching the images...\n",
      "Patching the images...\n",
      "Cleaning the pores...\n",
      "Creating the datasets...\n",
      "Dataset from '\\\\192.168.10.106\\imdea\\DataDriven_UT_AlbertoVicente\\04_ML_data\\Juan Ignacio\\2025 dataset\\JI_8\\patch_size_3_volfrac_areafrac.csv' loaded with ID: 195\n",
      "Dataset for registration 51 with patch size 3 saved to \\\\192.168.10.106\\imdea\\DataDriven_UT_AlbertoVicente\\04_ML_data\\Juan Ignacio\\2025 dataset\\JI_8\\patch_size_3_volfrac_areafrac.csv\n",
      "Preprocessing and patching the images...\n",
      "Patching the images...\n",
      "Cleaning the pores...\n",
      "Creating the datasets...\n",
      "Dataset from '\\\\192.168.10.106\\imdea\\DataDriven_UT_AlbertoVicente\\04_ML_data\\Juan Ignacio\\2025 dataset\\JI_8\\patch_size_5_volfrac_areafrac.csv' loaded with ID: 196\n",
      "Dataset for registration 51 with patch size 5 saved to \\\\192.168.10.106\\imdea\\DataDriven_UT_AlbertoVicente\\04_ML_data\\Juan Ignacio\\2025 dataset\\JI_8\\patch_size_5_volfrac_areafrac.csv\n",
      "Preprocessing and patching the images...\n",
      "Patching the images...\n",
      "Cleaning the pores...\n",
      "Creating the datasets...\n",
      "Dataset from '\\\\192.168.10.106\\imdea\\DataDriven_UT_AlbertoVicente\\04_ML_data\\Juan Ignacio\\2025 dataset\\JI_8\\patch_size_7_volfrac_areafrac.csv' loaded with ID: 197\n",
      "Dataset for registration 51 with patch size 7 saved to \\\\192.168.10.106\\imdea\\DataDriven_UT_AlbertoVicente\\04_ML_data\\Juan Ignacio\\2025 dataset\\JI_8\\patch_size_7_volfrac_areafrac.csv\n",
      "Preprocessing and patching the images...\n",
      "Patching the images...\n",
      "Cleaning the pores...\n",
      "Creating the datasets...\n",
      "Dataset from '\\\\192.168.10.106\\imdea\\DataDriven_UT_AlbertoVicente\\04_ML_data\\Juan Ignacio\\2025 dataset\\JI_8\\patch_size_9_volfrac_areafrac.csv' loaded with ID: 198\n",
      "Dataset for registration 51 with patch size 9 saved to \\\\192.168.10.106\\imdea\\DataDriven_UT_AlbertoVicente\\04_ML_data\\Juan Ignacio\\2025 dataset\\JI_8\\patch_size_9_volfrac_areafrac.csv\n",
      "Creating dataset for registration 52 with reference measurement \\\\192.168.10.106\\imdea\\DataDriven_UT_AlbertoVicente\\03_UT_data\\Probetas JI\\probetas\\2025 methodology\\10\\10.tif and registered measurement \\\\192.168.10.106\\imdea\\DataDriven_UT_AlbertoVicente\\02_XCT_data\\Juan Ignacio\\probetas\\10\\volume_eq_aligned.tif\n",
      "Applying transformation\n"
     ]
    },
    {
     "name": "stderr",
     "output_type": "stream",
     "text": [
      "Transforming slices: 100%|██████████| 205/205 [00:20<00:00,  9.93it/s]\n"
     ]
    },
    {
     "name": "stdout",
     "output_type": "stream",
     "text": [
      "Transformation applied\n",
      "Material mask memory analysis:\n",
      "  Volume size: 1.89 GB\n",
      "  Available memory: 219.88 GB\n",
      "  Required estimate: 3.77 GB\n",
      "  Using parallel implementation...\n",
      "Computing material mask using parallel processing...\n",
      "Processing 16 chunks in parallel...\n",
      "Material mask generation complete.\n",
      "Starting pore detection analysis...\n",
      "Computing volume bounding box...\n",
      "Original volume shape: (205, 5040, 1960)\n",
      "Data bounding box: Z[0:204], Y[1011:4270], X[188:1836]\n",
      "Cropped volume shape: (205, 3264, 1653)\n",
      "Applying Sauvola adaptive thresholding...\n",
      "Volume size: 1.03 GB\n",
      "Available memory: 198.37 GB\n",
      "Required memory estimate: 2.06 GB\n",
      "Using parallel implementation...\n",
      "Window size adjusted to 31 (must be odd)\n",
      "Applying Sauvola thresholding with parallel processing...\n",
      "Excluding front wall: slices 0 to 7\n",
      "Excluding back wall: slices 173 to end\n",
      "Generating material mask...\n",
      "Material mask memory analysis:\n",
      "  Volume size: 1.03 GB\n",
      "  Available memory: 195.73 GB\n",
      "  Required estimate: 2.06 GB\n",
      "  Using parallel implementation...\n",
      "Computing material mask using parallel processing...\n",
      "Processing 16 chunks in parallel...\n",
      "Material mask generation complete.\n",
      "Initial pore detection complete. Found 10384084 pore voxels.\n",
      "Applying pore filtering with minimum size: 8\n",
      "Cleaning pores with min_size=8...\n",
      "  Initial connected components: 2249248\n",
      "  Components after size filtering: 174346\n",
      "  Valid components after dimensional filtering: 164288\n",
      "  Components after dimensional filtering: 164288\n",
      "  Total pore voxels retained: 5823366\n",
      "After filtering: 5823366 pore voxels remaining.\n",
      "Pore detection analysis complete.\n",
      "Preprocessing and patching the images...\n",
      "Patching the images...\n",
      "Cleaning the pores...\n",
      "Creating the datasets...\n",
      "Dataset from '\\\\192.168.10.106\\imdea\\DataDriven_UT_AlbertoVicente\\04_ML_data\\Juan Ignacio\\2025 dataset\\JI_10\\patch_size_3_volfrac_areafrac.csv' loaded with ID: 199\n",
      "Dataset for registration 52 with patch size 3 saved to \\\\192.168.10.106\\imdea\\DataDriven_UT_AlbertoVicente\\04_ML_data\\Juan Ignacio\\2025 dataset\\JI_10\\patch_size_3_volfrac_areafrac.csv\n",
      "Preprocessing and patching the images...\n",
      "Patching the images...\n",
      "Cleaning the pores...\n",
      "Creating the datasets...\n",
      "Dataset from '\\\\192.168.10.106\\imdea\\DataDriven_UT_AlbertoVicente\\04_ML_data\\Juan Ignacio\\2025 dataset\\JI_10\\patch_size_5_volfrac_areafrac.csv' loaded with ID: 200\n",
      "Dataset for registration 52 with patch size 5 saved to \\\\192.168.10.106\\imdea\\DataDriven_UT_AlbertoVicente\\04_ML_data\\Juan Ignacio\\2025 dataset\\JI_10\\patch_size_5_volfrac_areafrac.csv\n",
      "Preprocessing and patching the images...\n",
      "Patching the images...\n",
      "Cleaning the pores...\n",
      "Creating the datasets...\n",
      "Dataset from '\\\\192.168.10.106\\imdea\\DataDriven_UT_AlbertoVicente\\04_ML_data\\Juan Ignacio\\2025 dataset\\JI_10\\patch_size_7_volfrac_areafrac.csv' loaded with ID: 201\n",
      "Dataset for registration 52 with patch size 7 saved to \\\\192.168.10.106\\imdea\\DataDriven_UT_AlbertoVicente\\04_ML_data\\Juan Ignacio\\2025 dataset\\JI_10\\patch_size_7_volfrac_areafrac.csv\n",
      "Preprocessing and patching the images...\n",
      "Patching the images...\n",
      "Cleaning the pores...\n",
      "Creating the datasets...\n",
      "Dataset from '\\\\192.168.10.106\\imdea\\DataDriven_UT_AlbertoVicente\\04_ML_data\\Juan Ignacio\\2025 dataset\\JI_10\\patch_size_9_volfrac_areafrac.csv' loaded with ID: 202\n",
      "Dataset for registration 52 with patch size 9 saved to \\\\192.168.10.106\\imdea\\DataDriven_UT_AlbertoVicente\\04_ML_data\\Juan Ignacio\\2025 dataset\\JI_10\\patch_size_9_volfrac_areafrac.csv\n",
      "Creating dataset for registration 53 with reference measurement \\\\192.168.10.106\\imdea\\DataDriven_UT_AlbertoVicente\\03_UT_data\\Probetas JI\\probetas\\2025 methodology\\11\\11.tif and registered measurement \\\\192.168.10.106\\imdea\\DataDriven_UT_AlbertoVicente\\02_XCT_data\\Juan Ignacio\\probetas\\11\\volume_eq_aligned.tif\n",
      "Applying transformation\n"
     ]
    },
    {
     "name": "stderr",
     "output_type": "stream",
     "text": [
      "Transforming slices: 100%|██████████| 203/203 [00:21<00:00,  9.28it/s]\n"
     ]
    },
    {
     "name": "stdout",
     "output_type": "stream",
     "text": [
      "Transformation applied\n",
      "Material mask memory analysis:\n",
      "  Volume size: 1.89 GB\n",
      "  Available memory: 220.18 GB\n",
      "  Required estimate: 3.78 GB\n",
      "  Using parallel implementation...\n",
      "Computing material mask using parallel processing...\n",
      "Processing 16 chunks in parallel...\n",
      "Material mask generation complete.\n",
      "Starting pore detection analysis...\n",
      "Computing volume bounding box...\n",
      "Original volume shape: (203, 5000, 2000)\n",
      "Data bounding box: Z[0:202], Y[919:4174], X[205:1860]\n",
      "Cropped volume shape: (203, 3260, 1660)\n",
      "Applying Sauvola adaptive thresholding...\n",
      "Volume size: 1.02 GB\n",
      "Available memory: 198.54 GB\n",
      "Required memory estimate: 2.05 GB\n",
      "Using parallel implementation...\n",
      "Window size adjusted to 31 (must be odd)\n",
      "Applying Sauvola thresholding with parallel processing...\n",
      "Excluding front wall: slices 0 to 12\n",
      "Excluding back wall: slices 180 to end\n",
      "Generating material mask...\n",
      "Material mask memory analysis:\n",
      "  Volume size: 1.02 GB\n",
      "  Available memory: 196.30 GB\n",
      "  Required estimate: 2.05 GB\n",
      "  Using parallel implementation...\n",
      "Computing material mask using parallel processing...\n",
      "Processing 16 chunks in parallel...\n",
      "Material mask generation complete.\n",
      "Initial pore detection complete. Found 10613765 pore voxels.\n",
      "Applying pore filtering with minimum size: 8\n",
      "Cleaning pores with min_size=8...\n",
      "  Initial connected components: 2336039\n",
      "  Components after size filtering: 179682\n",
      "  Valid components after dimensional filtering: 168549\n",
      "  Components after dimensional filtering: 168549\n",
      "  Total pore voxels retained: 5858753\n",
      "After filtering: 5858753 pore voxels remaining.\n",
      "Pore detection analysis complete.\n",
      "Preprocessing and patching the images...\n",
      "Patching the images...\n",
      "Cleaning the pores...\n",
      "Creating the datasets...\n",
      "Dataset from '\\\\192.168.10.106\\imdea\\DataDriven_UT_AlbertoVicente\\04_ML_data\\Juan Ignacio\\2025 dataset\\JI_11\\patch_size_3_volfrac_areafrac.csv' loaded with ID: 203\n",
      "Dataset for registration 53 with patch size 3 saved to \\\\192.168.10.106\\imdea\\DataDriven_UT_AlbertoVicente\\04_ML_data\\Juan Ignacio\\2025 dataset\\JI_11\\patch_size_3_volfrac_areafrac.csv\n",
      "Preprocessing and patching the images...\n",
      "Patching the images...\n",
      "Cleaning the pores...\n",
      "Creating the datasets...\n",
      "Dataset from '\\\\192.168.10.106\\imdea\\DataDriven_UT_AlbertoVicente\\04_ML_data\\Juan Ignacio\\2025 dataset\\JI_11\\patch_size_5_volfrac_areafrac.csv' loaded with ID: 204\n",
      "Dataset for registration 53 with patch size 5 saved to \\\\192.168.10.106\\imdea\\DataDriven_UT_AlbertoVicente\\04_ML_data\\Juan Ignacio\\2025 dataset\\JI_11\\patch_size_5_volfrac_areafrac.csv\n",
      "Preprocessing and patching the images...\n",
      "Patching the images...\n",
      "Cleaning the pores...\n",
      "Creating the datasets...\n",
      "Dataset from '\\\\192.168.10.106\\imdea\\DataDriven_UT_AlbertoVicente\\04_ML_data\\Juan Ignacio\\2025 dataset\\JI_11\\patch_size_7_volfrac_areafrac.csv' loaded with ID: 205\n",
      "Dataset for registration 53 with patch size 7 saved to \\\\192.168.10.106\\imdea\\DataDriven_UT_AlbertoVicente\\04_ML_data\\Juan Ignacio\\2025 dataset\\JI_11\\patch_size_7_volfrac_areafrac.csv\n",
      "Preprocessing and patching the images...\n",
      "Patching the images...\n",
      "Cleaning the pores...\n",
      "Creating the datasets...\n",
      "Dataset from '\\\\192.168.10.106\\imdea\\DataDriven_UT_AlbertoVicente\\04_ML_data\\Juan Ignacio\\2025 dataset\\JI_11\\patch_size_9_volfrac_areafrac.csv' loaded with ID: 206\n",
      "Dataset for registration 53 with patch size 9 saved to \\\\192.168.10.106\\imdea\\DataDriven_UT_AlbertoVicente\\04_ML_data\\Juan Ignacio\\2025 dataset\\JI_11\\patch_size_9_volfrac_areafrac.csv\n",
      "Creating dataset for registration 54 with reference measurement \\\\192.168.10.106\\imdea\\DataDriven_UT_AlbertoVicente\\03_UT_data\\Probetas JI\\probetas\\2025 methodology\\12\\12.tif and registered measurement \\\\192.168.10.106\\imdea\\DataDriven_UT_AlbertoVicente\\02_XCT_data\\Juan Ignacio\\probetas\\12\\volume_eq_aligned.tif\n",
      "Applying transformation\n"
     ]
    },
    {
     "name": "stderr",
     "output_type": "stream",
     "text": [
      "Transforming slices: 100%|██████████| 200/200 [00:22<00:00,  8.94it/s]\n"
     ]
    },
    {
     "name": "stdout",
     "output_type": "stream",
     "text": [
      "Transformation applied\n",
      "Material mask memory analysis:\n",
      "  Volume size: 1.77 GB\n",
      "  Available memory: 219.71 GB\n",
      "  Required estimate: 3.53 GB\n",
      "  Using parallel implementation...\n",
      "Computing material mask using parallel processing...\n",
      "Processing 16 chunks in parallel...\n",
      "Material mask generation complete.\n",
      "Starting pore detection analysis...\n",
      "Computing volume bounding box...\n",
      "Original volume shape: (200, 4840, 1960)\n",
      "Data bounding box: Z[0:199], Y[635:3871], X[147:1760]\n",
      "Cropped volume shape: (200, 3241, 1618)\n",
      "Applying Sauvola adaptive thresholding...\n",
      "Volume size: 0.98 GB\n",
      "Available memory: 198.50 GB\n",
      "Required memory estimate: 1.95 GB\n",
      "Using parallel implementation...\n",
      "Window size adjusted to 31 (must be odd)\n",
      "Applying Sauvola thresholding with parallel processing...\n",
      "Excluding front wall: slices 0 to 6\n",
      "Excluding back wall: slices 174 to end\n",
      "Generating material mask...\n",
      "Material mask memory analysis:\n",
      "  Volume size: 0.98 GB\n",
      "  Available memory: 196.35 GB\n",
      "  Required estimate: 1.95 GB\n",
      "  Using parallel implementation...\n",
      "Computing material mask using parallel processing...\n",
      "Processing 16 chunks in parallel...\n",
      "Material mask generation complete.\n",
      "Initial pore detection complete. Found 8420871 pore voxels.\n",
      "Applying pore filtering with minimum size: 8\n",
      "Cleaning pores with min_size=8...\n",
      "  Initial connected components: 1756143\n",
      "  Components after size filtering: 90464\n",
      "  Valid components after dimensional filtering: 83826\n",
      "  Components after dimensional filtering: 83826\n",
      "  Total pore voxels retained: 4964593\n",
      "After filtering: 4964593 pore voxels remaining.\n",
      "Pore detection analysis complete.\n",
      "Preprocessing and patching the images...\n",
      "Patching the images...\n",
      "Cleaning the pores...\n",
      "Creating the datasets...\n",
      "Dataset from '\\\\192.168.10.106\\imdea\\DataDriven_UT_AlbertoVicente\\04_ML_data\\Juan Ignacio\\2025 dataset\\JI_12\\patch_size_3_volfrac_areafrac.csv' loaded with ID: 207\n",
      "Dataset for registration 54 with patch size 3 saved to \\\\192.168.10.106\\imdea\\DataDriven_UT_AlbertoVicente\\04_ML_data\\Juan Ignacio\\2025 dataset\\JI_12\\patch_size_3_volfrac_areafrac.csv\n",
      "Preprocessing and patching the images...\n",
      "Patching the images...\n",
      "Cleaning the pores...\n",
      "Creating the datasets...\n",
      "Dataset from '\\\\192.168.10.106\\imdea\\DataDriven_UT_AlbertoVicente\\04_ML_data\\Juan Ignacio\\2025 dataset\\JI_12\\patch_size_5_volfrac_areafrac.csv' loaded with ID: 208\n",
      "Dataset for registration 54 with patch size 5 saved to \\\\192.168.10.106\\imdea\\DataDriven_UT_AlbertoVicente\\04_ML_data\\Juan Ignacio\\2025 dataset\\JI_12\\patch_size_5_volfrac_areafrac.csv\n",
      "Preprocessing and patching the images...\n",
      "Patching the images...\n",
      "Cleaning the pores...\n",
      "Creating the datasets...\n",
      "Dataset from '\\\\192.168.10.106\\imdea\\DataDriven_UT_AlbertoVicente\\04_ML_data\\Juan Ignacio\\2025 dataset\\JI_12\\patch_size_7_volfrac_areafrac.csv' loaded with ID: 209\n",
      "Dataset for registration 54 with patch size 7 saved to \\\\192.168.10.106\\imdea\\DataDriven_UT_AlbertoVicente\\04_ML_data\\Juan Ignacio\\2025 dataset\\JI_12\\patch_size_7_volfrac_areafrac.csv\n",
      "Preprocessing and patching the images...\n",
      "Patching the images...\n",
      "Cleaning the pores...\n",
      "Creating the datasets...\n",
      "Dataset from '\\\\192.168.10.106\\imdea\\DataDriven_UT_AlbertoVicente\\04_ML_data\\Juan Ignacio\\2025 dataset\\JI_12\\patch_size_9_volfrac_areafrac.csv' loaded with ID: 210\n",
      "Dataset for registration 54 with patch size 9 saved to \\\\192.168.10.106\\imdea\\DataDriven_UT_AlbertoVicente\\04_ML_data\\Juan Ignacio\\2025 dataset\\JI_12\\patch_size_9_volfrac_areafrac.csv\n"
     ]
    }
   ],
   "source": [
    "for i in range(len(registration_ids)):\n",
    "    reference_measurement_path = reference_measurements[i]['file_path_measurement']\n",
    "    registered_measurement_path = registered_measurements[i]['file_path_measurement']\n",
    "    registration_id = registration_ids[i]\n",
    "    sample_name = sample_names[i]\n",
    "\n",
    "    if registration_id in dataset_registrations:\n",
    "        print(f\"Dataset for registration {registration_id} already exists, skipping...\")\n",
    "        continue\n",
    "\n",
    "    print(f\"Creating dataset for registration {registration_id} with reference measurement {reference_measurement_path} and registered measurement {registered_measurement_path}\")\n",
    "\n",
    "    #load the reference and registered measurements\n",
    "    ut_volume = io.load_tif(reference_measurement_path)\n",
    "    xct_volume = io.load_tif(registered_measurement_path)\n",
    "\n",
    "    #xct_volume is z,y,x, so we need to transpose it to z,y,z\n",
    "    xct_volume = np.transpose(xct_volume, (1, 2, 0))\n",
    "    #ut_volume is z,y,x, so we need to transpose it to z,y,z\n",
    "    ut_volume = np.transpose(ut_volume, (1, 2, 0))\n",
    "\n",
    "    #apply the registration to the xct volume\n",
    "    registration_parameters = registrations_table[registrations_table['id_registration'] == registration_id]['registration_matrix_registration'].values[0]\n",
    "    registration_parameters = np.array(ast.literal_eval(registration_parameters))\n",
    "    \n",
    "    xct_volume = register.apply_registration(ut_volume,xct_volume,registration_parameters,ut_resolution,xct_resolution,parallel=True)\n",
    "\n",
    "    #get the frontwall and backwall of the xct volume\n",
    "    _,frontwall,backwall = aligner.crop_walls(xct_volume)\n",
    "\n",
    "    #back to z,y,x\n",
    "    xct_volume = np.transpose(xct_volume, (2, 0, 1))\n",
    "    ut_volume = np.transpose(ut_volume, (2, 0, 1))\n",
    "\n",
    "    #compute the onlypores\n",
    "    onlypores_volume,material_mask,_ = onlypores.onlypores(xct_volume,frontwall,backwall,min_size_filtering=8)\n",
    "\n",
    "    #create a folder for the dataset\n",
    "    dataset_folder = folder / f\"{sample_name}\"\n",
    "    dataset_folder.mkdir(parents=True, exist_ok=True)\n",
    "\n",
    "    #compute the datasets\n",
    "    \n",
    "    for patch_size in patch_sizes:\n",
    "\n",
    "        reconstruction_shape,df = datasetmaker.main(onlypores_volume,material_mask,ut_volume,xct_resolution,ut_resolution,ut_patch_size=patch_size, ut_step_size=1)\n",
    "\n",
    "        #save the dataset\n",
    "        dataset_path = dataset_folder / f\"patch_size_{patch_size}_volfrac_areafrac.csv\"\n",
    "        df.to_csv(dataset_path, index=False)\n",
    "\n",
    "        #save into the database\n",
    "        rows = len(df)\n",
    "        targets = ['volfrac','areafrac']\n",
    "        description = 'Created with the production notebook in preprocess tools v 0.1.17'\n",
    "\n",
    "        load.load_dataset(conn,\n",
    "                          datasettype_id=datasettype,\n",
    "                          file_path=str(dataset_path),\n",
    "                          rows=rows,\n",
    "                          patch_size=str(patch_size),\n",
    "                          targets=targets,\n",
    "                          reconstruction_shape=reconstruction_shape,\n",
    "                          registration_ids = [registration_id],\n",
    "                          description=description\n",
    "                          )\n",
    "\n",
    "        print(f\"Dataset for registration {registration_id} with patch size {patch_size} saved to {dataset_path}\")"
   ]
  }
 ],
 "metadata": {
  "kernelspec": {
   "display_name": "prepUTvsXCT",
   "language": "python",
   "name": "python3"
  },
  "language_info": {
   "codemirror_mode": {
    "name": "ipython",
    "version": 3
   },
   "file_extension": ".py",
   "mimetype": "text/x-python",
   "name": "python",
   "nbconvert_exporter": "python",
   "pygments_lexer": "ipython3",
   "version": "3.13.2"
  }
 },
 "nbformat": 4,
 "nbformat_minor": 5
}
