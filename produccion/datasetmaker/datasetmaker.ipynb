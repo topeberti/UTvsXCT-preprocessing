{
 "cells": [
  {
   "cell_type": "markdown",
   "id": "a02a5a1d",
   "metadata": {},
   "source": [
    "# imports"
   ]
  },
  {
   "cell_type": "code",
   "execution_count": null,
   "id": "5d8e2c49",
   "metadata": {},
   "outputs": [],
   "source": [
    "import sys\n",
    "sys.path.append(r'\\\\192.168.10.106\\imdea\\DataDriven_UT_AlbertoVicente\\10_code\\UTvsXCT-preprocessing')\n",
    "from preprocess_tools import onlypores , datasetmaker, io, aligner, register, reslicer\n",
    "import numpy as np\n",
    "from dbtools import dbtools as db\n",
    "from dbtools import load as load\n",
    "import pandas as pd\n",
    "from pathlib import Path\n",
    "import ast"
   ]
  },
  {
   "cell_type": "markdown",
   "id": "fab4b455",
   "metadata": {},
   "source": [
    "# Database conection"
   ]
  },
  {
   "cell_type": "code",
   "execution_count": null,
   "id": "a73a9e68",
   "metadata": {},
   "outputs": [],
   "source": [
    "try:\n",
    "    conn = db.connect()\n",
    "    print(\"Connected to the database\")\n",
    "except Exception as error:\n",
    "    print(error)"
   ]
  },
  {
   "cell_type": "markdown",
   "id": "5a2746cf",
   "metadata": {},
   "source": [
    "# Select measurements to create the datasets"
   ]
  },
  {
   "cell_type": "markdown",
   "id": "ff4ad166",
   "metadata": {},
   "source": [
    "## measurement type "
   ]
  },
  {
   "cell_type": "code",
   "execution_count": null,
   "id": "03105c57",
   "metadata": {},
   "outputs": [],
   "source": [
    "measurementtypes_table = db.get_data_metadata('measurementtypes')\n",
    "\n",
    "measurementtypes_table"
   ]
  },
  {
   "cell_type": "code",
   "execution_count": null,
   "id": "8d1504a2",
   "metadata": {},
   "outputs": [],
   "source": [
    "ut_type = 7\n",
    "\n",
    "xct_type = 6"
   ]
  },
  {
   "cell_type": "markdown",
   "id": "b265e500",
   "metadata": {},
   "source": [
    "## Selecting UT measurements"
   ]
  },
  {
   "cell_type": "code",
   "execution_count": null,
   "id": "9a451886",
   "metadata": {},
   "outputs": [],
   "source": [
    "ut_measurements_table = db.get_data_metadata('measurements')"
   ]
  },
  {
   "cell_type": "code",
   "execution_count": null,
   "id": "46ddc3b0",
   "metadata": {},
   "outputs": [],
   "source": [
    "ut_measurements_table = ut_measurements_table[ut_measurements_table['measurementtype_id_measurement'] == ut_type]\n",
    "\n",
    "ut_measurements_table"
   ]
  },
  {
   "cell_type": "markdown",
   "id": "27c7607b",
   "metadata": {},
   "source": [
    "## Selecting XCT measurements"
   ]
  },
  {
   "cell_type": "code",
   "execution_count": null,
   "id": "eec4d0d0",
   "metadata": {},
   "outputs": [],
   "source": [
    "xct_measurements_table = db.get_data_metadata('measurements')"
   ]
  },
  {
   "cell_type": "code",
   "execution_count": null,
   "id": "74add0a8",
   "metadata": {},
   "outputs": [],
   "source": [
    "xct_measurements_table = xct_measurements_table[xct_measurements_table['measurementtype_id_measurement'] == xct_type]\n",
    "\n",
    "xct_measurements_table"
   ]
  },
  {
   "cell_type": "markdown",
   "id": "6e064c9c",
   "metadata": {},
   "source": [
    "## Getting registered pairs"
   ]
  },
  {
   "cell_type": "code",
   "execution_count": null,
   "id": "af2a7ce8",
   "metadata": {},
   "outputs": [],
   "source": [
    "registrations_table = db.get_data_metadata('registrations')\n",
    "\n",
    "registrations_table = registrations_table[registrations_table['reference_measurement_id_registration'].isin(ut_measurements_table['id_measurement'])]\n",
    "\n",
    "registrations_table = registrations_table[registrations_table['registered_measurement_id_registration'].isin(xct_measurements_table['id_measurement'])]\n",
    "\n",
    "registrations_table"
   ]
  },
  {
   "cell_type": "code",
   "execution_count": null,
   "id": "a63123ce",
   "metadata": {},
   "outputs": [],
   "source": [
    "reference_measurements = []\n",
    "registered_measurements = []\n",
    "registration_ids = []\n",
    "\n",
    "for index, row in registrations_table.iterrows():\n",
    "\n",
    "    reference_id = row['reference_measurement_id_registration']\n",
    "    registered_id = row['registered_measurement_id_registration']\n",
    "    registration_id = row['id_registration']\n",
    "\n",
    "    reference_measurements.append(ut_measurements_table[ut_measurements_table['id_measurement'] == reference_id].iloc[0])\n",
    "    registered_measurements.append(xct_measurements_table[xct_measurements_table['id_measurement'] == registered_id].iloc[0])\n",
    "    registration_ids.append(registration_id)\n",
    "\n",
    "print(f\"Found {len(reference_measurements)} registrations\")"
   ]
  },
  {
   "cell_type": "markdown",
   "id": "4ac361f7",
   "metadata": {},
   "source": [
    "## Sample names"
   ]
  },
  {
   "cell_type": "code",
   "execution_count": null,
   "id": "7c37bbcf",
   "metadata": {},
   "outputs": [],
   "source": [
    "sample_measurements_table = db.relation_metadata('samples','measurements','sample_measurements')\n",
    "\n",
    "sample_measurements_table"
   ]
  },
  {
   "cell_type": "code",
   "execution_count": null,
   "id": "23aaadd4",
   "metadata": {},
   "outputs": [],
   "source": [
    "sample_names = []\n",
    "\n",
    "for i in range(len(reference_measurements)):\n",
    "\n",
    "    measurement = reference_measurements[i]\n",
    "    sample_names.append(sample_measurements_table[sample_measurements_table['id_measurement'] == measurement['id_measurement']].iloc[0]['name_sample'])\n",
    "\n",
    "print(f\"Found {len(sample_names)} samples\")"
   ]
  },
  {
   "cell_type": "markdown",
   "id": "6e9e8216",
   "metadata": {},
   "source": [
    "# Datasettype selection"
   ]
  },
  {
   "cell_type": "code",
   "execution_count": null,
   "id": "5d7dfe18",
   "metadata": {},
   "outputs": [],
   "source": [
    "datasettype_table = db.get_data('datasettypes')\n",
    "\n",
    "datasettype_table"
   ]
  },
  {
   "cell_type": "code",
   "execution_count": null,
   "id": "7e2b72c0",
   "metadata": {},
   "outputs": [],
   "source": [
    "datasettype = 3"
   ]
  },
  {
   "cell_type": "markdown",
   "id": "d967a966",
   "metadata": {},
   "source": [
    "# Discard already computed datasets"
   ]
  },
  {
   "cell_type": "code",
   "execution_count": null,
   "id": "9fca783d",
   "metadata": {},
   "outputs": [],
   "source": [
    "try:\n",
    "    dataset_registrations_table = db.relation_metadata('datasets','registrations','dataset_registrations')\n",
    "\n",
    "    dataset_registrations_table = dataset_registrations_table[dataset_registrations_table['datasettype_id_dataset'] == datasettype]\n",
    "\n",
    "    dataset_registrations = dataset_registrations_table['id_registration'].values\n",
    "\n",
    "except Exception as e:\n",
    "    print(\"No dataset registrations found or error occurred:\", e)\n",
    "    dataset_registrations = []"
   ]
  },
  {
   "cell_type": "markdown",
   "id": "be4bbe0e",
   "metadata": {},
   "source": [
    "# Saving folder"
   ]
  },
  {
   "cell_type": "code",
   "execution_count": null,
   "id": "112c63da",
   "metadata": {},
   "outputs": [],
   "source": [
    "folder = Path(r'\\\\192.168.10.106\\imdea\\DataDriven_UT_AlbertoVicente\\04_ML_data\\Airbus\\Panel Pegaso\\2025 dataset')"
   ]
  },
  {
   "cell_type": "markdown",
   "id": "c7a40732",
   "metadata": {},
   "source": [
    "# Patch sizes"
   ]
  },
  {
   "cell_type": "code",
   "execution_count": null,
   "id": "23175faa",
   "metadata": {},
   "outputs": [],
   "source": [
    "patch_sizes = [3, 5, 7, 9]"
   ]
  },
  {
   "cell_type": "markdown",
   "id": "1a54686d",
   "metadata": {},
   "source": [
    "# Resolutions"
   ]
  },
  {
   "cell_type": "code",
   "execution_count": null,
   "id": "fcb4f1e9",
   "metadata": {},
   "outputs": [],
   "source": [
    "xct_resolution = float(measurementtypes_table[measurementtypes_table['id_measurementtype'] == xct_type]['voxel_size_measurementtype'].values[0].split(' ')[0])\n",
    "ut_resolution = float(measurementtypes_table[measurementtypes_table['id_measurementtype'] == ut_type]['x_resolution_measurementtype'].values[0].split(' ')[0])"
   ]
  },
  {
   "cell_type": "markdown",
   "id": "22a9245b",
   "metadata": {},
   "source": [
    "# Dataset Generation"
   ]
  },
  {
   "cell_type": "code",
   "execution_count": null,
   "id": "6acc944f",
   "metadata": {},
   "outputs": [],
   "source": [
    "for i in range(len(registration_ids)):\n",
    "    reference_measurement_path = reference_measurements[i]['file_path_measurement']\n",
    "    registered_measurement_path = registered_measurements[i]['file_path_measurement']\n",
    "    registration_id = registration_ids[i]\n",
    "    sample_name = sample_names[i]\n",
    "\n",
    "    if registration_id in dataset_registrations:\n",
    "        print(f\"Dataset for registration {registration_id} already exists, skipping...\")\n",
    "        continue\n",
    "\n",
    "    print(f\"Creating dataset for registration {registration_id} with reference measurement {reference_measurement_path} and registered measurement {registered_measurement_path}\")\n",
    "\n",
    "    #load the reference and registered measurements\n",
    "    ut_volume = io.load_tif(reference_measurement_path)\n",
    "    xct_volume = io.load_tif(registered_measurement_path)\n",
    "\n",
    "    #xct_volume is z,y,x, so we need to transpose it to z,y,z\n",
    "    xct_volume = np.transpose(xct_volume, (1, 2, 0))\n",
    "    #ut_volume is z,y,x, so we need to transpose it to z,y,z\n",
    "    ut_volume = np.transpose(ut_volume, (1, 2, 0))\n",
    "\n",
    "    #apply the registration to the xct volume\n",
    "    registration_parameters = registrations_table[registrations_table['id_registration'] == registration_id]['registration_matrix_registration'].values[0]\n",
    "    registration_parameters = np.array(ast.literal_eval(registration_parameters))\n",
    "    \n",
    "    xct_volume = register.apply_registration(ut_volume,xct_volume,registration_parameters,ut_resolution,xct_resolution,parallel=True)\n",
    "\n",
    "    #get the frontwall and backwall of the xct volume\n",
    "    _,frontwall,backwall = aligner.crop_walls(xct_volume)\n",
    "\n",
    "    #back to z,y,x\n",
    "    xct_volume = np.transpose(xct_volume, (2, 0, 1))\n",
    "    ut_volume = np.transpose(ut_volume, (2, 0, 1))\n",
    "\n",
    "    #compute the onlypores\n",
    "    onlypores_volume,material_mask,_ = onlypores.onlypores(xct_volume,frontwall,backwall,min_size_filtering=8)\n",
    "\n",
    "    #create a folder for the dataset\n",
    "    dataset_folder = folder / f\"{sample_name}\"\n",
    "    dataset_folder.mkdir(parents=True, exist_ok=True)\n",
    "\n",
    "    #compute the datasets\n",
    "    \n",
    "    for patch_size in patch_sizes:\n",
    "\n",
    "        \n",
    "\n",
    "        reconstruction_shape,df = datasetmaker.main(onlypores_volume,material_mask,ut_volume,xct_resolution,ut_resolution,ut_patch_size=patch_size, ut_step_size=1)\n",
    "\n",
    "        #save the dataset\n",
    "        dataset_path = dataset_folder / f\"patch_size_{patch_size}_volfrac_areafrac.csv\"\n",
    "        df.to_csv(dataset_path, index=False)\n",
    "\n",
    "        #save into the database\n",
    "        rows = len(df)\n",
    "        targets = ['volfrac','areafrac']\n",
    "        description = 'Created with the production notebook in preprocess tools v 0.1.17'\n",
    "\n",
    "        load.load_dataset(conn,\n",
    "                          datasettype_id=datasettype,\n",
    "                          file_path=str(dataset_path),\n",
    "                          rows=rows,\n",
    "                          patch_size=str(patch_size),\n",
    "                          targets=targets,\n",
    "                          reconstruction_shape=reconstruction_shape,\n",
    "                          registration_ids = [registration_id],\n",
    "                          description=description\n",
    "                          )\n",
    "\n",
    "        print(f\"Dataset for registration {registration_id} with patch size {patch_size} saved to {dataset_path}\")"
   ]
  }
 ],
 "metadata": {
  "kernelspec": {
   "display_name": "prepUTvsXCT",
   "language": "python",
   "name": "python3"
  },
  "language_info": {
   "codemirror_mode": {
    "name": "ipython",
    "version": 3
   },
   "file_extension": ".py",
   "mimetype": "text/x-python",
   "name": "python",
   "nbconvert_exporter": "python",
   "pygments_lexer": "ipython3",
   "version": "3.13.2"
  }
 },
 "nbformat": 4,
 "nbformat_minor": 5
}
