{
 "cells": [
  {
   "cell_type": "code",
   "execution_count": 1,
   "metadata": {},
   "outputs": [],
   "source": [
    "import numpy as np\n",
    "import matplotlib.pyplot as plt\n",
    "import tifffile \n",
    "from pathlib import Path\n",
    "import os\n",
    "from tqdm import tqdm\n",
    "import sys\n",
    "import napari\n",
    "sys.path.append(r'\\\\192.168.10.106\\imdea\\DataDriven_UT_AlbertoVicente\\10_code\\UTvsXCT-preprocessing')\n",
    "from preprocess_tools import aligner, onlypores, register"
   ]
  },
  {
   "cell_type": "markdown",
   "metadata": {},
   "source": [
    "# AUX"
   ]
  },
  {
   "cell_type": "code",
   "execution_count": 2,
   "metadata": {},
   "outputs": [],
   "source": [
    "def read_sequence(folder_path):\n",
    "    \"\"\"\n",
    "    Read a sequence of TIFF files in a folder as a 3D volume.\n",
    "    \n",
    "    Args:\n",
    "    folder_path (str): Path to the folder containing TIFF files.\n",
    "\n",
    "    Returns:\n",
    "    numpy.ndarray: A 3D array where each slice corresponds to a TIFF file.\n",
    "    \"\"\"\n",
    "\n",
    "    # List and sort the TIFF files\n",
    "    tiff_files = sorted([os.path.join(folder_path, f) for f in os.listdir(folder_path) if (f.endswith('.tiff') or f.endswith('.tif'))])\n",
    "    \n",
    "    # Get the total number of TIFF files\n",
    "    total_files = len(tiff_files)\n",
    "    \n",
    "    # Read each TIFF file and update progress\n",
    "    volume = []\n",
    "    with tqdm(total=total_files, desc=\"Progress\") as pbar:\n",
    "        for i, file_path in enumerate(tiff_files):\n",
    "            slice_data = tifffile.imread(file_path)\n",
    "            volume.append(slice_data)\n",
    "            \n",
    "            # Update progress\n",
    "            pbar.update(1)\n",
    "    \n",
    "    return np.array(volume)"
   ]
  },
  {
   "cell_type": "markdown",
   "metadata": {},
   "source": [
    "# Load"
   ]
  },
  {
   "cell_type": "code",
   "execution_count": 3,
   "metadata": {},
   "outputs": [
    {
     "name": "stderr",
     "output_type": "stream",
     "text": [
      "Progress: 100%|██████████| 3224/3224 [00:37<00:00, 86.03it/s]\n"
     ]
    }
   ],
   "source": [
    "filename = Path(r'\\\\192.168.10.106\\imdea\\DataDriven_UT_AlbertoVicente\\02_XCT_data\\Juan Ignacio\\probetas\\4\\volume_eq_rotated')\n",
    "\n",
    "data = read_sequence(filename)"
   ]
  },
  {
   "cell_type": "code",
   "execution_count": 4,
   "metadata": {},
   "outputs": [
    {
     "data": {
      "text/plain": [
       "<matplotlib.image.AxesImage at 0x1c7f68082f0>"
      ]
     },
     "execution_count": 4,
     "metadata": {},
     "output_type": "execute_result"
    },
    {
     "data": {
      "image/png": "[encoded data removed]",
      "text/plain": [
       "<Figure size 640x480 with 1 Axes>"
      ]
     },
     "metadata": {},
     "output_type": "display_data"
    }
   ],
   "source": [
    "plt.imshow(data[50], cmap='gray')"
   ]
  },
  {
   "cell_type": "markdown",
   "metadata": {},
   "source": [
    "# Frontwall alignment"
   ]
  },
  {
   "cell_type": "code",
   "execution_count": 5,
   "metadata": {},
   "outputs": [
    {
     "name": "stdout",
     "output_type": "stream",
     "text": [
      "computing otsu\n"
     ]
    }
   ],
   "source": [
    "mask = onlypores.material_mask(data)"
   ]
  },
  {
   "cell_type": "code",
   "execution_count": 6,
   "metadata": {},
   "outputs": [
    {
     "name": "stderr",
     "output_type": "stream",
     "text": [
      "100%|██████████| 3224/3224 [00:05<00:00, 573.06it/s]\n"
     ]
    }
   ],
   "source": [
    "#get the first non zero pixel of each column\n",
    "first_non_zero = np.argmax(mask, axis=2)\n",
    "\n",
    "first_non_zero = first_non_zero.reshape(mask.shape[0], mask.shape[1])\n",
    "\n",
    "frontwall_volume = np.zeros_like(mask)\n",
    "\n",
    "for i in tqdm(range(frontwall_volume.shape[0])):\n",
    "    for j in range(frontwall_volume.shape[1]):\n",
    "        if (first_non_zero[i, j] != 0) or (first_non_zero[i, j] < 80):\n",
    "            frontwall_volume[i, j, first_non_zero[i, j]] = 1"
   ]
  },
  {
   "cell_type": "code",
   "execution_count": 7,
   "metadata": {},
   "outputs": [
    {
     "name": "stdout",
     "output_type": "stream",
     "text": [
      "Number of labeled features: 79713\n"
     ]
    }
   ],
   "source": [
    "#label the frontwall volume\n",
    "from scipy.ndimage import label\n",
    "\n",
    "# Label the frontwall volume\n",
    "labeled_frontwall, num_features = label(frontwall_volume)\n",
    "\n",
    "print(f\"Number of labeled features: {num_features}\")"
   ]
  },
  {
   "cell_type": "code",
   "execution_count": 8,
   "metadata": {},
   "outputs": [
    {
     "name": "stdout",
     "output_type": "stream",
     "text": [
      "Largest label: 709\n"
     ]
    }
   ],
   "source": [
    "#get the biggest label\n",
    "largest_label = np.argmax(np.bincount(labeled_frontwall.flat)[1:]) + 1  # +1 to account for the background label\n",
    "print(f\"Largest label: {largest_label}\")"
   ]
  },
  {
   "cell_type": "code",
   "execution_count": 9,
   "metadata": {},
   "outputs": [
    {
     "name": "stdout",
     "output_type": "stream",
     "text": [
      "Number of pixels in the largest label: 179900\n"
     ]
    }
   ],
   "source": [
    "#count the number of pixels in the largest label\n",
    "largest_label_count = np.sum(labeled_frontwall == largest_label)\n",
    "print(f\"Number of pixels in the largest label: {largest_label_count}\")"
   ]
  },
  {
   "cell_type": "code",
   "execution_count": 10,
   "metadata": {},
   "outputs": [],
   "source": [
    "#put to zero all the other labels\n",
    "labeled_frontwall[labeled_frontwall != largest_label] = 0"
   ]
  },
  {
   "cell_type": "code",
   "execution_count": 11,
   "metadata": {},
   "outputs": [],
   "source": [
    "#binarize the labeled frontwall\n",
    "labeled_frontwall = labeled_frontwall > 0"
   ]
  },
  {
   "cell_type": "code",
   "execution_count": 12,
   "metadata": {},
   "outputs": [
    {
     "data": {
      "text/plain": [
       "<matplotlib.image.AxesImage at 0x1c82bf24910>"
      ]
     },
     "execution_count": 12,
     "metadata": {},
     "output_type": "execute_result"
    },
    {
     "data": {
      "image/png": "[encoded data removed]",
      "text/plain": [
       "<Figure size 640x480 with 1 Axes>"
      ]
     },
     "metadata": {},
     "output_type": "display_data"
    }
   ],
   "source": [
    "plt.imshow(labeled_frontwall.max(axis=2), cmap='gray')"
   ]
  }
 ],
 "metadata": {
  "kernelspec": {
   "display_name": "Python 3",
   "language": "python",
   "name": "python3"
  },
  "language_info": {
   "codemirror_mode": {
    "name": "ipython",
    "version": 3
   },
   "file_extension": ".py",
   "mimetype": "text/x-python",
   "name": "python",
   "nbconvert_exporter": "python",
   "pygments_lexer": "ipython3",
   "version": "3.13.2"
  }
 },
 "nbformat": 4,
 "nbformat_minor": 2
}
