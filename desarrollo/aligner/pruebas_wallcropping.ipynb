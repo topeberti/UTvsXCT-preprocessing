{
 "cells": [
  {
   "cell_type": "code",
   "execution_count": null,
   "id": "02c3e06c",
   "metadata": {},
   "outputs": [],
   "source": [
    "import numpy as np\n",
    "import matplotlib.pyplot as plt\n",
    "import tifffile \n",
    "from pathlib import Path\n",
    "import os\n",
    "from tqdm import tqdm\n",
    "import sys\n",
    "sys.path.append(r'\\\\192.168.10.106\\imdea\\DataDriven_UT_AlbertoVicente\\10_code\\UTvsXCT-preprocessing')\n",
    "from preprocess_tools import aligner"
   ]
  },
  {
   "cell_type": "code",
   "execution_count": null,
   "id": "7161d68d",
   "metadata": {},
   "outputs": [],
   "source": [
    "filename = Path(r'\\\\192.168.10.106\\imdea\\DataDriven_UT_AlbertoVicente\\02_XCT_data\\Juan Ignacio\\probetas\\4\\frontal_90right3.tif')\n",
    "\n",
    "volume = tifffile.imread(filename)"
   ]
  },
  {
   "cell_type": "code",
   "execution_count": null,
   "id": "44979367",
   "metadata": {},
   "outputs": [],
   "source": [
    "volume.dtype"
   ]
  },
  {
   "cell_type": "code",
   "execution_count": null,
   "id": "22e879b9",
   "metadata": {},
   "outputs": [],
   "source": [
    "plt.imshow(volume[30], cmap='gray')"
   ]
  },
  {
   "cell_type": "code",
   "execution_count": null,
   "id": "a6cea354",
   "metadata": {},
   "outputs": [],
   "source": [
    "#axes of volume are (z, y, x)\n",
    "#transform the volume to (x, y, z)\n",
    "volume = np.transpose(volume, (2, 1, 0))\n",
    "#axes of volume are (x, y, z)\n",
    "#crop the volume to remove the walls\n",
    "\n",
    "cropped_volume = aligner.crop_walls(volume)\n",
    "\n",
    "#axes of cropped_volume are (x, y, z)\n",
    "#transform the volume to (z, y, x)\n",
    "cropped_volume = np.transpose(cropped_volume, (2, 1, 0))"
   ]
  },
  {
   "cell_type": "code",
   "execution_count": null,
   "id": "716a45c8",
   "metadata": {},
   "outputs": [],
   "source": [
    "cropped_volume.dtype"
   ]
  },
  {
   "cell_type": "code",
   "execution_count": null,
   "id": "f66dd396",
   "metadata": {},
   "outputs": [],
   "source": [
    "plt.imshow(cropped_volume[0], cmap='gray')"
   ]
  }
 ],
 "metadata": {
  "kernelspec": {
   "display_name": "Python 3",
   "language": "python",
   "name": "python3"
  },
  "language_info": {
   "codemirror_mode": {
    "name": "ipython",
    "version": 3
   },
   "file_extension": ".py",
   "mimetype": "text/x-python",
   "name": "python",
   "nbconvert_exporter": "python",
   "pygments_lexer": "ipython3",
   "version": "3.13.2"
  }
 },
 "nbformat": 4,
 "nbformat_minor": 5
}
