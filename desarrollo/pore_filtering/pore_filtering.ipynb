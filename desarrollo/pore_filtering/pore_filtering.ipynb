{
 "cells": [
  {
   "cell_type": "code",
   "execution_count": 1,
   "id": "d8725eb4",
   "metadata": {},
   "outputs": [],
   "source": [
    "import numpy as np\n",
    "import matplotlib.pyplot as plt\n",
    "import tifffile \n",
    "from pathlib import Path\n",
    "import os\n",
    "from tqdm import tqdm\n",
    "import sys\n",
    "sys.path.append(r'\\\\192.168.10.106\\imdea\\DataDriven_UT_AlbertoVicente\\10_code\\UTvsXCT-preprocessing')\n",
    "from preprocess_tools import aligner,onlypores,io,pore_filtering"
   ]
  },
  {
   "cell_type": "code",
   "execution_count": 2,
   "id": "daa693be",
   "metadata": {},
   "outputs": [],
   "source": [
    "#load the onlypores to filter\n",
    "\n",
    "file_path = Path(r'\\\\192.168.10.106\\imdea\\DataDriven_UT_AlbertoVicente\\02_XCT_data\\Fabricacion Nacho\\02_Laminados_Nacho\\Probetas\\Na_01\\Na_01_bottom_2800x214x3942_reslice_top_onlypores.tif')\n",
    "\n",
    "volume = io.load_tif(file_path)"
   ]
  },
  {
   "cell_type": "markdown",
   "id": "6bdb5f4f",
   "metadata": {},
   "source": [
    "# Size filtering"
   ]
  },
  {
   "cell_type": "markdown",
   "id": "8744806b",
   "metadata": {},
   "source": [
    "We filter pores that are smaller than 8 pixels.\n",
    "\n",
    "A further research was done to determine this value."
   ]
  },
  {
   "cell_type": "markdown",
   "id": "edef3790",
   "metadata": {},
   "source": [
    "Steps:\n",
    "\n",
    "1. Label the pores to separate them as individual objects\n",
    "\n",
    "2. Delete the ones smaller than 8 pixels"
   ]
  },
  {
   "cell_type": "code",
   "execution_count": 3,
   "id": "e4749cf3",
   "metadata": {},
   "outputs": [],
   "source": [
    "from skimage import measure,morphology\n",
    "\n",
    "# Label the pores in the volume\n",
    "labeled_pores = measure.label(volume, connectivity=1)\n",
    "\n",
    "#filter\n",
    "filtered_pores = morphology.remove_small_objects(labeled_pores, min_size=8)"
   ]
  },
  {
   "cell_type": "markdown",
   "id": "f146d368",
   "metadata": {},
   "source": [
    "# Flat filtering"
   ]
  },
  {
   "cell_type": "markdown",
   "id": "1ad3fa92",
   "metadata": {},
   "source": [
    "We are going to filter the pores that are not 3D, i mean, a pore must have at least 2 pixels in each axes.\n",
    "\n",
    "Javi told me something like this (but more technical)."
   ]
  },
  {
   "cell_type": "code",
   "execution_count": 4,
   "id": "fa8f28dd",
   "metadata": {},
   "outputs": [
    {
     "name": "stderr",
     "output_type": "stream",
     "text": [
      "100%|██████████| 137206/137206 [00:02<00:00, 64597.39it/s]\n"
     ]
    }
   ],
   "source": [
    "from skimage.measure import regionprops\n",
    "\n",
    "props = regionprops(filtered_pores)\n",
    "\n",
    "# Create a mask to keep only the objects that are 2 pixels wide in each axis\n",
    "mask = np.zeros_like(filtered_pores, dtype=bool)\n",
    "\n",
    "for prop in tqdm(props):\n",
    "    # Get the bounding box of the object\n",
    "    min_row, min_col, min_depth, max_row, max_col, max_depth = prop.bbox\n",
    "    # Check if the object is 2 pixels wide in each axis\n",
    "    if (max_row - min_row >= 2) and (max_col - min_col >= 2) and (max_depth - min_depth >= 2):\n",
    "        mask[prop.slice] = filtered_pores[prop.slice] == prop.label\n",
    "\n",
    "# Apply the mask to the labeled volume\n",
    "filtered_pores_2 = filtered_pores * mask"
   ]
  },
  {
   "cell_type": "markdown",
   "id": "9db2d438",
   "metadata": {},
   "source": [
    "# Full filtering in 1 step"
   ]
  },
  {
   "cell_type": "code",
   "execution_count": 5,
   "id": "73b3261a",
   "metadata": {},
   "outputs": [
    {
     "name": "stderr",
     "output_type": "stream",
     "text": [
      "100%|██████████| 137206/137206 [00:02<00:00, 64633.35it/s]\n"
     ]
    }
   ],
   "source": [
    "filtered_pores_3 = pore_filtering.complete_filtering(volume)"
   ]
  },
  {
   "cell_type": "code",
   "execution_count": 7,
   "id": "a43802df",
   "metadata": {},
   "outputs": [
    {
     "name": "stdout",
     "output_type": "stream",
     "text": [
      "The two filtered volumes are the same.\n"
     ]
    }
   ],
   "source": [
    "filtered_final = ((filtered_pores_2 > 0) * 255).astype(np.uint8)\n",
    "\n",
    "#compare filtered_pores_2 and filtered_pores_3 to see if they are the same\n",
    "if np.array_equal(filtered_final, filtered_pores_3):\n",
    "    print(\"The two filtered volumes are the same.\")\n",
    "else:\n",
    "    print(\"The two filtered volumes are different.\")"
   ]
  },
  {
   "cell_type": "markdown",
   "id": "a630e1ec",
   "metadata": {},
   "source": [
    "# Saving"
   ]
  },
  {
   "cell_type": "code",
   "execution_count": null,
   "id": "77770863",
   "metadata": {},
   "outputs": [],
   "source": [
    "filtered_final = ((filtered_pores_2 > 0) * 255).astype(np.uint8)\n",
    "\n",
    "# Save the filtered volume\n",
    "output_path = file_path.parent / (file_path.stem + '_filtered.tif')\n",
    "\n",
    "io.save_tif(output_path, filtered_final)"
   ]
  }
 ],
 "metadata": {
  "kernelspec": {
   "display_name": "prepUTvsXCT",
   "language": "python",
   "name": "python3"
  },
  "language_info": {
   "codemirror_mode": {
    "name": "ipython",
    "version": 3
   },
   "file_extension": ".py",
   "mimetype": "text/x-python",
   "name": "python",
   "nbconvert_exporter": "python",
   "pygments_lexer": "ipython3",
   "version": "3.13.2"
  }
 },
 "nbformat": 4,
 "nbformat_minor": 5
}
