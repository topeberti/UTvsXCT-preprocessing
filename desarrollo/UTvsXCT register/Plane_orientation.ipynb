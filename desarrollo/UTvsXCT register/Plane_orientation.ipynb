{
 "cells": [
  {
   "cell_type": "code",
   "execution_count": 5,
   "id": "52cc2fad",
   "metadata": {},
   "outputs": [],
   "source": [
    "import numpy as np\n",
    "import cv2\n",
    "from pathlib import Path\n",
    "import tifffile as tiff\n",
    "from matplotlib import pyplot as plt\n",
    "from scipy.ndimage import rotate\n",
    "import math"
   ]
  },
  {
   "cell_type": "code",
   "execution_count": 6,
   "id": "436ce544",
   "metadata": {},
   "outputs": [],
   "source": [
    "pr_num=12\n",
    "\n",
    "file_amplitude_path_UT = Path(fr'\\\\192.168.10.106\\imdea\\DataDriven_UT_AlbertoVicente\\03_UT_data\\Panel PEGASO\\probetas\\1\\{pr_num}\\{pr_num}_lente_amplitude.tif')\n",
    "volume_UT= tiff.imread(file_amplitude_path_UT)"
   ]
  },
  {
   "cell_type": "code",
   "execution_count": 7,
   "id": "4a4c84f1",
   "metadata": {},
   "outputs": [],
   "source": [
    "def nube_puntos_UT():\n",
    "    #saca nube puntos UT\n",
    "    pass\n",
    "\n",
    "def nube_puntos_XCT():\n",
    "    #saca nube puntos XCT\n",
    "    pass\n",
    "\n",
    "\n",
    "def UT_plane(volume_UT, threshold=60, return_points=False, its_UT = True):\n",
    "    \"\"\"\n",
    "    Fits a plane to the detected surface in an ultrasound volume.\n",
    "\n",
    "    Parameters:\n",
    "    - volume_UT: numpy.ndarray, 3D volume with shape (z, y, x)\n",
    "    - threshold: int, minimum amplitude value to consider a valid point\n",
    "    - return_points: bool, if True also returns the detected surface points\n",
    "\n",
    "    Returns:\n",
    "    - a, b, c: coefficients of the plane z = a*x + b*y + c\n",
    "    - (optional) surface_coords_np: array of coordinates (z, y, x) meeting the threshold\n",
    "    \"\"\"\n",
    "\n",
    "    y_max = volume_UT.shape[1]  # y-axis (i)\n",
    "    x_max = volume_UT.shape[2]  # x-axis (j)\n",
    "\n",
    "    surface_coords = []\n",
    "\n",
    "    for x in range(x_max):       # j\n",
    "        for y in range(y_max):   # i\n",
    "            A_scan = volume_UT[:, y, x]  # signal along z-axis\n",
    "\n",
    "            max_val = np.max(A_scan)\n",
    "            if max_val > threshold:\n",
    "                z = np.argmax(A_scan)  # z position of max amplitude\n",
    "                surface_coords.append((z, y, x))  # save full coordinate\n",
    "\n",
    "    if not surface_coords:\n",
    "        raise ValueError(\"No surface points found above the threshold.\")\n",
    "\n",
    "    # Convert to NumPy array\n",
    "    surface_coords_np = np.array(surface_coords)\n",
    "\n",
    "    # Extract coordinates\n",
    "    Z = surface_coords_np[:, 0]\n",
    "    Y = surface_coords_np[:, 1]\n",
    "    X = surface_coords_np[:, 2]\n",
    "\n",
    "    # Build matrix A and vector Z for least squares fit\n",
    "    A = np.c_[X, Y, np.ones_like(X)]\n",
    "    C, _, _, _ = np.linalg.lstsq(A, Z, rcond=None)  # C = [a, b, c]\n",
    "\n",
    "    a, b, c = C\n",
    "    print(f\"Fitted plane: z = {a:.4f}x + {b:.4f}y + {c:.4f}\")\n",
    "\n",
    "    if return_points:\n",
    "        return a, b, c, surface_coords_np\n",
    "    else:\n",
    "        return a, b, c\n",
    "    \n",
    "def plane_orientation(a, b):\n",
    "    #indica al documentar que es a y que es b\n",
    "    angle_yz = np.degrees(np.arctan(b))  # inclination wrt YZ plane\n",
    "    angle_xz = np.degrees(np.arctan(a))  # inclination wrt XZ plane\n",
    "    \n",
    "    print(f\"Inclination wrt YZ plane: {angle_yz:.2f} degrees\")\n",
    "    print(f\"Inclination wrt XZ plane: {angle_xz:.2f} degrees\")\n",
    "    \n",
    "    return angle_yz, angle_xz"
   ]
  },
  {
   "cell_type": "code",
   "execution_count": 8,
   "id": "5bc68e96",
   "metadata": {},
   "outputs": [
    {
     "name": "stdout",
     "output_type": "stream",
     "text": [
      "Fitted plane: z = -0.0414x + 0.0721y + 80.2237\n",
      "Inclination wrt YZ plane: 4.13 degrees\n",
      "Inclination wrt XZ plane: -2.37 degrees\n"
     ]
    }
   ],
   "source": [
    "puntos_maximos = UT_plane(volume_UT, threshold=60)\n",
    "Orientation_yz, Orientation_xz=plane_orientation(puntos_maximos[0], puntos_maximos[1])"
   ]
  }
 ],
 "metadata": {
  "kernelspec": {
   "display_name": "prepUTvsXCT",
   "language": "python",
   "name": "python3"
  },
  "language_info": {
   "codemirror_mode": {
    "name": "ipython",
    "version": 3
   },
   "file_extension": ".py",
   "mimetype": "text/x-python",
   "name": "python",
   "nbconvert_exporter": "python",
   "pygments_lexer": "ipython3",
   "version": "3.13.2"
  }
 },
 "nbformat": 4,
 "nbformat_minor": 5
}
